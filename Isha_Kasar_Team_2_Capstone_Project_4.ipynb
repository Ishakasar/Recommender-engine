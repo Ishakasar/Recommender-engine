{
  "nbformat": 4,
  "nbformat_minor": 0,
  "metadata": {
    "kernelspec": {
      "display_name": "Python 3",
      "language": "python",
      "name": "python3"
    },
    "language_info": {
      "codemirror_mode": {
        "name": "ipython",
        "version": 3
      },
      "file_extension": ".py",
      "mimetype": "text/x-python",
      "name": "python",
      "nbconvert_exporter": "python",
      "pygments_lexer": "ipython3",
      "version": "3.6.6"
    },
    "colab": {
      "name": "Isha Kasar - Team 2 - Capstone Project 4.ipynb",
      "provenance": [],
      "collapsed_sections": [],
      "include_colab_link": true
    }
  },
  "cells": [
    {
      "cell_type": "markdown",
      "metadata": {
        "id": "view-in-github",
        "colab_type": "text"
      },
      "source": [
        "<a href=\"https://colab.research.google.com/github/Ishakasar/Recommender-engine/blob/main/Isha_Kasar_Team_2_Capstone_Project_4.ipynb\" target=\"_parent\"><img src=\"https://colab.research.google.com/assets/colab-badge.svg\" alt=\"Open In Colab\"/></a>"
      ]
    },
    {
      "cell_type": "markdown",
      "metadata": {
        "id": "tOGC-qoyhJeX"
      },
      "source": [
        "# <b><u> Project Title : Build a recommender engine that reviews customer ratings and purchase history to recommend items and improve sales. </u></b>"
      ]
    },
    {
      "cell_type": "markdown",
      "metadata": {
        "id": "Y06xIdG26kRF"
      },
      "source": [
        "### Amazon.com is one of the largest electronic commerce and cloud computing companies.\n",
        "\n",
        "### Just a few Amazon related facts:\n",
        "\n",
        "### They lost $4.8 million in August 2013, when their website went down for 40 mins. They hold the patent on 1-Click buying, and licenses it to Apple. Their Phoenix fulfilment centre is a massive 1.2 million square feet. Amazon relies heavily on a Recommendation engine that reviews customer ratings and purchase history to recommend items and improve sales.\n",
        "\n",
        "\n",
        "### This is a dataset related to over 2 Million customer reviews and ratings of Beauty related products sold on their website.\n",
        "\n",
        "### It contains\n",
        "\n",
        "* ### the unique UserId (Customer Identification),\n",
        "* ### the product ASIN (Amazon's unique product identification code for each product),\n",
        "* ### Ratings (ranging from 1-5 based on customer satisfaction) and\n",
        "* ### the Timestamp of the rating (in UNIX time)\n",
        "\n",
        "### This dataset contains product reviews and metadata from Amazon, including 142.8 million reviews spanning May 1996 - July 2014.\n",
        "\n",
        "### This dataset includes reviews (ratings, text, helpfulness votes), product metadata (descriptions, category information, price, brand, and image features), and links (also viewed/also bought graphs).\n"
      ]
    },
    {
      "cell_type": "code",
      "metadata": {
        "colab": {
          "base_uri": "https://localhost:8080/"
        },
        "id": "W440mhgRkcyV",
        "outputId": "4245fdd2-6d37-4036-fc49-7fec9a1470bf"
      },
      "source": [
        "from google.colab import drive\n",
        "drive.mount('/content/drive')"
      ],
      "execution_count": 2,
      "outputs": [
        {
          "output_type": "stream",
          "text": [
            "Drive already mounted at /content/drive; to attempt to forcibly remount, call drive.mount(\"/content/drive\", force_remount=True).\n"
          ],
          "name": "stdout"
        }
      ]
    },
    {
      "cell_type": "code",
      "metadata": {
        "id": "HY5gWl7ukv_B"
      },
      "source": [
        "import numpy as np\r\n",
        "import scipy\r\n",
        "import pandas as pd\r\n",
        "import math\r\n",
        "import random\r\n",
        "import sklearn\r\n",
        "from nltk.corpus import stopwords\r\n",
        "from sklearn.model_selection import train_test_split\r\n",
        "from sklearn.feature_extraction.text import TfidfVectorizer\r\n",
        "from sklearn.metrics.pairwise import cosine_similarity\r\n",
        "from scipy.sparse.linalg import svds\r\n",
        "import matplotlib.pyplot as plt\r\n",
        "from sklearn.decomposition import TruncatedSVD\r\n"
      ],
      "execution_count": 3,
      "outputs": []
    },
    {
      "cell_type": "code",
      "metadata": {
        "id": "8wyTheqLQUTE"
      },
      "source": [
        "df1=pd.read_csv('/content/drive/MyDrive/AlmaBetter/Cohort Aravali/Module 4/Week 4/ratings_Beauty.csv')"
      ],
      "execution_count": 4,
      "outputs": []
    },
    {
      "cell_type": "code",
      "metadata": {
        "id": "ZDLcwrVmk_-U"
      },
      "source": [
        "df=pd.read_json('/content/drive/MyDrive/AlmaBetter/Cohort Aravali/Module 4/Week 4/reviews_Beauty_5.json.gz', lines = True)"
      ],
      "execution_count": 5,
      "outputs": []
    },
    {
      "cell_type": "code",
      "metadata": {
        "colab": {
          "base_uri": "https://localhost:8080/"
        },
        "id": "aKpLcYCZlms3",
        "outputId": "ab66588c-fff1-45fa-a81b-a4cf5eecbe8e"
      },
      "source": [
        "df.info()"
      ],
      "execution_count": 6,
      "outputs": [
        {
          "output_type": "stream",
          "text": [
            "<class 'pandas.core.frame.DataFrame'>\n",
            "RangeIndex: 198502 entries, 0 to 198501\n",
            "Data columns (total 9 columns):\n",
            " #   Column          Non-Null Count   Dtype \n",
            "---  ------          --------------   ----- \n",
            " 0   reviewerID      198502 non-null  object\n",
            " 1   asin            198502 non-null  object\n",
            " 2   reviewerName    197116 non-null  object\n",
            " 3   helpful         198502 non-null  object\n",
            " 4   reviewText      198502 non-null  object\n",
            " 5   overall         198502 non-null  int64 \n",
            " 6   summary         198502 non-null  object\n",
            " 7   unixReviewTime  198502 non-null  int64 \n",
            " 8   reviewTime      198502 non-null  object\n",
            "dtypes: int64(2), object(7)\n",
            "memory usage: 13.6+ MB\n"
          ],
          "name": "stdout"
        }
      ]
    },
    {
      "cell_type": "code",
      "metadata": {
        "colab": {
          "base_uri": "https://localhost:8080/",
          "height": 284
        },
        "id": "rZsrPmWKlpAZ",
        "outputId": "aaadb865-7187-43f2-d3b9-9374d62dd582"
      },
      "source": [
        "df.describe()"
      ],
      "execution_count": 7,
      "outputs": [
        {
          "output_type": "execute_result",
          "data": {
            "text/html": [
              "<div>\n",
              "<style scoped>\n",
              "    .dataframe tbody tr th:only-of-type {\n",
              "        vertical-align: middle;\n",
              "    }\n",
              "\n",
              "    .dataframe tbody tr th {\n",
              "        vertical-align: top;\n",
              "    }\n",
              "\n",
              "    .dataframe thead th {\n",
              "        text-align: right;\n",
              "    }\n",
              "</style>\n",
              "<table border=\"1\" class=\"dataframe\">\n",
              "  <thead>\n",
              "    <tr style=\"text-align: right;\">\n",
              "      <th></th>\n",
              "      <th>overall</th>\n",
              "      <th>unixReviewTime</th>\n",
              "    </tr>\n",
              "  </thead>\n",
              "  <tbody>\n",
              "    <tr>\n",
              "      <th>count</th>\n",
              "      <td>198502.000000</td>\n",
              "      <td>1.985020e+05</td>\n",
              "    </tr>\n",
              "    <tr>\n",
              "      <th>mean</th>\n",
              "      <td>4.190391</td>\n",
              "      <td>1.364450e+09</td>\n",
              "    </tr>\n",
              "    <tr>\n",
              "      <th>std</th>\n",
              "      <td>1.166580</td>\n",
              "      <td>3.841937e+07</td>\n",
              "    </tr>\n",
              "    <tr>\n",
              "      <th>min</th>\n",
              "      <td>1.000000</td>\n",
              "      <td>1.023840e+09</td>\n",
              "    </tr>\n",
              "    <tr>\n",
              "      <th>25%</th>\n",
              "      <td>4.000000</td>\n",
              "      <td>1.354493e+09</td>\n",
              "    </tr>\n",
              "    <tr>\n",
              "      <th>50%</th>\n",
              "      <td>5.000000</td>\n",
              "      <td>1.372205e+09</td>\n",
              "    </tr>\n",
              "    <tr>\n",
              "      <th>75%</th>\n",
              "      <td>5.000000</td>\n",
              "      <td>1.391213e+09</td>\n",
              "    </tr>\n",
              "    <tr>\n",
              "      <th>max</th>\n",
              "      <td>5.000000</td>\n",
              "      <td>1.406074e+09</td>\n",
              "    </tr>\n",
              "  </tbody>\n",
              "</table>\n",
              "</div>"
            ],
            "text/plain": [
              "             overall  unixReviewTime\n",
              "count  198502.000000    1.985020e+05\n",
              "mean        4.190391    1.364450e+09\n",
              "std         1.166580    3.841937e+07\n",
              "min         1.000000    1.023840e+09\n",
              "25%         4.000000    1.354493e+09\n",
              "50%         5.000000    1.372205e+09\n",
              "75%         5.000000    1.391213e+09\n",
              "max         5.000000    1.406074e+09"
            ]
          },
          "metadata": {
            "tags": []
          },
          "execution_count": 7
        }
      ]
    },
    {
      "cell_type": "code",
      "metadata": {
        "colab": {
          "base_uri": "https://localhost:8080/"
        },
        "id": "pniz1DEYluh6",
        "outputId": "cf2d2d06-60d1-4f51-bb20-36af22fbe958"
      },
      "source": [
        "df.isnull().sum()"
      ],
      "execution_count": 8,
      "outputs": [
        {
          "output_type": "execute_result",
          "data": {
            "text/plain": [
              "reviewerID           0\n",
              "asin                 0\n",
              "reviewerName      1386\n",
              "helpful              0\n",
              "reviewText           0\n",
              "overall              0\n",
              "summary              0\n",
              "unixReviewTime       0\n",
              "reviewTime           0\n",
              "dtype: int64"
            ]
          },
          "metadata": {
            "tags": []
          },
          "execution_count": 8
        }
      ]
    },
    {
      "cell_type": "code",
      "metadata": {
        "colab": {
          "base_uri": "https://localhost:8080/",
          "height": 279
        },
        "id": "Y6op2FMHmVZ0",
        "outputId": "1ec71697-d86b-436d-bf8e-9ff76d63fb6e"
      },
      "source": [
        "df.head()"
      ],
      "execution_count": 9,
      "outputs": [
        {
          "output_type": "execute_result",
          "data": {
            "text/html": [
              "<div>\n",
              "<style scoped>\n",
              "    .dataframe tbody tr th:only-of-type {\n",
              "        vertical-align: middle;\n",
              "    }\n",
              "\n",
              "    .dataframe tbody tr th {\n",
              "        vertical-align: top;\n",
              "    }\n",
              "\n",
              "    .dataframe thead th {\n",
              "        text-align: right;\n",
              "    }\n",
              "</style>\n",
              "<table border=\"1\" class=\"dataframe\">\n",
              "  <thead>\n",
              "    <tr style=\"text-align: right;\">\n",
              "      <th></th>\n",
              "      <th>reviewerID</th>\n",
              "      <th>asin</th>\n",
              "      <th>reviewerName</th>\n",
              "      <th>helpful</th>\n",
              "      <th>reviewText</th>\n",
              "      <th>overall</th>\n",
              "      <th>summary</th>\n",
              "      <th>unixReviewTime</th>\n",
              "      <th>reviewTime</th>\n",
              "    </tr>\n",
              "  </thead>\n",
              "  <tbody>\n",
              "    <tr>\n",
              "      <th>0</th>\n",
              "      <td>A1YJEY40YUW4SE</td>\n",
              "      <td>7806397051</td>\n",
              "      <td>Andrea</td>\n",
              "      <td>[3, 4]</td>\n",
              "      <td>Very oily and creamy. Not at all what I expect...</td>\n",
              "      <td>1</td>\n",
              "      <td>Don't waste your money</td>\n",
              "      <td>1391040000</td>\n",
              "      <td>01 30, 2014</td>\n",
              "    </tr>\n",
              "    <tr>\n",
              "      <th>1</th>\n",
              "      <td>A60XNB876KYML</td>\n",
              "      <td>7806397051</td>\n",
              "      <td>Jessica H.</td>\n",
              "      <td>[1, 1]</td>\n",
              "      <td>This palette was a decent price and I was look...</td>\n",
              "      <td>3</td>\n",
              "      <td>OK Palette!</td>\n",
              "      <td>1397779200</td>\n",
              "      <td>04 18, 2014</td>\n",
              "    </tr>\n",
              "    <tr>\n",
              "      <th>2</th>\n",
              "      <td>A3G6XNM240RMWA</td>\n",
              "      <td>7806397051</td>\n",
              "      <td>Karen</td>\n",
              "      <td>[0, 1]</td>\n",
              "      <td>The texture of this concealer pallet is fantas...</td>\n",
              "      <td>4</td>\n",
              "      <td>great quality</td>\n",
              "      <td>1378425600</td>\n",
              "      <td>09 6, 2013</td>\n",
              "    </tr>\n",
              "    <tr>\n",
              "      <th>3</th>\n",
              "      <td>A1PQFP6SAJ6D80</td>\n",
              "      <td>7806397051</td>\n",
              "      <td>Norah</td>\n",
              "      <td>[2, 2]</td>\n",
              "      <td>I really can't tell what exactly this thing is...</td>\n",
              "      <td>2</td>\n",
              "      <td>Do not work on my face</td>\n",
              "      <td>1386460800</td>\n",
              "      <td>12 8, 2013</td>\n",
              "    </tr>\n",
              "    <tr>\n",
              "      <th>4</th>\n",
              "      <td>A38FVHZTNQ271F</td>\n",
              "      <td>7806397051</td>\n",
              "      <td>Nova Amor</td>\n",
              "      <td>[0, 0]</td>\n",
              "      <td>It was a little smaller than I expected, but t...</td>\n",
              "      <td>3</td>\n",
              "      <td>It's okay.</td>\n",
              "      <td>1382140800</td>\n",
              "      <td>10 19, 2013</td>\n",
              "    </tr>\n",
              "  </tbody>\n",
              "</table>\n",
              "</div>"
            ],
            "text/plain": [
              "       reviewerID        asin  ... unixReviewTime   reviewTime\n",
              "0  A1YJEY40YUW4SE  7806397051  ...     1391040000  01 30, 2014\n",
              "1   A60XNB876KYML  7806397051  ...     1397779200  04 18, 2014\n",
              "2  A3G6XNM240RMWA  7806397051  ...     1378425600   09 6, 2013\n",
              "3  A1PQFP6SAJ6D80  7806397051  ...     1386460800   12 8, 2013\n",
              "4  A38FVHZTNQ271F  7806397051  ...     1382140800  10 19, 2013\n",
              "\n",
              "[5 rows x 9 columns]"
            ]
          },
          "metadata": {
            "tags": []
          },
          "execution_count": 9
        }
      ]
    },
    {
      "cell_type": "code",
      "metadata": {
        "colab": {
          "base_uri": "https://localhost:8080/"
        },
        "id": "Y2PWQnAomBgV",
        "outputId": "b8772140-2a15-457e-d8f9-990829d8a064"
      },
      "source": [
        "df.info()"
      ],
      "execution_count": 10,
      "outputs": [
        {
          "output_type": "stream",
          "text": [
            "<class 'pandas.core.frame.DataFrame'>\n",
            "RangeIndex: 198502 entries, 0 to 198501\n",
            "Data columns (total 9 columns):\n",
            " #   Column          Non-Null Count   Dtype \n",
            "---  ------          --------------   ----- \n",
            " 0   reviewerID      198502 non-null  object\n",
            " 1   asin            198502 non-null  object\n",
            " 2   reviewerName    197116 non-null  object\n",
            " 3   helpful         198502 non-null  object\n",
            " 4   reviewText      198502 non-null  object\n",
            " 5   overall         198502 non-null  int64 \n",
            " 6   summary         198502 non-null  object\n",
            " 7   unixReviewTime  198502 non-null  int64 \n",
            " 8   reviewTime      198502 non-null  object\n",
            "dtypes: int64(2), object(7)\n",
            "memory usage: 13.6+ MB\n"
          ],
          "name": "stdout"
        }
      ]
    },
    {
      "cell_type": "code",
      "metadata": {
        "colab": {
          "base_uri": "https://localhost:8080/",
          "height": 284
        },
        "id": "qlNu3O2YmG5x",
        "outputId": "704c4b03-0f3c-48b2-bc94-1b1923d5f99a"
      },
      "source": [
        "df.describe()"
      ],
      "execution_count": 11,
      "outputs": [
        {
          "output_type": "execute_result",
          "data": {
            "text/html": [
              "<div>\n",
              "<style scoped>\n",
              "    .dataframe tbody tr th:only-of-type {\n",
              "        vertical-align: middle;\n",
              "    }\n",
              "\n",
              "    .dataframe tbody tr th {\n",
              "        vertical-align: top;\n",
              "    }\n",
              "\n",
              "    .dataframe thead th {\n",
              "        text-align: right;\n",
              "    }\n",
              "</style>\n",
              "<table border=\"1\" class=\"dataframe\">\n",
              "  <thead>\n",
              "    <tr style=\"text-align: right;\">\n",
              "      <th></th>\n",
              "      <th>overall</th>\n",
              "      <th>unixReviewTime</th>\n",
              "    </tr>\n",
              "  </thead>\n",
              "  <tbody>\n",
              "    <tr>\n",
              "      <th>count</th>\n",
              "      <td>198502.000000</td>\n",
              "      <td>1.985020e+05</td>\n",
              "    </tr>\n",
              "    <tr>\n",
              "      <th>mean</th>\n",
              "      <td>4.190391</td>\n",
              "      <td>1.364450e+09</td>\n",
              "    </tr>\n",
              "    <tr>\n",
              "      <th>std</th>\n",
              "      <td>1.166580</td>\n",
              "      <td>3.841937e+07</td>\n",
              "    </tr>\n",
              "    <tr>\n",
              "      <th>min</th>\n",
              "      <td>1.000000</td>\n",
              "      <td>1.023840e+09</td>\n",
              "    </tr>\n",
              "    <tr>\n",
              "      <th>25%</th>\n",
              "      <td>4.000000</td>\n",
              "      <td>1.354493e+09</td>\n",
              "    </tr>\n",
              "    <tr>\n",
              "      <th>50%</th>\n",
              "      <td>5.000000</td>\n",
              "      <td>1.372205e+09</td>\n",
              "    </tr>\n",
              "    <tr>\n",
              "      <th>75%</th>\n",
              "      <td>5.000000</td>\n",
              "      <td>1.391213e+09</td>\n",
              "    </tr>\n",
              "    <tr>\n",
              "      <th>max</th>\n",
              "      <td>5.000000</td>\n",
              "      <td>1.406074e+09</td>\n",
              "    </tr>\n",
              "  </tbody>\n",
              "</table>\n",
              "</div>"
            ],
            "text/plain": [
              "             overall  unixReviewTime\n",
              "count  198502.000000    1.985020e+05\n",
              "mean        4.190391    1.364450e+09\n",
              "std         1.166580    3.841937e+07\n",
              "min         1.000000    1.023840e+09\n",
              "25%         4.000000    1.354493e+09\n",
              "50%         5.000000    1.372205e+09\n",
              "75%         5.000000    1.391213e+09\n",
              "max         5.000000    1.406074e+09"
            ]
          },
          "metadata": {
            "tags": []
          },
          "execution_count": 11
        }
      ]
    },
    {
      "cell_type": "code",
      "metadata": {
        "colab": {
          "base_uri": "https://localhost:8080/"
        },
        "id": "tMF2_qcYmN_P",
        "outputId": "762f8cb7-f92b-4f36-fb10-eea0c4bceddc"
      },
      "source": [
        "df.isnull().sum()"
      ],
      "execution_count": 12,
      "outputs": [
        {
          "output_type": "execute_result",
          "data": {
            "text/plain": [
              "reviewerID           0\n",
              "asin                 0\n",
              "reviewerName      1386\n",
              "helpful              0\n",
              "reviewText           0\n",
              "overall              0\n",
              "summary              0\n",
              "unixReviewTime       0\n",
              "reviewTime           0\n",
              "dtype: int64"
            ]
          },
          "metadata": {
            "tags": []
          },
          "execution_count": 12
        }
      ]
    },
    {
      "cell_type": "code",
      "metadata": {
        "colab": {
          "base_uri": "https://localhost:8080/",
          "height": 279
        },
        "id": "WVuIcDISiRm6",
        "outputId": "e729c0b0-c8f8-4fc5-f62e-3c9cae9530af"
      },
      "source": [
        "df.head()"
      ],
      "execution_count": 13,
      "outputs": [
        {
          "output_type": "execute_result",
          "data": {
            "text/html": [
              "<div>\n",
              "<style scoped>\n",
              "    .dataframe tbody tr th:only-of-type {\n",
              "        vertical-align: middle;\n",
              "    }\n",
              "\n",
              "    .dataframe tbody tr th {\n",
              "        vertical-align: top;\n",
              "    }\n",
              "\n",
              "    .dataframe thead th {\n",
              "        text-align: right;\n",
              "    }\n",
              "</style>\n",
              "<table border=\"1\" class=\"dataframe\">\n",
              "  <thead>\n",
              "    <tr style=\"text-align: right;\">\n",
              "      <th></th>\n",
              "      <th>reviewerID</th>\n",
              "      <th>asin</th>\n",
              "      <th>reviewerName</th>\n",
              "      <th>helpful</th>\n",
              "      <th>reviewText</th>\n",
              "      <th>overall</th>\n",
              "      <th>summary</th>\n",
              "      <th>unixReviewTime</th>\n",
              "      <th>reviewTime</th>\n",
              "    </tr>\n",
              "  </thead>\n",
              "  <tbody>\n",
              "    <tr>\n",
              "      <th>0</th>\n",
              "      <td>A1YJEY40YUW4SE</td>\n",
              "      <td>7806397051</td>\n",
              "      <td>Andrea</td>\n",
              "      <td>[3, 4]</td>\n",
              "      <td>Very oily and creamy. Not at all what I expect...</td>\n",
              "      <td>1</td>\n",
              "      <td>Don't waste your money</td>\n",
              "      <td>1391040000</td>\n",
              "      <td>01 30, 2014</td>\n",
              "    </tr>\n",
              "    <tr>\n",
              "      <th>1</th>\n",
              "      <td>A60XNB876KYML</td>\n",
              "      <td>7806397051</td>\n",
              "      <td>Jessica H.</td>\n",
              "      <td>[1, 1]</td>\n",
              "      <td>This palette was a decent price and I was look...</td>\n",
              "      <td>3</td>\n",
              "      <td>OK Palette!</td>\n",
              "      <td>1397779200</td>\n",
              "      <td>04 18, 2014</td>\n",
              "    </tr>\n",
              "    <tr>\n",
              "      <th>2</th>\n",
              "      <td>A3G6XNM240RMWA</td>\n",
              "      <td>7806397051</td>\n",
              "      <td>Karen</td>\n",
              "      <td>[0, 1]</td>\n",
              "      <td>The texture of this concealer pallet is fantas...</td>\n",
              "      <td>4</td>\n",
              "      <td>great quality</td>\n",
              "      <td>1378425600</td>\n",
              "      <td>09 6, 2013</td>\n",
              "    </tr>\n",
              "    <tr>\n",
              "      <th>3</th>\n",
              "      <td>A1PQFP6SAJ6D80</td>\n",
              "      <td>7806397051</td>\n",
              "      <td>Norah</td>\n",
              "      <td>[2, 2]</td>\n",
              "      <td>I really can't tell what exactly this thing is...</td>\n",
              "      <td>2</td>\n",
              "      <td>Do not work on my face</td>\n",
              "      <td>1386460800</td>\n",
              "      <td>12 8, 2013</td>\n",
              "    </tr>\n",
              "    <tr>\n",
              "      <th>4</th>\n",
              "      <td>A38FVHZTNQ271F</td>\n",
              "      <td>7806397051</td>\n",
              "      <td>Nova Amor</td>\n",
              "      <td>[0, 0]</td>\n",
              "      <td>It was a little smaller than I expected, but t...</td>\n",
              "      <td>3</td>\n",
              "      <td>It's okay.</td>\n",
              "      <td>1382140800</td>\n",
              "      <td>10 19, 2013</td>\n",
              "    </tr>\n",
              "  </tbody>\n",
              "</table>\n",
              "</div>"
            ],
            "text/plain": [
              "       reviewerID        asin  ... unixReviewTime   reviewTime\n",
              "0  A1YJEY40YUW4SE  7806397051  ...     1391040000  01 30, 2014\n",
              "1   A60XNB876KYML  7806397051  ...     1397779200  04 18, 2014\n",
              "2  A3G6XNM240RMWA  7806397051  ...     1378425600   09 6, 2013\n",
              "3  A1PQFP6SAJ6D80  7806397051  ...     1386460800   12 8, 2013\n",
              "4  A38FVHZTNQ271F  7806397051  ...     1382140800  10 19, 2013\n",
              "\n",
              "[5 rows x 9 columns]"
            ]
          },
          "metadata": {
            "tags": []
          },
          "execution_count": 13
        }
      ]
    },
    {
      "cell_type": "code",
      "metadata": {
        "colab": {
          "base_uri": "https://localhost:8080/",
          "height": 279
        },
        "id": "AWRDXmlIim40",
        "outputId": "8e842807-3d73-4e35-d9ec-2c526deda16c"
      },
      "source": [
        "df.head()"
      ],
      "execution_count": 14,
      "outputs": [
        {
          "output_type": "execute_result",
          "data": {
            "text/html": [
              "<div>\n",
              "<style scoped>\n",
              "    .dataframe tbody tr th:only-of-type {\n",
              "        vertical-align: middle;\n",
              "    }\n",
              "\n",
              "    .dataframe tbody tr th {\n",
              "        vertical-align: top;\n",
              "    }\n",
              "\n",
              "    .dataframe thead th {\n",
              "        text-align: right;\n",
              "    }\n",
              "</style>\n",
              "<table border=\"1\" class=\"dataframe\">\n",
              "  <thead>\n",
              "    <tr style=\"text-align: right;\">\n",
              "      <th></th>\n",
              "      <th>reviewerID</th>\n",
              "      <th>asin</th>\n",
              "      <th>reviewerName</th>\n",
              "      <th>helpful</th>\n",
              "      <th>reviewText</th>\n",
              "      <th>overall</th>\n",
              "      <th>summary</th>\n",
              "      <th>unixReviewTime</th>\n",
              "      <th>reviewTime</th>\n",
              "    </tr>\n",
              "  </thead>\n",
              "  <tbody>\n",
              "    <tr>\n",
              "      <th>0</th>\n",
              "      <td>A1YJEY40YUW4SE</td>\n",
              "      <td>7806397051</td>\n",
              "      <td>Andrea</td>\n",
              "      <td>[3, 4]</td>\n",
              "      <td>Very oily and creamy. Not at all what I expect...</td>\n",
              "      <td>1</td>\n",
              "      <td>Don't waste your money</td>\n",
              "      <td>1391040000</td>\n",
              "      <td>01 30, 2014</td>\n",
              "    </tr>\n",
              "    <tr>\n",
              "      <th>1</th>\n",
              "      <td>A60XNB876KYML</td>\n",
              "      <td>7806397051</td>\n",
              "      <td>Jessica H.</td>\n",
              "      <td>[1, 1]</td>\n",
              "      <td>This palette was a decent price and I was look...</td>\n",
              "      <td>3</td>\n",
              "      <td>OK Palette!</td>\n",
              "      <td>1397779200</td>\n",
              "      <td>04 18, 2014</td>\n",
              "    </tr>\n",
              "    <tr>\n",
              "      <th>2</th>\n",
              "      <td>A3G6XNM240RMWA</td>\n",
              "      <td>7806397051</td>\n",
              "      <td>Karen</td>\n",
              "      <td>[0, 1]</td>\n",
              "      <td>The texture of this concealer pallet is fantas...</td>\n",
              "      <td>4</td>\n",
              "      <td>great quality</td>\n",
              "      <td>1378425600</td>\n",
              "      <td>09 6, 2013</td>\n",
              "    </tr>\n",
              "    <tr>\n",
              "      <th>3</th>\n",
              "      <td>A1PQFP6SAJ6D80</td>\n",
              "      <td>7806397051</td>\n",
              "      <td>Norah</td>\n",
              "      <td>[2, 2]</td>\n",
              "      <td>I really can't tell what exactly this thing is...</td>\n",
              "      <td>2</td>\n",
              "      <td>Do not work on my face</td>\n",
              "      <td>1386460800</td>\n",
              "      <td>12 8, 2013</td>\n",
              "    </tr>\n",
              "    <tr>\n",
              "      <th>4</th>\n",
              "      <td>A38FVHZTNQ271F</td>\n",
              "      <td>7806397051</td>\n",
              "      <td>Nova Amor</td>\n",
              "      <td>[0, 0]</td>\n",
              "      <td>It was a little smaller than I expected, but t...</td>\n",
              "      <td>3</td>\n",
              "      <td>It's okay.</td>\n",
              "      <td>1382140800</td>\n",
              "      <td>10 19, 2013</td>\n",
              "    </tr>\n",
              "  </tbody>\n",
              "</table>\n",
              "</div>"
            ],
            "text/plain": [
              "       reviewerID        asin  ... unixReviewTime   reviewTime\n",
              "0  A1YJEY40YUW4SE  7806397051  ...     1391040000  01 30, 2014\n",
              "1   A60XNB876KYML  7806397051  ...     1397779200  04 18, 2014\n",
              "2  A3G6XNM240RMWA  7806397051  ...     1378425600   09 6, 2013\n",
              "3  A1PQFP6SAJ6D80  7806397051  ...     1386460800   12 8, 2013\n",
              "4  A38FVHZTNQ271F  7806397051  ...     1382140800  10 19, 2013\n",
              "\n",
              "[5 rows x 9 columns]"
            ]
          },
          "metadata": {
            "tags": []
          },
          "execution_count": 14
        }
      ]
    },
    {
      "cell_type": "code",
      "metadata": {
        "id": "CdcuyJETfct5"
      },
      "source": [
        "df.rename(columns={\"reviewerID\": \"UserId\", \"asin\": \"ProductId\"}, inplace=True)\r\n",
        "df['Rating'] = df1['Rating']\r\n"
      ],
      "execution_count": 15,
      "outputs": []
    },
    {
      "cell_type": "code",
      "metadata": {
        "colab": {
          "base_uri": "https://localhost:8080/"
        },
        "id": "6R-IIs5Mgj02",
        "outputId": "ca0db01c-318a-422c-af6e-2d1807a745d8"
      },
      "source": [
        "df.shape"
      ],
      "execution_count": 16,
      "outputs": [
        {
          "output_type": "execute_result",
          "data": {
            "text/plain": [
              "(198502, 10)"
            ]
          },
          "metadata": {
            "tags": []
          },
          "execution_count": 16
        }
      ]
    },
    {
      "cell_type": "code",
      "metadata": {
        "id": "2WhoMqDBghQk"
      },
      "source": [
        "df.dropna(inplace = True)"
      ],
      "execution_count": 17,
      "outputs": []
    },
    {
      "cell_type": "code",
      "metadata": {
        "colab": {
          "base_uri": "https://localhost:8080/"
        },
        "id": "HfiDQfqugpH7",
        "outputId": "f75b4e85-9132-4de7-afce-cfabbb0cadff"
      },
      "source": [
        "df.shape"
      ],
      "execution_count": 18,
      "outputs": [
        {
          "output_type": "execute_result",
          "data": {
            "text/plain": [
              "(197116, 10)"
            ]
          },
          "metadata": {
            "tags": []
          },
          "execution_count": 18
        }
      ]
    },
    {
      "cell_type": "code",
      "metadata": {
        "colab": {
          "base_uri": "https://localhost:8080/",
          "height": 346
        },
        "id": "BiIYRLQPg1vs",
        "outputId": "1352c44d-cec1-4d8f-9ce0-2bf00c931eb1"
      },
      "source": [
        "df.head()"
      ],
      "execution_count": 19,
      "outputs": [
        {
          "output_type": "execute_result",
          "data": {
            "text/html": [
              "<div>\n",
              "<style scoped>\n",
              "    .dataframe tbody tr th:only-of-type {\n",
              "        vertical-align: middle;\n",
              "    }\n",
              "\n",
              "    .dataframe tbody tr th {\n",
              "        vertical-align: top;\n",
              "    }\n",
              "\n",
              "    .dataframe thead th {\n",
              "        text-align: right;\n",
              "    }\n",
              "</style>\n",
              "<table border=\"1\" class=\"dataframe\">\n",
              "  <thead>\n",
              "    <tr style=\"text-align: right;\">\n",
              "      <th></th>\n",
              "      <th>UserId</th>\n",
              "      <th>ProductId</th>\n",
              "      <th>reviewerName</th>\n",
              "      <th>helpful</th>\n",
              "      <th>reviewText</th>\n",
              "      <th>overall</th>\n",
              "      <th>summary</th>\n",
              "      <th>unixReviewTime</th>\n",
              "      <th>reviewTime</th>\n",
              "      <th>Rating</th>\n",
              "    </tr>\n",
              "  </thead>\n",
              "  <tbody>\n",
              "    <tr>\n",
              "      <th>0</th>\n",
              "      <td>A1YJEY40YUW4SE</td>\n",
              "      <td>7806397051</td>\n",
              "      <td>Andrea</td>\n",
              "      <td>[3, 4]</td>\n",
              "      <td>Very oily and creamy. Not at all what I expect...</td>\n",
              "      <td>1</td>\n",
              "      <td>Don't waste your money</td>\n",
              "      <td>1391040000</td>\n",
              "      <td>01 30, 2014</td>\n",
              "      <td>5.0</td>\n",
              "    </tr>\n",
              "    <tr>\n",
              "      <th>1</th>\n",
              "      <td>A60XNB876KYML</td>\n",
              "      <td>7806397051</td>\n",
              "      <td>Jessica H.</td>\n",
              "      <td>[1, 1]</td>\n",
              "      <td>This palette was a decent price and I was look...</td>\n",
              "      <td>3</td>\n",
              "      <td>OK Palette!</td>\n",
              "      <td>1397779200</td>\n",
              "      <td>04 18, 2014</td>\n",
              "      <td>3.0</td>\n",
              "    </tr>\n",
              "    <tr>\n",
              "      <th>2</th>\n",
              "      <td>A3G6XNM240RMWA</td>\n",
              "      <td>7806397051</td>\n",
              "      <td>Karen</td>\n",
              "      <td>[0, 1]</td>\n",
              "      <td>The texture of this concealer pallet is fantas...</td>\n",
              "      <td>4</td>\n",
              "      <td>great quality</td>\n",
              "      <td>1378425600</td>\n",
              "      <td>09 6, 2013</td>\n",
              "      <td>5.0</td>\n",
              "    </tr>\n",
              "    <tr>\n",
              "      <th>3</th>\n",
              "      <td>A1PQFP6SAJ6D80</td>\n",
              "      <td>7806397051</td>\n",
              "      <td>Norah</td>\n",
              "      <td>[2, 2]</td>\n",
              "      <td>I really can't tell what exactly this thing is...</td>\n",
              "      <td>2</td>\n",
              "      <td>Do not work on my face</td>\n",
              "      <td>1386460800</td>\n",
              "      <td>12 8, 2013</td>\n",
              "      <td>4.0</td>\n",
              "    </tr>\n",
              "    <tr>\n",
              "      <th>4</th>\n",
              "      <td>A38FVHZTNQ271F</td>\n",
              "      <td>7806397051</td>\n",
              "      <td>Nova Amor</td>\n",
              "      <td>[0, 0]</td>\n",
              "      <td>It was a little smaller than I expected, but t...</td>\n",
              "      <td>3</td>\n",
              "      <td>It's okay.</td>\n",
              "      <td>1382140800</td>\n",
              "      <td>10 19, 2013</td>\n",
              "      <td>1.0</td>\n",
              "    </tr>\n",
              "  </tbody>\n",
              "</table>\n",
              "</div>"
            ],
            "text/plain": [
              "           UserId   ProductId reviewerName  ... unixReviewTime   reviewTime  Rating\n",
              "0  A1YJEY40YUW4SE  7806397051       Andrea  ...     1391040000  01 30, 2014     5.0\n",
              "1   A60XNB876KYML  7806397051   Jessica H.  ...     1397779200  04 18, 2014     3.0\n",
              "2  A3G6XNM240RMWA  7806397051        Karen  ...     1378425600   09 6, 2013     5.0\n",
              "3  A1PQFP6SAJ6D80  7806397051        Norah  ...     1386460800   12 8, 2013     4.0\n",
              "4  A38FVHZTNQ271F  7806397051    Nova Amor  ...     1382140800  10 19, 2013     1.0\n",
              "\n",
              "[5 rows x 10 columns]"
            ]
          },
          "metadata": {
            "tags": []
          },
          "execution_count": 19
        }
      ]
    },
    {
      "cell_type": "code",
      "metadata": {
        "id": "-TvwMcRuidZ6"
      },
      "source": [
        "df.drop(['reviewerName',\t'helpful',\t'reviewText',\t'overall',\t'summary',\t'unixReviewTime',\t'reviewTime'], axis = 1, inplace = True)"
      ],
      "execution_count": 20,
      "outputs": []
    },
    {
      "cell_type": "code",
      "metadata": {
        "id": "YIKf-V0VjbC3",
        "colab": {
          "base_uri": "https://localhost:8080/"
        },
        "outputId": "e66b37bd-40b9-44ee-85c9-d3b90f4150c9"
      },
      "source": [
        "users_interactions_count_df = df.groupby(['UserId', 'ProductId']).size().groupby('UserId').size()\r\n",
        "print('# of users: %d' % len(users_interactions_count_df))\r\n",
        "\r\n",
        "interaction_df = users_interactions_count_df[users_interactions_count_df >= 5].reset_index()[['UserId']]\r\n",
        "print('# of users with at least 5 interactions: %d' % len(interaction_df))"
      ],
      "execution_count": 22,
      "outputs": [
        {
          "output_type": "stream",
          "text": [
            "# of users: 22345\n",
            "# of users with at least 5 interactions: 22110\n"
          ],
          "name": "stdout"
        }
      ]
    },
    {
      "cell_type": "code",
      "metadata": {
        "colab": {
          "base_uri": "https://localhost:8080/"
        },
        "id": "7HyggXoOAj_0",
        "outputId": "b064e6a9-48b0-4c8c-f7b1-1333592ab1a8"
      },
      "source": [
        "users_interactions_count_df.head()"
      ],
      "execution_count": 23,
      "outputs": [
        {
          "output_type": "execute_result",
          "data": {
            "text/plain": [
              "UserId\n",
              "A00414041RD0BXM6WK0GX    6\n",
              "A00473363TJ8YSZ3YAGG9    6\n",
              "A00700212KB3K0MVESPIY    9\n",
              "A0078719IR14X3NNUG0F     8\n",
              "A01198201H0E3GHV2Z17I    7\n",
              "dtype: int64"
            ]
          },
          "metadata": {
            "tags": []
          },
          "execution_count": 23
        }
      ]
    },
    {
      "cell_type": "code",
      "metadata": {
        "colab": {
          "base_uri": "https://localhost:8080/",
          "height": 195
        },
        "id": "KbJPbrO3AJAO",
        "outputId": "97c4c7f9-6f6b-421d-c2cb-732eb7b42681"
      },
      "source": [
        "interaction_df.head()"
      ],
      "execution_count": 24,
      "outputs": [
        {
          "output_type": "execute_result",
          "data": {
            "text/html": [
              "<div>\n",
              "<style scoped>\n",
              "    .dataframe tbody tr th:only-of-type {\n",
              "        vertical-align: middle;\n",
              "    }\n",
              "\n",
              "    .dataframe tbody tr th {\n",
              "        vertical-align: top;\n",
              "    }\n",
              "\n",
              "    .dataframe thead th {\n",
              "        text-align: right;\n",
              "    }\n",
              "</style>\n",
              "<table border=\"1\" class=\"dataframe\">\n",
              "  <thead>\n",
              "    <tr style=\"text-align: right;\">\n",
              "      <th></th>\n",
              "      <th>UserId</th>\n",
              "    </tr>\n",
              "  </thead>\n",
              "  <tbody>\n",
              "    <tr>\n",
              "      <th>0</th>\n",
              "      <td>A00414041RD0BXM6WK0GX</td>\n",
              "    </tr>\n",
              "    <tr>\n",
              "      <th>1</th>\n",
              "      <td>A00473363TJ8YSZ3YAGG9</td>\n",
              "    </tr>\n",
              "    <tr>\n",
              "      <th>2</th>\n",
              "      <td>A00700212KB3K0MVESPIY</td>\n",
              "    </tr>\n",
              "    <tr>\n",
              "      <th>3</th>\n",
              "      <td>A0078719IR14X3NNUG0F</td>\n",
              "    </tr>\n",
              "    <tr>\n",
              "      <th>4</th>\n",
              "      <td>A01198201H0E3GHV2Z17I</td>\n",
              "    </tr>\n",
              "  </tbody>\n",
              "</table>\n",
              "</div>"
            ],
            "text/plain": [
              "                  UserId\n",
              "0  A00414041RD0BXM6WK0GX\n",
              "1  A00473363TJ8YSZ3YAGG9\n",
              "2  A00700212KB3K0MVESPIY\n",
              "3   A0078719IR14X3NNUG0F\n",
              "4  A01198201H0E3GHV2Z17I"
            ]
          },
          "metadata": {
            "tags": []
          },
          "execution_count": 24
        }
      ]
    },
    {
      "cell_type": "code",
      "metadata": {
        "colab": {
          "base_uri": "https://localhost:8080/"
        },
        "id": "uud76LL3AR0n",
        "outputId": "15456845-d6dd-49b5-fec1-555cd02c4639"
      },
      "source": [
        "interactions_from_selected_users_df = df.merge(interaction_df, \r\n",
        "               how = 'right',\r\n",
        "               left_on = 'UserId',\r\n",
        "               right_on = 'UserId')\r\n",
        "print('# of interactions from users with at least 5 interactions: %d' % len(interactions_from_selected_users_df))"
      ],
      "execution_count": 25,
      "outputs": [
        {
          "output_type": "stream",
          "text": [
            "# of interactions from users with at least 5 interactions: 196257\n"
          ],
          "name": "stdout"
        }
      ]
    },
    {
      "cell_type": "code",
      "metadata": {
        "colab": {
          "base_uri": "https://localhost:8080/",
          "height": 639
        },
        "id": "XGGKRg7hCPwD",
        "outputId": "885231d7-dbf9-484d-e78a-2bf9d4ccf119"
      },
      "source": [
        "interactions_from_selected_users_df.head(20)"
      ],
      "execution_count": 26,
      "outputs": [
        {
          "output_type": "execute_result",
          "data": {
            "text/html": [
              "<div>\n",
              "<style scoped>\n",
              "    .dataframe tbody tr th:only-of-type {\n",
              "        vertical-align: middle;\n",
              "    }\n",
              "\n",
              "    .dataframe tbody tr th {\n",
              "        vertical-align: top;\n",
              "    }\n",
              "\n",
              "    .dataframe thead th {\n",
              "        text-align: right;\n",
              "    }\n",
              "</style>\n",
              "<table border=\"1\" class=\"dataframe\">\n",
              "  <thead>\n",
              "    <tr style=\"text-align: right;\">\n",
              "      <th></th>\n",
              "      <th>UserId</th>\n",
              "      <th>ProductId</th>\n",
              "      <th>Rating</th>\n",
              "    </tr>\n",
              "  </thead>\n",
              "  <tbody>\n",
              "    <tr>\n",
              "      <th>0</th>\n",
              "      <td>A00414041RD0BXM6WK0GX</td>\n",
              "      <td>B007IY97U0</td>\n",
              "      <td>5.0</td>\n",
              "    </tr>\n",
              "    <tr>\n",
              "      <th>1</th>\n",
              "      <td>A00414041RD0BXM6WK0GX</td>\n",
              "      <td>B00870XLDS</td>\n",
              "      <td>1.0</td>\n",
              "    </tr>\n",
              "    <tr>\n",
              "      <th>2</th>\n",
              "      <td>A00414041RD0BXM6WK0GX</td>\n",
              "      <td>B008MIRO88</td>\n",
              "      <td>5.0</td>\n",
              "    </tr>\n",
              "    <tr>\n",
              "      <th>3</th>\n",
              "      <td>A00414041RD0BXM6WK0GX</td>\n",
              "      <td>B00BQYYMN0</td>\n",
              "      <td>5.0</td>\n",
              "    </tr>\n",
              "    <tr>\n",
              "      <th>4</th>\n",
              "      <td>A00414041RD0BXM6WK0GX</td>\n",
              "      <td>B00GRTQBTM</td>\n",
              "      <td>5.0</td>\n",
              "    </tr>\n",
              "    <tr>\n",
              "      <th>5</th>\n",
              "      <td>A00414041RD0BXM6WK0GX</td>\n",
              "      <td>B00HFP4JZU</td>\n",
              "      <td>5.0</td>\n",
              "    </tr>\n",
              "    <tr>\n",
              "      <th>6</th>\n",
              "      <td>A00473363TJ8YSZ3YAGG9</td>\n",
              "      <td>B000052YQU</td>\n",
              "      <td>5.0</td>\n",
              "    </tr>\n",
              "    <tr>\n",
              "      <th>7</th>\n",
              "      <td>A00473363TJ8YSZ3YAGG9</td>\n",
              "      <td>B0019LVFI0</td>\n",
              "      <td>5.0</td>\n",
              "    </tr>\n",
              "    <tr>\n",
              "      <th>8</th>\n",
              "      <td>A00473363TJ8YSZ3YAGG9</td>\n",
              "      <td>B001L2BEWE</td>\n",
              "      <td>5.0</td>\n",
              "    </tr>\n",
              "    <tr>\n",
              "      <th>9</th>\n",
              "      <td>A00473363TJ8YSZ3YAGG9</td>\n",
              "      <td>B0020HEBX8</td>\n",
              "      <td>5.0</td>\n",
              "    </tr>\n",
              "    <tr>\n",
              "      <th>10</th>\n",
              "      <td>A00473363TJ8YSZ3YAGG9</td>\n",
              "      <td>B006R5GXCG</td>\n",
              "      <td>5.0</td>\n",
              "    </tr>\n",
              "    <tr>\n",
              "      <th>11</th>\n",
              "      <td>A00473363TJ8YSZ3YAGG9</td>\n",
              "      <td>B00B18C2RE</td>\n",
              "      <td>4.0</td>\n",
              "    </tr>\n",
              "    <tr>\n",
              "      <th>12</th>\n",
              "      <td>A00700212KB3K0MVESPIY</td>\n",
              "      <td>B00028M3N2</td>\n",
              "      <td>4.0</td>\n",
              "    </tr>\n",
              "    <tr>\n",
              "      <th>13</th>\n",
              "      <td>A00700212KB3K0MVESPIY</td>\n",
              "      <td>B001MP0T2Q</td>\n",
              "      <td>5.0</td>\n",
              "    </tr>\n",
              "    <tr>\n",
              "      <th>14</th>\n",
              "      <td>A00700212KB3K0MVESPIY</td>\n",
              "      <td>B001RMP7M6</td>\n",
              "      <td>3.0</td>\n",
              "    </tr>\n",
              "    <tr>\n",
              "      <th>15</th>\n",
              "      <td>A00700212KB3K0MVESPIY</td>\n",
              "      <td>B0035RF85C</td>\n",
              "      <td>4.0</td>\n",
              "    </tr>\n",
              "    <tr>\n",
              "      <th>16</th>\n",
              "      <td>A00700212KB3K0MVESPIY</td>\n",
              "      <td>B003TMO3EU</td>\n",
              "      <td>4.0</td>\n",
              "    </tr>\n",
              "    <tr>\n",
              "      <th>17</th>\n",
              "      <td>A00700212KB3K0MVESPIY</td>\n",
              "      <td>B005Y5VL4U</td>\n",
              "      <td>1.0</td>\n",
              "    </tr>\n",
              "    <tr>\n",
              "      <th>18</th>\n",
              "      <td>A00700212KB3K0MVESPIY</td>\n",
              "      <td>B006GK5NNW</td>\n",
              "      <td>5.0</td>\n",
              "    </tr>\n",
              "    <tr>\n",
              "      <th>19</th>\n",
              "      <td>A00700212KB3K0MVESPIY</td>\n",
              "      <td>B007EZ0CC0</td>\n",
              "      <td>5.0</td>\n",
              "    </tr>\n",
              "  </tbody>\n",
              "</table>\n",
              "</div>"
            ],
            "text/plain": [
              "                   UserId   ProductId  Rating\n",
              "0   A00414041RD0BXM6WK0GX  B007IY97U0     5.0\n",
              "1   A00414041RD0BXM6WK0GX  B00870XLDS     1.0\n",
              "2   A00414041RD0BXM6WK0GX  B008MIRO88     5.0\n",
              "3   A00414041RD0BXM6WK0GX  B00BQYYMN0     5.0\n",
              "4   A00414041RD0BXM6WK0GX  B00GRTQBTM     5.0\n",
              "5   A00414041RD0BXM6WK0GX  B00HFP4JZU     5.0\n",
              "6   A00473363TJ8YSZ3YAGG9  B000052YQU     5.0\n",
              "7   A00473363TJ8YSZ3YAGG9  B0019LVFI0     5.0\n",
              "8   A00473363TJ8YSZ3YAGG9  B001L2BEWE     5.0\n",
              "9   A00473363TJ8YSZ3YAGG9  B0020HEBX8     5.0\n",
              "10  A00473363TJ8YSZ3YAGG9  B006R5GXCG     5.0\n",
              "11  A00473363TJ8YSZ3YAGG9  B00B18C2RE     4.0\n",
              "12  A00700212KB3K0MVESPIY  B00028M3N2     4.0\n",
              "13  A00700212KB3K0MVESPIY  B001MP0T2Q     5.0\n",
              "14  A00700212KB3K0MVESPIY  B001RMP7M6     3.0\n",
              "15  A00700212KB3K0MVESPIY  B0035RF85C     4.0\n",
              "16  A00700212KB3K0MVESPIY  B003TMO3EU     4.0\n",
              "17  A00700212KB3K0MVESPIY  B005Y5VL4U     1.0\n",
              "18  A00700212KB3K0MVESPIY  B006GK5NNW     5.0\n",
              "19  A00700212KB3K0MVESPIY  B007EZ0CC0     5.0"
            ]
          },
          "metadata": {
            "tags": []
          },
          "execution_count": 26
        }
      ]
    },
    {
      "cell_type": "code",
      "metadata": {
        "colab": {
          "base_uri": "https://localhost:8080/"
        },
        "id": "HbRUdhCgCSBX",
        "outputId": "bac86937-e9aa-44cd-b11b-f749104e9b61"
      },
      "source": [
        "df.shape"
      ],
      "execution_count": 27,
      "outputs": [
        {
          "output_type": "execute_result",
          "data": {
            "text/plain": [
              "(197116, 3)"
            ]
          },
          "metadata": {
            "tags": []
          },
          "execution_count": 27
        }
      ]
    },
    {
      "cell_type": "code",
      "metadata": {
        "colab": {
          "base_uri": "https://localhost:8080/"
        },
        "id": "U53bPTtjCVm6",
        "outputId": "ea8a3326-2364-46ad-8783-2795cb54e7c9"
      },
      "source": [
        "interactions_from_selected_users_df.shape"
      ],
      "execution_count": 28,
      "outputs": [
        {
          "output_type": "execute_result",
          "data": {
            "text/plain": [
              "(196257, 3)"
            ]
          },
          "metadata": {
            "tags": []
          },
          "execution_count": 28
        }
      ]
    },
    {
      "cell_type": "code",
      "metadata": {
        "colab": {
          "base_uri": "https://localhost:8080/",
          "height": 212
        },
        "id": "4pght7O4CbJi",
        "outputId": "fbe4d750-9372-4051-d0b7-fe4996e0faac"
      },
      "source": [
        "import math\r\n",
        "def smooth_user_preference(x):\r\n",
        "    return math.log(1+x, 2)\r\n",
        "    \r\n",
        "interactions_full_df = interactions_from_selected_users_df.groupby(['UserId', 'ProductId'])['Rating'].sum().apply(smooth_user_preference).reset_index()\r\n",
        "print('# of unique user/item interactions: %d' % len(interactions_full_df))\r\n",
        "interactions_full_df.head()"
      ],
      "execution_count": 29,
      "outputs": [
        {
          "output_type": "stream",
          "text": [
            "# of unique user/item interactions: 196257\n"
          ],
          "name": "stdout"
        },
        {
          "output_type": "execute_result",
          "data": {
            "text/html": [
              "<div>\n",
              "<style scoped>\n",
              "    .dataframe tbody tr th:only-of-type {\n",
              "        vertical-align: middle;\n",
              "    }\n",
              "\n",
              "    .dataframe tbody tr th {\n",
              "        vertical-align: top;\n",
              "    }\n",
              "\n",
              "    .dataframe thead th {\n",
              "        text-align: right;\n",
              "    }\n",
              "</style>\n",
              "<table border=\"1\" class=\"dataframe\">\n",
              "  <thead>\n",
              "    <tr style=\"text-align: right;\">\n",
              "      <th></th>\n",
              "      <th>UserId</th>\n",
              "      <th>ProductId</th>\n",
              "      <th>Rating</th>\n",
              "    </tr>\n",
              "  </thead>\n",
              "  <tbody>\n",
              "    <tr>\n",
              "      <th>0</th>\n",
              "      <td>A00414041RD0BXM6WK0GX</td>\n",
              "      <td>B007IY97U0</td>\n",
              "      <td>2.584963</td>\n",
              "    </tr>\n",
              "    <tr>\n",
              "      <th>1</th>\n",
              "      <td>A00414041RD0BXM6WK0GX</td>\n",
              "      <td>B00870XLDS</td>\n",
              "      <td>1.000000</td>\n",
              "    </tr>\n",
              "    <tr>\n",
              "      <th>2</th>\n",
              "      <td>A00414041RD0BXM6WK0GX</td>\n",
              "      <td>B008MIRO88</td>\n",
              "      <td>2.584963</td>\n",
              "    </tr>\n",
              "    <tr>\n",
              "      <th>3</th>\n",
              "      <td>A00414041RD0BXM6WK0GX</td>\n",
              "      <td>B00BQYYMN0</td>\n",
              "      <td>2.584963</td>\n",
              "    </tr>\n",
              "    <tr>\n",
              "      <th>4</th>\n",
              "      <td>A00414041RD0BXM6WK0GX</td>\n",
              "      <td>B00GRTQBTM</td>\n",
              "      <td>2.584963</td>\n",
              "    </tr>\n",
              "  </tbody>\n",
              "</table>\n",
              "</div>"
            ],
            "text/plain": [
              "                  UserId   ProductId    Rating\n",
              "0  A00414041RD0BXM6WK0GX  B007IY97U0  2.584963\n",
              "1  A00414041RD0BXM6WK0GX  B00870XLDS  1.000000\n",
              "2  A00414041RD0BXM6WK0GX  B008MIRO88  2.584963\n",
              "3  A00414041RD0BXM6WK0GX  B00BQYYMN0  2.584963\n",
              "4  A00414041RD0BXM6WK0GX  B00GRTQBTM  2.584963"
            ]
          },
          "metadata": {
            "tags": []
          },
          "execution_count": 29
        }
      ]
    },
    {
      "cell_type": "code",
      "metadata": {
        "id": "ZavgRoY7EaIk"
      },
      "source": [
        "interactions_train_df, interactions_test_df = train_test_split(interactions_full_df,\r\n",
        "                                   stratify=interactions_full_df['UserId'], \r\n",
        "                                   test_size=0.30,\r\n",
        "                                   random_state=42)"
      ],
      "execution_count": 30,
      "outputs": []
    },
    {
      "cell_type": "code",
      "metadata": {
        "colab": {
          "base_uri": "https://localhost:8080/"
        },
        "id": "Lg8A5tkRFUYr",
        "outputId": "809ae5e0-271c-40a9-bfc6-a65282a68378"
      },
      "source": [
        "\r\n",
        "print('# interactions on Train set: %d' % len(interactions_train_df))\r\n",
        "print('# interactions on Test set: %d' % len(interactions_test_df))"
      ],
      "execution_count": 31,
      "outputs": [
        {
          "output_type": "stream",
          "text": [
            "# interactions on Train set: 137379\n",
            "# interactions on Test set: 58878\n"
          ],
          "name": "stdout"
        }
      ]
    },
    {
      "cell_type": "markdown",
      "metadata": {
        "id": "FJQSVO6wFak8"
      },
      "source": [
        "##Creating pivot table"
      ]
    },
    {
      "cell_type": "code",
      "metadata": {
        "id": "yQf3pdpCFUQf"
      },
      "source": [
        "#Creating a sparse pivot table with users in rows and items in columns\r\n",
        "pivot_matrix_df = interactions_train_df.pivot(index='UserId', \r\n",
        "                                                          columns='ProductId', \r\n",
        "                                                          values='Rating').fillna(0)"
      ],
      "execution_count": 32,
      "outputs": []
    },
    {
      "cell_type": "code",
      "metadata": {
        "colab": {
          "base_uri": "https://localhost:8080/"
        },
        "id": "KASermxxFUE2",
        "outputId": "02102bfe-9421-4197-e63d-82b9cbe3a795"
      },
      "source": [
        "pivot_matrix_df.shape"
      ],
      "execution_count": 33,
      "outputs": [
        {
          "output_type": "execute_result",
          "data": {
            "text/plain": [
              "(22110, 12090)"
            ]
          },
          "metadata": {
            "tags": []
          },
          "execution_count": 33
        }
      ]
    },
    {
      "cell_type": "code",
      "metadata": {
        "colab": {
          "base_uri": "https://localhost:8080/"
        },
        "id": "_uBUQjjZRypF",
        "outputId": "d68c257e-03f3-4a42-e998-a90494b4a843"
      },
      "source": [
        "df.shape"
      ],
      "execution_count": 34,
      "outputs": [
        {
          "output_type": "execute_result",
          "data": {
            "text/plain": [
              "(197116, 3)"
            ]
          },
          "metadata": {
            "tags": []
          },
          "execution_count": 34
        }
      ]
    },
    {
      "cell_type": "code",
      "metadata": {
        "colab": {
          "base_uri": "https://localhost:8080/",
          "height": 274
        },
        "id": "18Jh_NBHJ10O",
        "outputId": "28fcf60e-8467-4cf0-b06f-da8c58b2f1ea"
      },
      "source": [
        "pivot_matrix_df.head()"
      ],
      "execution_count": 35,
      "outputs": [
        {
          "output_type": "execute_result",
          "data": {
            "text/html": [
              "<div>\n",
              "<style scoped>\n",
              "    .dataframe tbody tr th:only-of-type {\n",
              "        vertical-align: middle;\n",
              "    }\n",
              "\n",
              "    .dataframe tbody tr th {\n",
              "        vertical-align: top;\n",
              "    }\n",
              "\n",
              "    .dataframe thead th {\n",
              "        text-align: right;\n",
              "    }\n",
              "</style>\n",
              "<table border=\"1\" class=\"dataframe\">\n",
              "  <thead>\n",
              "    <tr style=\"text-align: right;\">\n",
              "      <th>ProductId</th>\n",
              "      <th>7806397051</th>\n",
              "      <th>9759091062</th>\n",
              "      <th>9788072216</th>\n",
              "      <th>9790790961</th>\n",
              "      <th>9790794231</th>\n",
              "      <th>B00004TMFE</th>\n",
              "      <th>B00004TUBL</th>\n",
              "      <th>B00004TUBV</th>\n",
              "      <th>B00004U9UY</th>\n",
              "      <th>B00004U9V2</th>\n",
              "      <th>B000050B6U</th>\n",
              "      <th>B000052WY7</th>\n",
              "      <th>B000052WYD</th>\n",
              "      <th>B000052WYL</th>\n",
              "      <th>B000052WYN</th>\n",
              "      <th>B000052X9G</th>\n",
              "      <th>B000052XIA</th>\n",
              "      <th>B000052XW5</th>\n",
              "      <th>B000052XYQ</th>\n",
              "      <th>B000052XZP</th>\n",
              "      <th>B000052XZX</th>\n",
              "      <th>B000052Y25</th>\n",
              "      <th>B000052Y33</th>\n",
              "      <th>B000052Y5F</th>\n",
              "      <th>B000052Y6Z</th>\n",
              "      <th>B000052YJC</th>\n",
              "      <th>B000052YJD</th>\n",
              "      <th>B000052YJH</th>\n",
              "      <th>B000052YJM</th>\n",
              "      <th>B000052YJX</th>\n",
              "      <th>B000052YKI</th>\n",
              "      <th>B000052YKM</th>\n",
              "      <th>B000052YKS</th>\n",
              "      <th>B000052YKY</th>\n",
              "      <th>B000052YL1</th>\n",
              "      <th>B000052YLX</th>\n",
              "      <th>B000052YM0</th>\n",
              "      <th>B000052YM3</th>\n",
              "      <th>B000052YM4</th>\n",
              "      <th>B000052YM7</th>\n",
              "      <th>...</th>\n",
              "      <th>B00KFM16OW</th>\n",
              "      <th>B00KGDRCZW</th>\n",
              "      <th>B00KH6F6TM</th>\n",
              "      <th>B00KHGIK54</th>\n",
              "      <th>B00KHH2VOY</th>\n",
              "      <th>B00KI5UL8I</th>\n",
              "      <th>B00KIEGBHE</th>\n",
              "      <th>B00KK1V28I</th>\n",
              "      <th>B00KK62714</th>\n",
              "      <th>B00KKKW03U</th>\n",
              "      <th>B00KLA4INE</th>\n",
              "      <th>B00KLJDYL2</th>\n",
              "      <th>B00KLZO2JE</th>\n",
              "      <th>B00KNIL36E</th>\n",
              "      <th>B00KNJOLSA</th>\n",
              "      <th>B00KPKIV8I</th>\n",
              "      <th>B00KQ4PEBU</th>\n",
              "      <th>B00KQBR9FM</th>\n",
              "      <th>B00KQVTX06</th>\n",
              "      <th>B00KTAJAIY</th>\n",
              "      <th>B00KTLBDYM</th>\n",
              "      <th>B00KTLBEEQ</th>\n",
              "      <th>B00KTP8Q1G</th>\n",
              "      <th>B00KVE7R0Q</th>\n",
              "      <th>B00KVO2JWC</th>\n",
              "      <th>B00KWE08Q0</th>\n",
              "      <th>B00KXG8JF4</th>\n",
              "      <th>B00L0C529Q</th>\n",
              "      <th>B00L2K53BS</th>\n",
              "      <th>B00L2KVF9W</th>\n",
              "      <th>B00L3K91OW</th>\n",
              "      <th>B00L3LB0IG</th>\n",
              "      <th>B00L3LBUGI</th>\n",
              "      <th>B00L5BXG36</th>\n",
              "      <th>B00L5JHZJO</th>\n",
              "      <th>B00L5KTZ0K</th>\n",
              "      <th>B00L6Q3BH6</th>\n",
              "      <th>B00LCEROA2</th>\n",
              "      <th>B00LG63DOM</th>\n",
              "      <th>B00LLPT4HI</th>\n",
              "    </tr>\n",
              "    <tr>\n",
              "      <th>UserId</th>\n",
              "      <th></th>\n",
              "      <th></th>\n",
              "      <th></th>\n",
              "      <th></th>\n",
              "      <th></th>\n",
              "      <th></th>\n",
              "      <th></th>\n",
              "      <th></th>\n",
              "      <th></th>\n",
              "      <th></th>\n",
              "      <th></th>\n",
              "      <th></th>\n",
              "      <th></th>\n",
              "      <th></th>\n",
              "      <th></th>\n",
              "      <th></th>\n",
              "      <th></th>\n",
              "      <th></th>\n",
              "      <th></th>\n",
              "      <th></th>\n",
              "      <th></th>\n",
              "      <th></th>\n",
              "      <th></th>\n",
              "      <th></th>\n",
              "      <th></th>\n",
              "      <th></th>\n",
              "      <th></th>\n",
              "      <th></th>\n",
              "      <th></th>\n",
              "      <th></th>\n",
              "      <th></th>\n",
              "      <th></th>\n",
              "      <th></th>\n",
              "      <th></th>\n",
              "      <th></th>\n",
              "      <th></th>\n",
              "      <th></th>\n",
              "      <th></th>\n",
              "      <th></th>\n",
              "      <th></th>\n",
              "      <th></th>\n",
              "      <th></th>\n",
              "      <th></th>\n",
              "      <th></th>\n",
              "      <th></th>\n",
              "      <th></th>\n",
              "      <th></th>\n",
              "      <th></th>\n",
              "      <th></th>\n",
              "      <th></th>\n",
              "      <th></th>\n",
              "      <th></th>\n",
              "      <th></th>\n",
              "      <th></th>\n",
              "      <th></th>\n",
              "      <th></th>\n",
              "      <th></th>\n",
              "      <th></th>\n",
              "      <th></th>\n",
              "      <th></th>\n",
              "      <th></th>\n",
              "      <th></th>\n",
              "      <th></th>\n",
              "      <th></th>\n",
              "      <th></th>\n",
              "      <th></th>\n",
              "      <th></th>\n",
              "      <th></th>\n",
              "      <th></th>\n",
              "      <th></th>\n",
              "      <th></th>\n",
              "      <th></th>\n",
              "      <th></th>\n",
              "      <th></th>\n",
              "      <th></th>\n",
              "      <th></th>\n",
              "      <th></th>\n",
              "      <th></th>\n",
              "      <th></th>\n",
              "      <th></th>\n",
              "      <th></th>\n",
              "    </tr>\n",
              "  </thead>\n",
              "  <tbody>\n",
              "    <tr>\n",
              "      <th>A00414041RD0BXM6WK0GX</th>\n",
              "      <td>0.0</td>\n",
              "      <td>0.0</td>\n",
              "      <td>0.0</td>\n",
              "      <td>0.0</td>\n",
              "      <td>0.0</td>\n",
              "      <td>0.0</td>\n",
              "      <td>0.0</td>\n",
              "      <td>0.0</td>\n",
              "      <td>0.0</td>\n",
              "      <td>0.0</td>\n",
              "      <td>0.0</td>\n",
              "      <td>0.0</td>\n",
              "      <td>0.0</td>\n",
              "      <td>0.0</td>\n",
              "      <td>0.0</td>\n",
              "      <td>0.0</td>\n",
              "      <td>0.0</td>\n",
              "      <td>0.0</td>\n",
              "      <td>0.0</td>\n",
              "      <td>0.0</td>\n",
              "      <td>0.0</td>\n",
              "      <td>0.0</td>\n",
              "      <td>0.0</td>\n",
              "      <td>0.0</td>\n",
              "      <td>0.0</td>\n",
              "      <td>0.0</td>\n",
              "      <td>0.0</td>\n",
              "      <td>0.0</td>\n",
              "      <td>0.0</td>\n",
              "      <td>0.0</td>\n",
              "      <td>0.0</td>\n",
              "      <td>0.0</td>\n",
              "      <td>0.0</td>\n",
              "      <td>0.0</td>\n",
              "      <td>0.0</td>\n",
              "      <td>0.0</td>\n",
              "      <td>0.0</td>\n",
              "      <td>0.0</td>\n",
              "      <td>0.0</td>\n",
              "      <td>0.0</td>\n",
              "      <td>...</td>\n",
              "      <td>0.0</td>\n",
              "      <td>0.0</td>\n",
              "      <td>0.0</td>\n",
              "      <td>0.0</td>\n",
              "      <td>0.0</td>\n",
              "      <td>0.0</td>\n",
              "      <td>0.0</td>\n",
              "      <td>0.0</td>\n",
              "      <td>0.0</td>\n",
              "      <td>0.0</td>\n",
              "      <td>0.0</td>\n",
              "      <td>0.0</td>\n",
              "      <td>0.0</td>\n",
              "      <td>0.0</td>\n",
              "      <td>0.0</td>\n",
              "      <td>0.0</td>\n",
              "      <td>0.0</td>\n",
              "      <td>0.0</td>\n",
              "      <td>0.0</td>\n",
              "      <td>0.0</td>\n",
              "      <td>0.0</td>\n",
              "      <td>0.0</td>\n",
              "      <td>0.0</td>\n",
              "      <td>0.0</td>\n",
              "      <td>0.0</td>\n",
              "      <td>0.0</td>\n",
              "      <td>0.0</td>\n",
              "      <td>0.0</td>\n",
              "      <td>0.0</td>\n",
              "      <td>0.0</td>\n",
              "      <td>0.0</td>\n",
              "      <td>0.0</td>\n",
              "      <td>0.0</td>\n",
              "      <td>0.0</td>\n",
              "      <td>0.0</td>\n",
              "      <td>0.0</td>\n",
              "      <td>0.0</td>\n",
              "      <td>0.0</td>\n",
              "      <td>0.0</td>\n",
              "      <td>0.0</td>\n",
              "    </tr>\n",
              "    <tr>\n",
              "      <th>A00473363TJ8YSZ3YAGG9</th>\n",
              "      <td>0.0</td>\n",
              "      <td>0.0</td>\n",
              "      <td>0.0</td>\n",
              "      <td>0.0</td>\n",
              "      <td>0.0</td>\n",
              "      <td>0.0</td>\n",
              "      <td>0.0</td>\n",
              "      <td>0.0</td>\n",
              "      <td>0.0</td>\n",
              "      <td>0.0</td>\n",
              "      <td>0.0</td>\n",
              "      <td>0.0</td>\n",
              "      <td>0.0</td>\n",
              "      <td>0.0</td>\n",
              "      <td>0.0</td>\n",
              "      <td>0.0</td>\n",
              "      <td>0.0</td>\n",
              "      <td>0.0</td>\n",
              "      <td>0.0</td>\n",
              "      <td>0.0</td>\n",
              "      <td>0.0</td>\n",
              "      <td>0.0</td>\n",
              "      <td>0.0</td>\n",
              "      <td>0.0</td>\n",
              "      <td>0.0</td>\n",
              "      <td>0.0</td>\n",
              "      <td>0.0</td>\n",
              "      <td>0.0</td>\n",
              "      <td>0.0</td>\n",
              "      <td>0.0</td>\n",
              "      <td>0.0</td>\n",
              "      <td>0.0</td>\n",
              "      <td>0.0</td>\n",
              "      <td>0.0</td>\n",
              "      <td>0.0</td>\n",
              "      <td>0.0</td>\n",
              "      <td>0.0</td>\n",
              "      <td>0.0</td>\n",
              "      <td>0.0</td>\n",
              "      <td>0.0</td>\n",
              "      <td>...</td>\n",
              "      <td>0.0</td>\n",
              "      <td>0.0</td>\n",
              "      <td>0.0</td>\n",
              "      <td>0.0</td>\n",
              "      <td>0.0</td>\n",
              "      <td>0.0</td>\n",
              "      <td>0.0</td>\n",
              "      <td>0.0</td>\n",
              "      <td>0.0</td>\n",
              "      <td>0.0</td>\n",
              "      <td>0.0</td>\n",
              "      <td>0.0</td>\n",
              "      <td>0.0</td>\n",
              "      <td>0.0</td>\n",
              "      <td>0.0</td>\n",
              "      <td>0.0</td>\n",
              "      <td>0.0</td>\n",
              "      <td>0.0</td>\n",
              "      <td>0.0</td>\n",
              "      <td>0.0</td>\n",
              "      <td>0.0</td>\n",
              "      <td>0.0</td>\n",
              "      <td>0.0</td>\n",
              "      <td>0.0</td>\n",
              "      <td>0.0</td>\n",
              "      <td>0.0</td>\n",
              "      <td>0.0</td>\n",
              "      <td>0.0</td>\n",
              "      <td>0.0</td>\n",
              "      <td>0.0</td>\n",
              "      <td>0.0</td>\n",
              "      <td>0.0</td>\n",
              "      <td>0.0</td>\n",
              "      <td>0.0</td>\n",
              "      <td>0.0</td>\n",
              "      <td>0.0</td>\n",
              "      <td>0.0</td>\n",
              "      <td>0.0</td>\n",
              "      <td>0.0</td>\n",
              "      <td>0.0</td>\n",
              "    </tr>\n",
              "    <tr>\n",
              "      <th>A00700212KB3K0MVESPIY</th>\n",
              "      <td>0.0</td>\n",
              "      <td>0.0</td>\n",
              "      <td>0.0</td>\n",
              "      <td>0.0</td>\n",
              "      <td>0.0</td>\n",
              "      <td>0.0</td>\n",
              "      <td>0.0</td>\n",
              "      <td>0.0</td>\n",
              "      <td>0.0</td>\n",
              "      <td>0.0</td>\n",
              "      <td>0.0</td>\n",
              "      <td>0.0</td>\n",
              "      <td>0.0</td>\n",
              "      <td>0.0</td>\n",
              "      <td>0.0</td>\n",
              "      <td>0.0</td>\n",
              "      <td>0.0</td>\n",
              "      <td>0.0</td>\n",
              "      <td>0.0</td>\n",
              "      <td>0.0</td>\n",
              "      <td>0.0</td>\n",
              "      <td>0.0</td>\n",
              "      <td>0.0</td>\n",
              "      <td>0.0</td>\n",
              "      <td>0.0</td>\n",
              "      <td>0.0</td>\n",
              "      <td>0.0</td>\n",
              "      <td>0.0</td>\n",
              "      <td>0.0</td>\n",
              "      <td>0.0</td>\n",
              "      <td>0.0</td>\n",
              "      <td>0.0</td>\n",
              "      <td>0.0</td>\n",
              "      <td>0.0</td>\n",
              "      <td>0.0</td>\n",
              "      <td>0.0</td>\n",
              "      <td>0.0</td>\n",
              "      <td>0.0</td>\n",
              "      <td>0.0</td>\n",
              "      <td>0.0</td>\n",
              "      <td>...</td>\n",
              "      <td>0.0</td>\n",
              "      <td>0.0</td>\n",
              "      <td>0.0</td>\n",
              "      <td>0.0</td>\n",
              "      <td>0.0</td>\n",
              "      <td>0.0</td>\n",
              "      <td>0.0</td>\n",
              "      <td>0.0</td>\n",
              "      <td>0.0</td>\n",
              "      <td>0.0</td>\n",
              "      <td>0.0</td>\n",
              "      <td>0.0</td>\n",
              "      <td>0.0</td>\n",
              "      <td>0.0</td>\n",
              "      <td>0.0</td>\n",
              "      <td>0.0</td>\n",
              "      <td>0.0</td>\n",
              "      <td>0.0</td>\n",
              "      <td>0.0</td>\n",
              "      <td>0.0</td>\n",
              "      <td>0.0</td>\n",
              "      <td>0.0</td>\n",
              "      <td>0.0</td>\n",
              "      <td>0.0</td>\n",
              "      <td>0.0</td>\n",
              "      <td>0.0</td>\n",
              "      <td>0.0</td>\n",
              "      <td>0.0</td>\n",
              "      <td>0.0</td>\n",
              "      <td>0.0</td>\n",
              "      <td>0.0</td>\n",
              "      <td>0.0</td>\n",
              "      <td>0.0</td>\n",
              "      <td>0.0</td>\n",
              "      <td>0.0</td>\n",
              "      <td>0.0</td>\n",
              "      <td>0.0</td>\n",
              "      <td>0.0</td>\n",
              "      <td>0.0</td>\n",
              "      <td>0.0</td>\n",
              "    </tr>\n",
              "    <tr>\n",
              "      <th>A0078719IR14X3NNUG0F</th>\n",
              "      <td>0.0</td>\n",
              "      <td>0.0</td>\n",
              "      <td>0.0</td>\n",
              "      <td>0.0</td>\n",
              "      <td>0.0</td>\n",
              "      <td>0.0</td>\n",
              "      <td>0.0</td>\n",
              "      <td>0.0</td>\n",
              "      <td>0.0</td>\n",
              "      <td>0.0</td>\n",
              "      <td>0.0</td>\n",
              "      <td>0.0</td>\n",
              "      <td>0.0</td>\n",
              "      <td>0.0</td>\n",
              "      <td>0.0</td>\n",
              "      <td>0.0</td>\n",
              "      <td>0.0</td>\n",
              "      <td>0.0</td>\n",
              "      <td>0.0</td>\n",
              "      <td>0.0</td>\n",
              "      <td>0.0</td>\n",
              "      <td>0.0</td>\n",
              "      <td>0.0</td>\n",
              "      <td>0.0</td>\n",
              "      <td>0.0</td>\n",
              "      <td>0.0</td>\n",
              "      <td>0.0</td>\n",
              "      <td>0.0</td>\n",
              "      <td>0.0</td>\n",
              "      <td>0.0</td>\n",
              "      <td>0.0</td>\n",
              "      <td>0.0</td>\n",
              "      <td>0.0</td>\n",
              "      <td>0.0</td>\n",
              "      <td>0.0</td>\n",
              "      <td>0.0</td>\n",
              "      <td>0.0</td>\n",
              "      <td>0.0</td>\n",
              "      <td>0.0</td>\n",
              "      <td>0.0</td>\n",
              "      <td>...</td>\n",
              "      <td>0.0</td>\n",
              "      <td>0.0</td>\n",
              "      <td>0.0</td>\n",
              "      <td>0.0</td>\n",
              "      <td>0.0</td>\n",
              "      <td>0.0</td>\n",
              "      <td>0.0</td>\n",
              "      <td>0.0</td>\n",
              "      <td>0.0</td>\n",
              "      <td>0.0</td>\n",
              "      <td>0.0</td>\n",
              "      <td>0.0</td>\n",
              "      <td>0.0</td>\n",
              "      <td>0.0</td>\n",
              "      <td>0.0</td>\n",
              "      <td>0.0</td>\n",
              "      <td>0.0</td>\n",
              "      <td>0.0</td>\n",
              "      <td>0.0</td>\n",
              "      <td>0.0</td>\n",
              "      <td>0.0</td>\n",
              "      <td>0.0</td>\n",
              "      <td>0.0</td>\n",
              "      <td>0.0</td>\n",
              "      <td>0.0</td>\n",
              "      <td>0.0</td>\n",
              "      <td>0.0</td>\n",
              "      <td>0.0</td>\n",
              "      <td>0.0</td>\n",
              "      <td>0.0</td>\n",
              "      <td>0.0</td>\n",
              "      <td>0.0</td>\n",
              "      <td>0.0</td>\n",
              "      <td>0.0</td>\n",
              "      <td>0.0</td>\n",
              "      <td>0.0</td>\n",
              "      <td>0.0</td>\n",
              "      <td>0.0</td>\n",
              "      <td>0.0</td>\n",
              "      <td>0.0</td>\n",
              "    </tr>\n",
              "    <tr>\n",
              "      <th>A01198201H0E3GHV2Z17I</th>\n",
              "      <td>0.0</td>\n",
              "      <td>0.0</td>\n",
              "      <td>0.0</td>\n",
              "      <td>0.0</td>\n",
              "      <td>0.0</td>\n",
              "      <td>0.0</td>\n",
              "      <td>0.0</td>\n",
              "      <td>0.0</td>\n",
              "      <td>0.0</td>\n",
              "      <td>0.0</td>\n",
              "      <td>0.0</td>\n",
              "      <td>0.0</td>\n",
              "      <td>0.0</td>\n",
              "      <td>0.0</td>\n",
              "      <td>0.0</td>\n",
              "      <td>0.0</td>\n",
              "      <td>0.0</td>\n",
              "      <td>0.0</td>\n",
              "      <td>0.0</td>\n",
              "      <td>0.0</td>\n",
              "      <td>0.0</td>\n",
              "      <td>0.0</td>\n",
              "      <td>0.0</td>\n",
              "      <td>0.0</td>\n",
              "      <td>0.0</td>\n",
              "      <td>0.0</td>\n",
              "      <td>0.0</td>\n",
              "      <td>0.0</td>\n",
              "      <td>0.0</td>\n",
              "      <td>0.0</td>\n",
              "      <td>0.0</td>\n",
              "      <td>0.0</td>\n",
              "      <td>0.0</td>\n",
              "      <td>0.0</td>\n",
              "      <td>0.0</td>\n",
              "      <td>0.0</td>\n",
              "      <td>0.0</td>\n",
              "      <td>0.0</td>\n",
              "      <td>0.0</td>\n",
              "      <td>0.0</td>\n",
              "      <td>...</td>\n",
              "      <td>0.0</td>\n",
              "      <td>0.0</td>\n",
              "      <td>0.0</td>\n",
              "      <td>0.0</td>\n",
              "      <td>0.0</td>\n",
              "      <td>0.0</td>\n",
              "      <td>0.0</td>\n",
              "      <td>0.0</td>\n",
              "      <td>0.0</td>\n",
              "      <td>0.0</td>\n",
              "      <td>0.0</td>\n",
              "      <td>0.0</td>\n",
              "      <td>0.0</td>\n",
              "      <td>0.0</td>\n",
              "      <td>0.0</td>\n",
              "      <td>0.0</td>\n",
              "      <td>0.0</td>\n",
              "      <td>0.0</td>\n",
              "      <td>0.0</td>\n",
              "      <td>0.0</td>\n",
              "      <td>0.0</td>\n",
              "      <td>0.0</td>\n",
              "      <td>0.0</td>\n",
              "      <td>0.0</td>\n",
              "      <td>0.0</td>\n",
              "      <td>0.0</td>\n",
              "      <td>0.0</td>\n",
              "      <td>0.0</td>\n",
              "      <td>0.0</td>\n",
              "      <td>0.0</td>\n",
              "      <td>0.0</td>\n",
              "      <td>0.0</td>\n",
              "      <td>0.0</td>\n",
              "      <td>0.0</td>\n",
              "      <td>0.0</td>\n",
              "      <td>0.0</td>\n",
              "      <td>0.0</td>\n",
              "      <td>0.0</td>\n",
              "      <td>0.0</td>\n",
              "      <td>0.0</td>\n",
              "    </tr>\n",
              "  </tbody>\n",
              "</table>\n",
              "<p>5 rows × 12090 columns</p>\n",
              "</div>"
            ],
            "text/plain": [
              "ProductId              7806397051  9759091062  ...  B00LG63DOM  B00LLPT4HI\n",
              "UserId                                         ...                        \n",
              "A00414041RD0BXM6WK0GX         0.0         0.0  ...         0.0         0.0\n",
              "A00473363TJ8YSZ3YAGG9         0.0         0.0  ...         0.0         0.0\n",
              "A00700212KB3K0MVESPIY         0.0         0.0  ...         0.0         0.0\n",
              "A0078719IR14X3NNUG0F          0.0         0.0  ...         0.0         0.0\n",
              "A01198201H0E3GHV2Z17I         0.0         0.0  ...         0.0         0.0\n",
              "\n",
              "[5 rows x 12090 columns]"
            ]
          },
          "metadata": {
            "tags": []
          },
          "execution_count": 35
        }
      ]
    },
    {
      "cell_type": "code",
      "metadata": {
        "id": "15ohREv7WPuz",
        "colab": {
          "base_uri": "https://localhost:8080/"
        },
        "outputId": "55712f83-fa45-49a0-b9c1-cd8d217ebaa5"
      },
      "source": [
        "pivot_matrix_df.shape"
      ],
      "execution_count": 36,
      "outputs": [
        {
          "output_type": "execute_result",
          "data": {
            "text/plain": [
              "(22110, 12090)"
            ]
          },
          "metadata": {
            "tags": []
          },
          "execution_count": 36
        }
      ]
    },
    {
      "cell_type": "code",
      "metadata": {
        "colab": {
          "base_uri": "https://localhost:8080/"
        },
        "id": "CVNFhxJSJ5Qf",
        "outputId": "157123db-4b95-4821-caae-8b38341a78c7"
      },
      "source": [
        "pivot_matrix = pivot_matrix_df.values\r\n",
        "pivot_matrix[:10]"
      ],
      "execution_count": 37,
      "outputs": [
        {
          "output_type": "execute_result",
          "data": {
            "text/plain": [
              "array([[0., 0., 0., ..., 0., 0., 0.],\n",
              "       [0., 0., 0., ..., 0., 0., 0.],\n",
              "       [0., 0., 0., ..., 0., 0., 0.],\n",
              "       ...,\n",
              "       [0., 0., 0., ..., 0., 0., 0.],\n",
              "       [0., 0., 0., ..., 0., 0., 0.],\n",
              "       [0., 0., 0., ..., 0., 0., 0.]])"
            ]
          },
          "metadata": {
            "tags": []
          },
          "execution_count": 37
        }
      ]
    },
    {
      "cell_type": "code",
      "metadata": {
        "colab": {
          "base_uri": "https://localhost:8080/"
        },
        "id": "Fosue7MmLOOg",
        "outputId": "58e66c9e-9d5f-4c58-c5f3-f4911ec40e88"
      },
      "source": [
        "users_ids = list(pivot_matrix_df.index)\r\n",
        "users_ids[:10]"
      ],
      "execution_count": 38,
      "outputs": [
        {
          "output_type": "execute_result",
          "data": {
            "text/plain": [
              "['A00414041RD0BXM6WK0GX',\n",
              " 'A00473363TJ8YSZ3YAGG9',\n",
              " 'A00700212KB3K0MVESPIY',\n",
              " 'A0078719IR14X3NNUG0F',\n",
              " 'A01198201H0E3GHV2Z17I',\n",
              " 'A02155413BVL8D0G7X6DN',\n",
              " 'A02849582PREZYNEI31CV',\n",
              " 'A029527620Q3SK5XW16RR',\n",
              " 'A03236882LUP4ARMDDMXU',\n",
              " 'A03364251DGXSGA9PSR99']"
            ]
          },
          "metadata": {
            "tags": []
          },
          "execution_count": 38
        }
      ]
    },
    {
      "cell_type": "code",
      "metadata": {
        "id": "SbNyJnpoVbYU"
      },
      "source": [
        "from scipy.sparse.linalg import svds\r\n",
        "# The number of factors to factor the user-item matrix.\r\n",
        "NUMBER_OF_FACTORS_MF = 30\r\n",
        "\r\n",
        "#Performs matrix factorization of the original user item matrix\r\n",
        "U, sigma, VT = svds(pivot_matrix_df, k = NUMBER_OF_FACTORS_MF)"
      ],
      "execution_count": 39,
      "outputs": []
    },
    {
      "cell_type": "code",
      "metadata": {
        "colab": {
          "base_uri": "https://localhost:8080/"
        },
        "id": "gXJHRLoFXEe4",
        "outputId": "c3d8fc5b-311c-4089-c0c9-e7c267f415a5"
      },
      "source": [
        "U.shape"
      ],
      "execution_count": 40,
      "outputs": [
        {
          "output_type": "execute_result",
          "data": {
            "text/plain": [
              "(22110, 30)"
            ]
          },
          "metadata": {
            "tags": []
          },
          "execution_count": 40
        }
      ]
    },
    {
      "cell_type": "code",
      "metadata": {
        "colab": {
          "base_uri": "https://localhost:8080/"
        },
        "id": "t3CZDQawXEZc",
        "outputId": "d2bec88b-c296-41e7-91bf-1f081a0130a2"
      },
      "source": [
        "sigma = np.diag(sigma)\r\n",
        "sigma.shape"
      ],
      "execution_count": 41,
      "outputs": [
        {
          "output_type": "execute_result",
          "data": {
            "text/plain": [
              "(30, 30)"
            ]
          },
          "metadata": {
            "tags": []
          },
          "execution_count": 41
        }
      ]
    },
    {
      "cell_type": "code",
      "metadata": {
        "colab": {
          "base_uri": "https://localhost:8080/"
        },
        "id": "uIah9JbYxgUt",
        "outputId": "5ecfde68-2a51-4611-fc61-995aecca8d3f"
      },
      "source": [
        "VT.shape"
      ],
      "execution_count": 42,
      "outputs": [
        {
          "output_type": "execute_result",
          "data": {
            "text/plain": [
              "(30, 12090)"
            ]
          },
          "metadata": {
            "tags": []
          },
          "execution_count": 42
        }
      ]
    },
    {
      "cell_type": "code",
      "metadata": {
        "colab": {
          "base_uri": "https://localhost:8080/",
          "height": 35
        },
        "id": "svelobzwwnha",
        "outputId": "8dd9f898-eb88-4cce-c8cb-03ab7dcbfd1b"
      },
      "source": [
        "'''SVD = TruncatedSVD(n_components=30)\r\n",
        "decomposed_matrix = SVD.fit_transform(X)\r\n",
        "decomposed_matrix.shape'''"
      ],
      "execution_count": 43,
      "outputs": [
        {
          "output_type": "execute_result",
          "data": {
            "application/vnd.google.colaboratory.intrinsic+json": {
              "type": "string"
            },
            "text/plain": [
              "'SVD = TruncatedSVD(n_components=30)\\ndecomposed_matrix = SVD.fit_transform(X)\\ndecomposed_matrix.shape'"
            ]
          },
          "metadata": {
            "tags": []
          },
          "execution_count": 43
        }
      ]
    },
    {
      "cell_type": "code",
      "metadata": {
        "colab": {
          "base_uri": "https://localhost:8080/"
        },
        "id": "9aQ8CGSM0cdg",
        "outputId": "9fbb488c-630b-4587-dcb6-080c09659a0d"
      },
      "source": [
        "all_usera_predicted_ratings = np.dot(np.dot(U, sigma), VT) \r\n",
        "all_usera_predicted_ratings"
      ],
      "execution_count": 44,
      "outputs": [
        {
          "output_type": "execute_result",
          "data": {
            "text/plain": [
              "array([[ 2.93680940e-05,  1.13056164e-05,  1.81921854e-05, ...,\n",
              "        -5.22967975e-07, -8.71978300e-06,  7.25330283e-05],\n",
              "       [ 1.98348394e-05, -4.82075315e-06,  1.55185125e-05, ...,\n",
              "        -3.51839030e-06, -5.86704743e-05, -9.81381477e-05],\n",
              "       [ 3.98389217e-05,  1.30943631e-04,  1.39777348e-04, ...,\n",
              "         2.38251182e-06, -6.21409525e-05,  7.92483265e-04],\n",
              "       ...,\n",
              "       [ 7.90191417e-04,  1.07001617e-04,  6.38769606e-04, ...,\n",
              "        -2.30200752e-05,  2.37571687e-04,  1.49254389e-03],\n",
              "       [-5.46953630e-06,  9.42965937e-05,  2.12922560e-04, ...,\n",
              "         3.38088628e-06, -8.82271816e-05,  8.14853409e-04],\n",
              "       [ 1.21347634e-04,  1.07752608e-04,  2.91900650e-04, ...,\n",
              "         1.72136534e-05,  1.46904995e-04,  2.54603918e-03]])"
            ]
          },
          "metadata": {
            "tags": []
          },
          "execution_count": 44
        }
      ]
    },
    {
      "cell_type": "code",
      "metadata": {
        "colab": {
          "base_uri": "https://localhost:8080/",
          "height": 274
        },
        "id": "lzXhwGeLyLMo",
        "outputId": "98e59329-ed74-4d67-f9f1-26b8825b08df"
      },
      "source": [
        "#Converting the reconstructed matrix back to a Pandas dataframe\r\n",
        "preds_df = pd.DataFrame(all_usera_predicted_ratings, columns = pivot_matrix_df.columns, index=users_ids).T\r\n",
        "preds_df.head()"
      ],
      "execution_count": 49,
      "outputs": [
        {
          "output_type": "execute_result",
          "data": {
            "text/html": [
              "<div>\n",
              "<style scoped>\n",
              "    .dataframe tbody tr th:only-of-type {\n",
              "        vertical-align: middle;\n",
              "    }\n",
              "\n",
              "    .dataframe tbody tr th {\n",
              "        vertical-align: top;\n",
              "    }\n",
              "\n",
              "    .dataframe thead th {\n",
              "        text-align: right;\n",
              "    }\n",
              "</style>\n",
              "<table border=\"1\" class=\"dataframe\">\n",
              "  <thead>\n",
              "    <tr style=\"text-align: right;\">\n",
              "      <th></th>\n",
              "      <th>A00414041RD0BXM6WK0GX</th>\n",
              "      <th>A00473363TJ8YSZ3YAGG9</th>\n",
              "      <th>A00700212KB3K0MVESPIY</th>\n",
              "      <th>A0078719IR14X3NNUG0F</th>\n",
              "      <th>A01198201H0E3GHV2Z17I</th>\n",
              "      <th>A02155413BVL8D0G7X6DN</th>\n",
              "      <th>A02849582PREZYNEI31CV</th>\n",
              "      <th>A029527620Q3SK5XW16RR</th>\n",
              "      <th>A03236882LUP4ARMDDMXU</th>\n",
              "      <th>A03364251DGXSGA9PSR99</th>\n",
              "      <th>A0388397363MZHRU6ALSX</th>\n",
              "      <th>A042274212BJJVOBS4Q85</th>\n",
              "      <th>A04371222UWPCRS81JO2Z</th>\n",
              "      <th>A0459829SI5B5WIOZZHX</th>\n",
              "      <th>A0508779FEO1DUNOSQNX</th>\n",
              "      <th>A05306962T0DL4FS2RA7L</th>\n",
              "      <th>A059547920Q3LZVFHLPI3</th>\n",
              "      <th>A0614215ICIJ7IVV472R</th>\n",
              "      <th>A06298653TJ91G7R7MD6R</th>\n",
              "      <th>A0647567NOSE5H95OBQ2</th>\n",
              "      <th>A06586901ZOUBJS3R268N</th>\n",
              "      <th>A0733801U845JJGV4H8V</th>\n",
              "      <th>A07420391OVT9BFTVMUOI</th>\n",
              "      <th>A08409921GVN7C8RD97CV</th>\n",
              "      <th>A0864963DOAY7LXGS5I6</th>\n",
              "      <th>A090214335ZYBWI945UJI</th>\n",
              "      <th>A0908131Z7BWYSMRQ16T</th>\n",
              "      <th>A09149312G3TQJJF59GC8</th>\n",
              "      <th>A09386383518NVR7RSA4F</th>\n",
              "      <th>A099766128UI0NCS98N1E</th>\n",
              "      <th>A100E9O4Z9BP4Q</th>\n",
              "      <th>A100L918633LUO</th>\n",
              "      <th>A100LIFNJYZWW7</th>\n",
              "      <th>A100UD67AHFODS</th>\n",
              "      <th>A100VQNP6I54HS</th>\n",
              "      <th>A100WO06OQR8BQ</th>\n",
              "      <th>A100X30Z2GCTEM</th>\n",
              "      <th>A100ZQDV7L8PVV</th>\n",
              "      <th>A1010QRG4BH51B</th>\n",
              "      <th>A101Q13OPIP7ZR</th>\n",
              "      <th>...</th>\n",
              "      <th>AZRL9I4SG5ADA</th>\n",
              "      <th>AZRPMQ8A4H0W4</th>\n",
              "      <th>AZS23E3IKSF9D</th>\n",
              "      <th>AZS4UNYSAZVG8</th>\n",
              "      <th>AZS5TOKUYLDO0</th>\n",
              "      <th>AZS9WNWY48XF5</th>\n",
              "      <th>AZSWYOYUCD81E</th>\n",
              "      <th>AZTYMMD36CXY2</th>\n",
              "      <th>AZTZ7SIIRXLXE</th>\n",
              "      <th>AZU2UCJP6WUQO</th>\n",
              "      <th>AZUEKJ6P9TFSJ</th>\n",
              "      <th>AZUH2MX87LX7J</th>\n",
              "      <th>AZUH5XSJ2NLXR</th>\n",
              "      <th>AZUPWQFWXZYE9</th>\n",
              "      <th>AZV2AG96CRJ26</th>\n",
              "      <th>AZV7CNMMJERKW</th>\n",
              "      <th>AZVM27SJPO3GL</th>\n",
              "      <th>AZW9UD7Z7J0WL</th>\n",
              "      <th>AZWJAXOQMB8EK</th>\n",
              "      <th>AZWXG6KBXXC2N</th>\n",
              "      <th>AZX1JTTIUYZX4</th>\n",
              "      <th>AZX5U35YDZZXI</th>\n",
              "      <th>AZXH0JC9KOLU8</th>\n",
              "      <th>AZXP46IB63PU8</th>\n",
              "      <th>AZY3Z9QI0G8L</th>\n",
              "      <th>AZY8RW6L7W52Z</th>\n",
              "      <th>AZYA6NBTF2843</th>\n",
              "      <th>AZYAFW3CRARM6</th>\n",
              "      <th>AZYH32578YZBF</th>\n",
              "      <th>AZYN9RRLZUNVA</th>\n",
              "      <th>AZYNK58DULI59</th>\n",
              "      <th>AZYVVBYSD74KP</th>\n",
              "      <th>AZZ5ASC403N74</th>\n",
              "      <th>AZZ91VNEU3XYX</th>\n",
              "      <th>AZZIOU48NE8PC</th>\n",
              "      <th>AZZNK89PXD006</th>\n",
              "      <th>AZZQXL8VDCFTV</th>\n",
              "      <th>AZZT1ERHBSNQ8</th>\n",
              "      <th>AZZU6NXB8YJN9</th>\n",
              "      <th>AZZZLM1E5JJ8C</th>\n",
              "    </tr>\n",
              "    <tr>\n",
              "      <th>ProductId</th>\n",
              "      <th></th>\n",
              "      <th></th>\n",
              "      <th></th>\n",
              "      <th></th>\n",
              "      <th></th>\n",
              "      <th></th>\n",
              "      <th></th>\n",
              "      <th></th>\n",
              "      <th></th>\n",
              "      <th></th>\n",
              "      <th></th>\n",
              "      <th></th>\n",
              "      <th></th>\n",
              "      <th></th>\n",
              "      <th></th>\n",
              "      <th></th>\n",
              "      <th></th>\n",
              "      <th></th>\n",
              "      <th></th>\n",
              "      <th></th>\n",
              "      <th></th>\n",
              "      <th></th>\n",
              "      <th></th>\n",
              "      <th></th>\n",
              "      <th></th>\n",
              "      <th></th>\n",
              "      <th></th>\n",
              "      <th></th>\n",
              "      <th></th>\n",
              "      <th></th>\n",
              "      <th></th>\n",
              "      <th></th>\n",
              "      <th></th>\n",
              "      <th></th>\n",
              "      <th></th>\n",
              "      <th></th>\n",
              "      <th></th>\n",
              "      <th></th>\n",
              "      <th></th>\n",
              "      <th></th>\n",
              "      <th></th>\n",
              "      <th></th>\n",
              "      <th></th>\n",
              "      <th></th>\n",
              "      <th></th>\n",
              "      <th></th>\n",
              "      <th></th>\n",
              "      <th></th>\n",
              "      <th></th>\n",
              "      <th></th>\n",
              "      <th></th>\n",
              "      <th></th>\n",
              "      <th></th>\n",
              "      <th></th>\n",
              "      <th></th>\n",
              "      <th></th>\n",
              "      <th></th>\n",
              "      <th></th>\n",
              "      <th></th>\n",
              "      <th></th>\n",
              "      <th></th>\n",
              "      <th></th>\n",
              "      <th></th>\n",
              "      <th></th>\n",
              "      <th></th>\n",
              "      <th></th>\n",
              "      <th></th>\n",
              "      <th></th>\n",
              "      <th></th>\n",
              "      <th></th>\n",
              "      <th></th>\n",
              "      <th></th>\n",
              "      <th></th>\n",
              "      <th></th>\n",
              "      <th></th>\n",
              "      <th></th>\n",
              "      <th></th>\n",
              "      <th></th>\n",
              "      <th></th>\n",
              "      <th></th>\n",
              "      <th></th>\n",
              "    </tr>\n",
              "  </thead>\n",
              "  <tbody>\n",
              "    <tr>\n",
              "      <th>7806397051</th>\n",
              "      <td>0.000029</td>\n",
              "      <td>0.000020</td>\n",
              "      <td>0.000040</td>\n",
              "      <td>0.000585</td>\n",
              "      <td>-0.001250</td>\n",
              "      <td>0.000054</td>\n",
              "      <td>0.000469</td>\n",
              "      <td>0.000392</td>\n",
              "      <td>-0.000014</td>\n",
              "      <td>0.001318</td>\n",
              "      <td>0.000051</td>\n",
              "      <td>0.000306</td>\n",
              "      <td>0.000057</td>\n",
              "      <td>0.000007</td>\n",
              "      <td>0.000176</td>\n",
              "      <td>0.000441</td>\n",
              "      <td>0.000989</td>\n",
              "      <td>0.000004</td>\n",
              "      <td>0.000084</td>\n",
              "      <td>1.038767e-04</td>\n",
              "      <td>0.000069</td>\n",
              "      <td>0.000178</td>\n",
              "      <td>2.094256e-05</td>\n",
              "      <td>4.296125e-06</td>\n",
              "      <td>0.000303</td>\n",
              "      <td>0.000205</td>\n",
              "      <td>-0.000241</td>\n",
              "      <td>0.000212</td>\n",
              "      <td>0.000212</td>\n",
              "      <td>0.000654</td>\n",
              "      <td>0.000657</td>\n",
              "      <td>0.000016</td>\n",
              "      <td>0.000082</td>\n",
              "      <td>3.882717e-06</td>\n",
              "      <td>0.000332</td>\n",
              "      <td>-0.000082</td>\n",
              "      <td>0.000022</td>\n",
              "      <td>-0.000185</td>\n",
              "      <td>-0.000422</td>\n",
              "      <td>0.000023</td>\n",
              "      <td>...</td>\n",
              "      <td>-0.000084</td>\n",
              "      <td>-0.000968</td>\n",
              "      <td>0.000036</td>\n",
              "      <td>0.000173</td>\n",
              "      <td>0.000409</td>\n",
              "      <td>0.000579</td>\n",
              "      <td>0.000028</td>\n",
              "      <td>0.000011</td>\n",
              "      <td>0.000013</td>\n",
              "      <td>7.454558e-05</td>\n",
              "      <td>0.000007</td>\n",
              "      <td>-0.000335</td>\n",
              "      <td>6.021255e-05</td>\n",
              "      <td>0.000076</td>\n",
              "      <td>0.000170</td>\n",
              "      <td>-0.000808</td>\n",
              "      <td>-0.000008</td>\n",
              "      <td>0.000048</td>\n",
              "      <td>0.000078</td>\n",
              "      <td>0.000034</td>\n",
              "      <td>0.000022</td>\n",
              "      <td>-1.071828e-05</td>\n",
              "      <td>6.686231e-06</td>\n",
              "      <td>0.000516</td>\n",
              "      <td>0.000030</td>\n",
              "      <td>0.000242</td>\n",
              "      <td>0.000194</td>\n",
              "      <td>0.000057</td>\n",
              "      <td>0.000023</td>\n",
              "      <td>0.000181</td>\n",
              "      <td>4.439825e-06</td>\n",
              "      <td>0.000107</td>\n",
              "      <td>0.000052</td>\n",
              "      <td>0.000341</td>\n",
              "      <td>0.000015</td>\n",
              "      <td>0.000026</td>\n",
              "      <td>0.000192</td>\n",
              "      <td>0.000790</td>\n",
              "      <td>-0.000005</td>\n",
              "      <td>0.000121</td>\n",
              "    </tr>\n",
              "    <tr>\n",
              "      <th>9759091062</th>\n",
              "      <td>0.000011</td>\n",
              "      <td>-0.000005</td>\n",
              "      <td>0.000131</td>\n",
              "      <td>0.000244</td>\n",
              "      <td>-0.000758</td>\n",
              "      <td>-0.000314</td>\n",
              "      <td>0.000149</td>\n",
              "      <td>-0.000552</td>\n",
              "      <td>-0.000207</td>\n",
              "      <td>0.000396</td>\n",
              "      <td>-0.000005</td>\n",
              "      <td>0.000248</td>\n",
              "      <td>-0.000005</td>\n",
              "      <td>0.000054</td>\n",
              "      <td>0.000252</td>\n",
              "      <td>0.000605</td>\n",
              "      <td>0.000215</td>\n",
              "      <td>0.000003</td>\n",
              "      <td>0.000016</td>\n",
              "      <td>-7.748004e-05</td>\n",
              "      <td>0.000140</td>\n",
              "      <td>-0.000017</td>\n",
              "      <td>-4.333169e-07</td>\n",
              "      <td>2.704785e-06</td>\n",
              "      <td>0.000014</td>\n",
              "      <td>0.000054</td>\n",
              "      <td>0.000460</td>\n",
              "      <td>0.000016</td>\n",
              "      <td>0.000099</td>\n",
              "      <td>0.000340</td>\n",
              "      <td>0.000306</td>\n",
              "      <td>-0.000006</td>\n",
              "      <td>0.000088</td>\n",
              "      <td>-1.341853e-06</td>\n",
              "      <td>0.000911</td>\n",
              "      <td>0.013498</td>\n",
              "      <td>-0.000039</td>\n",
              "      <td>-0.001016</td>\n",
              "      <td>0.000218</td>\n",
              "      <td>-0.000002</td>\n",
              "      <td>...</td>\n",
              "      <td>0.000528</td>\n",
              "      <td>-0.000501</td>\n",
              "      <td>-0.000007</td>\n",
              "      <td>0.000132</td>\n",
              "      <td>0.000588</td>\n",
              "      <td>0.000280</td>\n",
              "      <td>0.000012</td>\n",
              "      <td>0.000003</td>\n",
              "      <td>0.000192</td>\n",
              "      <td>-2.281121e-05</td>\n",
              "      <td>-0.000001</td>\n",
              "      <td>0.000120</td>\n",
              "      <td>-4.338206e-07</td>\n",
              "      <td>-0.000082</td>\n",
              "      <td>0.000135</td>\n",
              "      <td>0.000099</td>\n",
              "      <td>-0.000003</td>\n",
              "      <td>0.000063</td>\n",
              "      <td>0.000067</td>\n",
              "      <td>0.000074</td>\n",
              "      <td>-0.000009</td>\n",
              "      <td>3.089607e-07</td>\n",
              "      <td>-3.280944e-06</td>\n",
              "      <td>0.000020</td>\n",
              "      <td>-0.000032</td>\n",
              "      <td>0.000155</td>\n",
              "      <td>-0.000024</td>\n",
              "      <td>-0.000050</td>\n",
              "      <td>-0.000014</td>\n",
              "      <td>0.000035</td>\n",
              "      <td>-2.789017e-05</td>\n",
              "      <td>-0.000024</td>\n",
              "      <td>-0.000033</td>\n",
              "      <td>0.000677</td>\n",
              "      <td>0.000002</td>\n",
              "      <td>0.000009</td>\n",
              "      <td>-0.000015</td>\n",
              "      <td>0.000107</td>\n",
              "      <td>0.000094</td>\n",
              "      <td>0.000108</td>\n",
              "    </tr>\n",
              "    <tr>\n",
              "      <th>9788072216</th>\n",
              "      <td>0.000018</td>\n",
              "      <td>0.000016</td>\n",
              "      <td>0.000140</td>\n",
              "      <td>0.000002</td>\n",
              "      <td>0.000168</td>\n",
              "      <td>0.000093</td>\n",
              "      <td>0.000004</td>\n",
              "      <td>0.000324</td>\n",
              "      <td>0.000455</td>\n",
              "      <td>0.000938</td>\n",
              "      <td>0.000041</td>\n",
              "      <td>0.000543</td>\n",
              "      <td>-0.000002</td>\n",
              "      <td>0.000024</td>\n",
              "      <td>0.000415</td>\n",
              "      <td>0.001012</td>\n",
              "      <td>0.000723</td>\n",
              "      <td>0.000009</td>\n",
              "      <td>0.000077</td>\n",
              "      <td>7.028314e-04</td>\n",
              "      <td>0.000406</td>\n",
              "      <td>0.000044</td>\n",
              "      <td>3.206382e-05</td>\n",
              "      <td>9.539685e-06</td>\n",
              "      <td>0.000368</td>\n",
              "      <td>0.000180</td>\n",
              "      <td>0.000057</td>\n",
              "      <td>0.000189</td>\n",
              "      <td>0.000131</td>\n",
              "      <td>0.001027</td>\n",
              "      <td>0.000387</td>\n",
              "      <td>0.000032</td>\n",
              "      <td>0.000111</td>\n",
              "      <td>5.670159e-06</td>\n",
              "      <td>0.001183</td>\n",
              "      <td>-0.001596</td>\n",
              "      <td>0.000100</td>\n",
              "      <td>0.000092</td>\n",
              "      <td>-0.000002</td>\n",
              "      <td>0.000070</td>\n",
              "      <td>...</td>\n",
              "      <td>-0.000050</td>\n",
              "      <td>0.000193</td>\n",
              "      <td>0.000194</td>\n",
              "      <td>0.000125</td>\n",
              "      <td>0.001024</td>\n",
              "      <td>0.000188</td>\n",
              "      <td>0.000078</td>\n",
              "      <td>0.000041</td>\n",
              "      <td>0.000515</td>\n",
              "      <td>3.139124e-05</td>\n",
              "      <td>0.000025</td>\n",
              "      <td>0.000038</td>\n",
              "      <td>2.673948e-04</td>\n",
              "      <td>-0.000143</td>\n",
              "      <td>0.000136</td>\n",
              "      <td>0.000089</td>\n",
              "      <td>0.000018</td>\n",
              "      <td>0.000092</td>\n",
              "      <td>0.000179</td>\n",
              "      <td>0.000080</td>\n",
              "      <td>0.000080</td>\n",
              "      <td>1.365184e-05</td>\n",
              "      <td>3.779088e-05</td>\n",
              "      <td>0.001274</td>\n",
              "      <td>0.000081</td>\n",
              "      <td>0.000329</td>\n",
              "      <td>0.000211</td>\n",
              "      <td>0.000114</td>\n",
              "      <td>0.000031</td>\n",
              "      <td>0.000162</td>\n",
              "      <td>2.292486e-05</td>\n",
              "      <td>0.000119</td>\n",
              "      <td>0.000671</td>\n",
              "      <td>0.000960</td>\n",
              "      <td>-0.000004</td>\n",
              "      <td>0.000087</td>\n",
              "      <td>0.000363</td>\n",
              "      <td>0.000639</td>\n",
              "      <td>0.000213</td>\n",
              "      <td>0.000292</td>\n",
              "    </tr>\n",
              "    <tr>\n",
              "      <th>9790790961</th>\n",
              "      <td>0.000015</td>\n",
              "      <td>0.000006</td>\n",
              "      <td>0.000195</td>\n",
              "      <td>-0.000235</td>\n",
              "      <td>0.000360</td>\n",
              "      <td>0.000059</td>\n",
              "      <td>-0.000194</td>\n",
              "      <td>-0.000033</td>\n",
              "      <td>0.000057</td>\n",
              "      <td>0.003083</td>\n",
              "      <td>0.000040</td>\n",
              "      <td>0.000275</td>\n",
              "      <td>-0.000018</td>\n",
              "      <td>0.000044</td>\n",
              "      <td>0.000382</td>\n",
              "      <td>0.000262</td>\n",
              "      <td>0.000361</td>\n",
              "      <td>0.000006</td>\n",
              "      <td>0.000134</td>\n",
              "      <td>8.035330e-04</td>\n",
              "      <td>0.000407</td>\n",
              "      <td>-0.000172</td>\n",
              "      <td>5.195767e-06</td>\n",
              "      <td>9.956723e-06</td>\n",
              "      <td>0.000642</td>\n",
              "      <td>0.000421</td>\n",
              "      <td>0.000526</td>\n",
              "      <td>0.000331</td>\n",
              "      <td>0.000256</td>\n",
              "      <td>0.000945</td>\n",
              "      <td>0.000759</td>\n",
              "      <td>0.000028</td>\n",
              "      <td>0.000080</td>\n",
              "      <td>2.092059e-06</td>\n",
              "      <td>0.000491</td>\n",
              "      <td>-0.002405</td>\n",
              "      <td>0.000048</td>\n",
              "      <td>0.000331</td>\n",
              "      <td>-0.000067</td>\n",
              "      <td>0.000056</td>\n",
              "      <td>...</td>\n",
              "      <td>0.000617</td>\n",
              "      <td>0.000392</td>\n",
              "      <td>0.000170</td>\n",
              "      <td>0.000224</td>\n",
              "      <td>0.000330</td>\n",
              "      <td>0.000425</td>\n",
              "      <td>0.000058</td>\n",
              "      <td>0.000064</td>\n",
              "      <td>0.000476</td>\n",
              "      <td>-8.562730e-07</td>\n",
              "      <td>0.000030</td>\n",
              "      <td>0.000058</td>\n",
              "      <td>2.422569e-04</td>\n",
              "      <td>-0.000064</td>\n",
              "      <td>0.000197</td>\n",
              "      <td>0.000083</td>\n",
              "      <td>0.000003</td>\n",
              "      <td>0.000044</td>\n",
              "      <td>0.000201</td>\n",
              "      <td>0.000070</td>\n",
              "      <td>0.000048</td>\n",
              "      <td>1.665141e-05</td>\n",
              "      <td>3.017240e-05</td>\n",
              "      <td>-0.001042</td>\n",
              "      <td>0.000057</td>\n",
              "      <td>0.000437</td>\n",
              "      <td>0.000100</td>\n",
              "      <td>0.000046</td>\n",
              "      <td>0.000027</td>\n",
              "      <td>0.000183</td>\n",
              "      <td>2.554409e-06</td>\n",
              "      <td>0.000078</td>\n",
              "      <td>0.000505</td>\n",
              "      <td>0.000322</td>\n",
              "      <td>0.000004</td>\n",
              "      <td>0.000064</td>\n",
              "      <td>0.000187</td>\n",
              "      <td>0.003984</td>\n",
              "      <td>0.000193</td>\n",
              "      <td>0.000151</td>\n",
              "    </tr>\n",
              "    <tr>\n",
              "      <th>9790794231</th>\n",
              "      <td>-0.000002</td>\n",
              "      <td>0.000136</td>\n",
              "      <td>0.000105</td>\n",
              "      <td>-0.000426</td>\n",
              "      <td>-0.000293</td>\n",
              "      <td>-0.000029</td>\n",
              "      <td>-0.000284</td>\n",
              "      <td>0.000005</td>\n",
              "      <td>0.000024</td>\n",
              "      <td>0.000614</td>\n",
              "      <td>-0.000006</td>\n",
              "      <td>-0.000092</td>\n",
              "      <td>0.000045</td>\n",
              "      <td>0.000132</td>\n",
              "      <td>0.000003</td>\n",
              "      <td>-0.000310</td>\n",
              "      <td>-0.000496</td>\n",
              "      <td>0.000001</td>\n",
              "      <td>-0.000012</td>\n",
              "      <td>2.994238e-07</td>\n",
              "      <td>-0.000039</td>\n",
              "      <td>0.000090</td>\n",
              "      <td>-1.218908e-05</td>\n",
              "      <td>1.355060e-07</td>\n",
              "      <td>-0.000038</td>\n",
              "      <td>0.000029</td>\n",
              "      <td>0.000166</td>\n",
              "      <td>0.000029</td>\n",
              "      <td>0.000014</td>\n",
              "      <td>-0.000025</td>\n",
              "      <td>0.000311</td>\n",
              "      <td>-0.000002</td>\n",
              "      <td>0.000073</td>\n",
              "      <td>1.550317e-07</td>\n",
              "      <td>-0.000290</td>\n",
              "      <td>0.000154</td>\n",
              "      <td>0.000071</td>\n",
              "      <td>0.000058</td>\n",
              "      <td>-0.000304</td>\n",
              "      <td>0.000026</td>\n",
              "      <td>...</td>\n",
              "      <td>-0.000231</td>\n",
              "      <td>-0.000320</td>\n",
              "      <td>0.000180</td>\n",
              "      <td>0.000034</td>\n",
              "      <td>-0.000221</td>\n",
              "      <td>-0.000187</td>\n",
              "      <td>0.000037</td>\n",
              "      <td>0.000006</td>\n",
              "      <td>0.000072</td>\n",
              "      <td>-8.843431e-06</td>\n",
              "      <td>0.000055</td>\n",
              "      <td>-0.000090</td>\n",
              "      <td>5.265492e-04</td>\n",
              "      <td>-0.000142</td>\n",
              "      <td>0.000026</td>\n",
              "      <td>-0.000050</td>\n",
              "      <td>-0.000018</td>\n",
              "      <td>0.000007</td>\n",
              "      <td>0.000083</td>\n",
              "      <td>0.000080</td>\n",
              "      <td>-0.000028</td>\n",
              "      <td>3.583214e-06</td>\n",
              "      <td>6.910517e-07</td>\n",
              "      <td>-0.000137</td>\n",
              "      <td>0.000041</td>\n",
              "      <td>0.000127</td>\n",
              "      <td>-0.000036</td>\n",
              "      <td>0.000077</td>\n",
              "      <td>-0.000006</td>\n",
              "      <td>-0.000054</td>\n",
              "      <td>-9.631891e-07</td>\n",
              "      <td>0.000087</td>\n",
              "      <td>0.000195</td>\n",
              "      <td>-0.000165</td>\n",
              "      <td>-0.000017</td>\n",
              "      <td>0.000088</td>\n",
              "      <td>0.000265</td>\n",
              "      <td>0.000075</td>\n",
              "      <td>-0.000021</td>\n",
              "      <td>0.000043</td>\n",
              "    </tr>\n",
              "  </tbody>\n",
              "</table>\n",
              "<p>5 rows × 22110 columns</p>\n",
              "</div>"
            ],
            "text/plain": [
              "            A00414041RD0BXM6WK0GX  ...  AZZZLM1E5JJ8C\n",
              "ProductId                          ...               \n",
              "7806397051               0.000029  ...       0.000121\n",
              "9759091062               0.000011  ...       0.000108\n",
              "9788072216               0.000018  ...       0.000292\n",
              "9790790961               0.000015  ...       0.000151\n",
              "9790794231              -0.000002  ...       0.000043\n",
              "\n",
              "[5 rows x 22110 columns]"
            ]
          },
          "metadata": {
            "tags": []
          },
          "execution_count": 49
        }
      ]
    },
    {
      "cell_type": "code",
      "metadata": {
        "id": "HU_lMR-EzQds"
      },
      "source": [
        "class CFRecommender:\r\n",
        "    \r\n",
        "    MODEL_NAME = 'Collaborative Filtering'\r\n",
        "    \r\n",
        "    def __init__(self, cf_predictions_df):\r\n",
        "        self.cf_predictions_df = cf_predictions_df\r\n",
        "        \r\n",
        "    def get_model_name(self):\r\n",
        "        return self.MODEL_NAME\r\n",
        "        \r\n",
        "    def recommend_items(self, user_id, items_to_ignore=[], topn=10):\r\n",
        "        # Get and sort the user's predictions\r\n",
        "        sorted_user_predictions = self.cf_predictions_df[user_id].sort_values(ascending=False).reset_index().rename(columns={user_id: 'recStrength'})\r\n",
        "\r\n",
        "        # Recommend the highest predicted rating content that the user hasn't seen yet.\r\n",
        "        recommendations_df = sorted_user_predictions[~sorted_user_predictions['ProductId'].isin(items_to_ignore)].sort_values('recStrength', ascending = False).head(topn)\r\n",
        "\r\n",
        "        return recommendations_df\r\n",
        "\r\n",
        "\r\n",
        "cf_recommender_model = CFRecommender(preds_df)     "
      ],
      "execution_count": 50,
      "outputs": []
    },
    {
      "cell_type": "code",
      "metadata": {
        "id": "HdxoTINv2b2C"
      },
      "source": [
        "#Indexing by personId to speed up the searches during evaluation\r\n",
        "purchases_full_indexed_df = interactions_full_df.set_index('UserId')\r\n",
        "purchases_train_indexed_df = interactions_train_df.set_index('UserId')\r\n",
        "purchases_test_indexed_df = interactions_test_df.set_index('UserId')"
      ],
      "execution_count": 52,
      "outputs": []
    },
    {
      "cell_type": "code",
      "metadata": {
        "id": "m90T91FA3H5j"
      },
      "source": [
        "import random"
      ],
      "execution_count": 53,
      "outputs": []
    },
    {
      "cell_type": "code",
      "metadata": {
        "id": "aXdJoIu42gWM"
      },
      "source": [
        "def get_product_purchased(UserId, df):\r\n",
        "    purchased_product = df.loc[UserId]['ProductId']\r\n",
        "    return set(purchased_product if type(purchased_product) == pd.Series else [purchased_product])"
      ],
      "execution_count": 57,
      "outputs": []
    },
    {
      "cell_type": "code",
      "metadata": {
        "id": "rS-MSLdc3JAp"
      },
      "source": [
        "#Top-N accuracy metrics consts\r\n",
        "EVAL_RANDOM_SAMPLE_NON_INTERACTED_ITEMS = 100\r\n",
        "\r\n",
        "class ModelEvaluator:\r\n",
        "\r\n",
        "    # Function for getting the set of items which a user has not interacted with\r\n",
        "    def get_not_purchased_products_sample(self, UserId, sample_size=EVAL_RANDOM_SAMPLE_NON_INTERACTED_ITEMS, seed=42):\r\n",
        "        purchased_products = get_product_purchased(UserId, purchases_full_indexed_df)\r\n",
        "        all_products = set(df['ProductId'])\r\n",
        "        non_purchased_products = all_products - purchased_products\r\n",
        "\r\n",
        "        random.seed(seed)\r\n",
        "        non_purchased_products_sample = random.sample(non_purchased_products, sample_size)\r\n",
        "        return set(non_purchased_products_sample)\r\n",
        "\r\n",
        "    # Function to verify whether a particular item_id was present in the set of top N recommended items\r\n",
        "    def _verify_hit_top_n(self, item_id, recommended_items, topn):        \r\n",
        "            try:\r\n",
        "                index = next(i for i, c in enumerate(recommended_items) if c == item_id)\r\n",
        "            except:\r\n",
        "                index = -1\r\n",
        "            hit = int(index in range(0, topn))\r\n",
        "            return hit, index\r\n",
        "    \r\n",
        "    # Function to evaluate the performance of model for each user\r\n",
        "    def evaluate_model_for_user(self, model, person_id):\r\n",
        "        \r\n",
        "        # Getting the items in test set\r\n",
        "        purchased_values_testset = purchases_test_indexed_df.loc[person_id]\r\n",
        "        \r\n",
        "        if type(purchased_values_testset['ProductId']) == pd.Series:\r\n",
        "            users_purchased_products_testset = set(purchased_values_testset['ProductId'])\r\n",
        "        else:\r\n",
        "            users_purchased_products_testset = set([(purchased_values_testset['ProductId'])])\r\n",
        "            \r\n",
        "        purchased_products_count_testset = len(users_purchased_products_testset) \r\n",
        "\r\n",
        "        # Getting a ranked recommendation list from the model for a given user\r\n",
        "        person_recs_df = model.recommend_items(person_id, items_to_ignore=get_product_purchased(person_id, purchases_train_indexed_df),topn=10000000)\r\n",
        "\r\n",
        "        hits_at_5_count = 0\r\n",
        "        hits_at_10_count = 0\r\n",
        "        hits_at_15_count = 0\r\n",
        "        \r\n",
        "        # For each item the user has interacted in test set\r\n",
        "        for item_id in users_purchased_products_testset:\r\n",
        "            \r\n",
        "            # Getting a random sample of 100 items the user has not interacted with\r\n",
        "            non_purchased_products_sample = self.get_not_purchased_products_sample(person_id,seed=item_id)\r\n",
        "\r\n",
        "            # Combining the current interacted item with the 100 random items\r\n",
        "            items_to_filter_recs = non_purchased_products_sample.union(set([item_id]))\r\n",
        "\r\n",
        "            # Filtering only recommendations that are either the interacted item or from a random sample of 100 non-interacted items\r\n",
        "            valid_recs_df = person_recs_df[person_recs_df['ProductId'].isin(items_to_filter_recs)]                    \r\n",
        "            valid_recs = valid_recs_df['ProductId'].values\r\n",
        "            \r\n",
        "            # Verifying if the current interacted item is among the Top-N recommended items\r\n",
        "            hit_at_5, index_at_5 = self._verify_hit_top_n(item_id, valid_recs, 5)\r\n",
        "            hits_at_5_count += hit_at_5\r\n",
        "            hit_at_10, index_at_10 = self._verify_hit_top_n(item_id, valid_recs, 10)\r\n",
        "            hits_at_10_count += hit_at_10\r\n",
        "            hit_at_15, index_at_15 = self._verify_hit_top_n(item_id, valid_recs, 15)\r\n",
        "            hits_at_15_count += hit_at_15\r\n",
        "\r\n",
        "        # Recall is the rate of the interacted items that are ranked among the Top-N recommended items\r\n",
        "        recall_at_5 = hits_at_5_count / float(purchased_products_count_testset)\r\n",
        "        recall_at_10 = hits_at_10_count / float(purchased_products_count_testset)\r\n",
        "        recall_at_15 = hits_at_15_count / float(purchased_products_count_testset)\r\n",
        "\r\n",
        "        person_metrics = {'hits@5_count':hits_at_5_count, \r\n",
        "                          'hits@10_count':hits_at_10_count, \r\n",
        "                          'hits@15_count':hits_at_15_count,\r\n",
        "                          'recall@5': recall_at_5,\r\n",
        "                          'recall@10': recall_at_10,\r\n",
        "                          'recall@15': recall_at_15,\r\n",
        "                          'interacted_count': purchased_products_count_testset}\r\n",
        "        return person_metrics\r\n",
        "\r\n",
        "    \r\n",
        "    # Function to evaluate the performance of model at overall level\r\n",
        "    def evaluate_model(self, model):\r\n",
        "        \r\n",
        "        people_metrics = []\r\n",
        "        \r\n",
        "        for idx, person_id in enumerate(list(purchases_test_indexed_df.index.unique().values)):    \r\n",
        "            person_metrics = self.evaluate_model_for_user(model, person_id)  \r\n",
        "            person_metrics['UserId'] = person_id\r\n",
        "            people_metrics.append(person_metrics)\r\n",
        "            \r\n",
        "        print('%d users processed' % idx)\r\n",
        "\r\n",
        "        detailed_results_df = pd.DataFrame(people_metrics).sort_values('interacted_count', ascending=False)\r\n",
        "        \r\n",
        "        global_recall_at_5 = detailed_results_df['hits@5_count'].sum() / float(detailed_results_df['interacted_count'].sum())\r\n",
        "        global_recall_at_10 = detailed_results_df['hits@10_count'].sum() / float(detailed_results_df['interacted_count'].sum())\r\n",
        "        global_recall_at_15 = detailed_results_df['hits@15_count'].sum() / float(detailed_results_df['interacted_count'].sum())\r\n",
        "        \r\n",
        "        global_metrics = {'modelName': model.get_model_name(),\r\n",
        "                          'recall@5': global_recall_at_5,\r\n",
        "                          'recall@10': global_recall_at_10,\r\n",
        "                          'recall@15': global_recall_at_15}    \r\n",
        "        return global_metrics, detailed_results_df\r\n",
        "    \r\n",
        "model_evaluator = ModelEvaluator()    "
      ],
      "execution_count": 58,
      "outputs": []
    },
    {
      "cell_type": "code",
      "metadata": {
        "colab": {
          "base_uri": "https://localhost:8080/"
        },
        "id": "z9cwdU7N3Rh7",
        "outputId": "86b2ed01-8534-44c6-966d-5f61560607ba"
      },
      "source": [
        "print('Evaluating Collaborative Filtering (SVD Matrix Factorization) model...')\r\n",
        "cf_global_metrics, cf_detailed_results_df = model_evaluator.evaluate_model(cf_recommender_model)"
      ],
      "execution_count": 59,
      "outputs": [
        {
          "output_type": "stream",
          "text": [
            "Evaluating Collaborative Filtering (SVD Matrix Factorization) model...\n",
            "22109 users processed\n"
          ],
          "name": "stdout"
        }
      ]
    },
    {
      "cell_type": "code",
      "metadata": {
        "colab": {
          "base_uri": "https://localhost:8080/",
          "height": 394
        },
        "id": "jqWlkg6F3Rcg",
        "outputId": "7348378d-05c9-496b-cc3f-4209f8157996"
      },
      "source": [
        "print('\\nGlobal metrics:\\n%s' % cf_global_metrics)\r\n",
        "cf_detailed_results_df.head(10)"
      ],
      "execution_count": 60,
      "outputs": [
        {
          "output_type": "stream",
          "text": [
            "\n",
            "Global metrics:\n",
            "{'modelName': 'Collaborative Filtering', 'recall@5': 0.365773293929821, 'recall@10': 0.45799789395020213, 'recall@15': 0.5215360576106526}\n"
          ],
          "name": "stdout"
        },
        {
          "output_type": "execute_result",
          "data": {
            "text/html": [
              "<div>\n",
              "<style scoped>\n",
              "    .dataframe tbody tr th:only-of-type {\n",
              "        vertical-align: middle;\n",
              "    }\n",
              "\n",
              "    .dataframe tbody tr th {\n",
              "        vertical-align: top;\n",
              "    }\n",
              "\n",
              "    .dataframe thead th {\n",
              "        text-align: right;\n",
              "    }\n",
              "</style>\n",
              "<table border=\"1\" class=\"dataframe\">\n",
              "  <thead>\n",
              "    <tr style=\"text-align: right;\">\n",
              "      <th></th>\n",
              "      <th>hits@5_count</th>\n",
              "      <th>hits@10_count</th>\n",
              "      <th>hits@15_count</th>\n",
              "      <th>recall@5</th>\n",
              "      <th>recall@10</th>\n",
              "      <th>recall@15</th>\n",
              "      <th>interacted_count</th>\n",
              "      <th>UserId</th>\n",
              "    </tr>\n",
              "  </thead>\n",
              "  <tbody>\n",
              "    <tr>\n",
              "      <th>3136</th>\n",
              "      <td>13</td>\n",
              "      <td>18</td>\n",
              "      <td>25</td>\n",
              "      <td>0.213115</td>\n",
              "      <td>0.295082</td>\n",
              "      <td>0.409836</td>\n",
              "      <td>61</td>\n",
              "      <td>A2V5R832QCSOMX</td>\n",
              "    </tr>\n",
              "    <tr>\n",
              "      <th>1132</th>\n",
              "      <td>53</td>\n",
              "      <td>53</td>\n",
              "      <td>54</td>\n",
              "      <td>0.929825</td>\n",
              "      <td>0.929825</td>\n",
              "      <td>0.947368</td>\n",
              "      <td>57</td>\n",
              "      <td>ALNFHVS3SC4FV</td>\n",
              "    </tr>\n",
              "    <tr>\n",
              "      <th>289</th>\n",
              "      <td>20</td>\n",
              "      <td>34</td>\n",
              "      <td>40</td>\n",
              "      <td>0.370370</td>\n",
              "      <td>0.629630</td>\n",
              "      <td>0.740741</td>\n",
              "      <td>54</td>\n",
              "      <td>AKMEY1BSHSDG7</td>\n",
              "    </tr>\n",
              "    <tr>\n",
              "      <th>3635</th>\n",
              "      <td>6</td>\n",
              "      <td>11</td>\n",
              "      <td>14</td>\n",
              "      <td>0.130435</td>\n",
              "      <td>0.239130</td>\n",
              "      <td>0.304348</td>\n",
              "      <td>46</td>\n",
              "      <td>A3KEZLJ59C1JVH</td>\n",
              "    </tr>\n",
              "    <tr>\n",
              "      <th>1643</th>\n",
              "      <td>5</td>\n",
              "      <td>11</td>\n",
              "      <td>11</td>\n",
              "      <td>0.111111</td>\n",
              "      <td>0.244444</td>\n",
              "      <td>0.244444</td>\n",
              "      <td>45</td>\n",
              "      <td>ALQGOMOY1F5X9</td>\n",
              "    </tr>\n",
              "    <tr>\n",
              "      <th>1548</th>\n",
              "      <td>40</td>\n",
              "      <td>41</td>\n",
              "      <td>42</td>\n",
              "      <td>0.888889</td>\n",
              "      <td>0.911111</td>\n",
              "      <td>0.933333</td>\n",
              "      <td>45</td>\n",
              "      <td>A1UQBFCERIP7VJ</td>\n",
              "    </tr>\n",
              "    <tr>\n",
              "      <th>622</th>\n",
              "      <td>27</td>\n",
              "      <td>31</td>\n",
              "      <td>31</td>\n",
              "      <td>0.600000</td>\n",
              "      <td>0.688889</td>\n",
              "      <td>0.688889</td>\n",
              "      <td>45</td>\n",
              "      <td>A34BZM6S9L7QI4</td>\n",
              "    </tr>\n",
              "    <tr>\n",
              "      <th>2070</th>\n",
              "      <td>32</td>\n",
              "      <td>35</td>\n",
              "      <td>35</td>\n",
              "      <td>0.820513</td>\n",
              "      <td>0.897436</td>\n",
              "      <td>0.897436</td>\n",
              "      <td>39</td>\n",
              "      <td>A3NHUQ33CFH3VM</td>\n",
              "    </tr>\n",
              "    <tr>\n",
              "      <th>1508</th>\n",
              "      <td>34</td>\n",
              "      <td>35</td>\n",
              "      <td>35</td>\n",
              "      <td>0.918919</td>\n",
              "      <td>0.945946</td>\n",
              "      <td>0.945946</td>\n",
              "      <td>37</td>\n",
              "      <td>AEL6CQNQXONBX</td>\n",
              "    </tr>\n",
              "    <tr>\n",
              "      <th>1336</th>\n",
              "      <td>6</td>\n",
              "      <td>8</td>\n",
              "      <td>13</td>\n",
              "      <td>0.166667</td>\n",
              "      <td>0.222222</td>\n",
              "      <td>0.361111</td>\n",
              "      <td>36</td>\n",
              "      <td>A281NPSIMI1C2R</td>\n",
              "    </tr>\n",
              "  </tbody>\n",
              "</table>\n",
              "</div>"
            ],
            "text/plain": [
              "      hits@5_count  hits@10_count  ...  interacted_count          UserId\n",
              "3136            13             18  ...                61  A2V5R832QCSOMX\n",
              "1132            53             53  ...                57   ALNFHVS3SC4FV\n",
              "289             20             34  ...                54   AKMEY1BSHSDG7\n",
              "3635             6             11  ...                46  A3KEZLJ59C1JVH\n",
              "1643             5             11  ...                45   ALQGOMOY1F5X9\n",
              "1548            40             41  ...                45  A1UQBFCERIP7VJ\n",
              "622             27             31  ...                45  A34BZM6S9L7QI4\n",
              "2070            32             35  ...                39  A3NHUQ33CFH3VM\n",
              "1508            34             35  ...                37   AEL6CQNQXONBX\n",
              "1336             6              8  ...                36  A281NPSIMI1C2R\n",
              "\n",
              "[10 rows x 8 columns]"
            ]
          },
          "metadata": {
            "tags": []
          },
          "execution_count": 60
        }
      ]
    },
    {
      "cell_type": "code",
      "metadata": {
        "id": "AVArjiQ83RXt"
      },
      "source": [
        ""
      ],
      "execution_count": null,
      "outputs": []
    }
  ]
}