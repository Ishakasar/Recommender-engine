{
  "nbformat": 4,
  "nbformat_minor": 0,
  "metadata": {
    "kernelspec": {
      "display_name": "Python 3",
      "language": "python",
      "name": "python3"
    },
    "language_info": {
      "codemirror_mode": {
        "name": "ipython",
        "version": 3
      },
      "file_extension": ".py",
      "mimetype": "text/x-python",
      "name": "python",
      "nbconvert_exporter": "python",
      "pygments_lexer": "ipython3",
      "version": "3.6.6"
    },
    "colab": {
      "name": "Isha Kasar - Team 2 - Capstone Project 4.ipynb",
      "provenance": [],
      "collapsed_sections": [],
      "include_colab_link": true
    }
  },
  "cells": [
    {
      "cell_type": "markdown",
      "metadata": {
        "id": "view-in-github",
        "colab_type": "text"
      },
      "source": [
        "<a href=\"https://colab.research.google.com/github/Ishakasar/Recommender-engine/blob/main/Isha_Kasar_Team_2_Capstone_Project_4.ipynb\" target=\"_parent\"><img src=\"https://colab.research.google.com/assets/colab-badge.svg\" alt=\"Open In Colab\"/></a>"
      ]
    },
    {
      "cell_type": "markdown",
      "metadata": {
        "id": "tOGC-qoyhJeX"
      },
      "source": [
        "# <b><u> Project Title : Build a recommender engine that reviews customer ratings and purchase history to recommend items and improve sales. </u></b>"
      ]
    },
    {
      "cell_type": "markdown",
      "metadata": {
        "id": "Y06xIdG26kRF"
      },
      "source": [
        "### Amazon.com is one of the largest electronic commerce and cloud computing companies.\n",
        "\n",
        "### Just a few Amazon related facts:\n",
        "\n",
        "### They lost $4.8 million in August 2013, when their website went down for 40 mins. They hold the patent on 1-Click buying, and licenses it to Apple. Their Phoenix fulfilment centre is a massive 1.2 million square feet. Amazon relies heavily on a Recommendation engine that reviews customer ratings and purchase history to recommend items and improve sales.\n",
        "\n",
        "\n",
        "### This is a dataset related to over 2 Million customer reviews and ratings of Beauty related products sold on their website.\n",
        "\n",
        "### It contains\n",
        "\n",
        "* ### the unique UserId (Customer Identification),\n",
        "* ### the product ASIN (Amazon's unique product identification code for each product),\n",
        "* ### Ratings (ranging from 1-5 based on customer satisfaction) and\n",
        "* ### the Timestamp of the rating (in UNIX time)\n",
        "\n",
        "### This dataset contains product reviews and metadata from Amazon, including 142.8 million reviews spanning May 1996 - July 2014.\n",
        "\n",
        "### This dataset includes reviews (ratings, text, helpfulness votes), product metadata (descriptions, category information, price, brand, and image features), and links (also viewed/also bought graphs).\n"
      ]
    },
    {
      "cell_type": "code",
      "metadata": {
        "colab": {
          "base_uri": "https://localhost:8080/"
        },
        "id": "W440mhgRkcyV",
        "outputId": "54c2ae18-3a5c-4684-9a5f-c720c12fc5a4"
      },
      "source": [
        "from google.colab import drive\n",
        "drive.mount('/content/drive')"
      ],
      "execution_count": 1,
      "outputs": [
        {
          "output_type": "stream",
          "text": [
            "Mounted at /content/drive\n"
          ],
          "name": "stdout"
        }
      ]
    },
    {
      "cell_type": "code",
      "metadata": {
        "id": "HY5gWl7ukv_B"
      },
      "source": [
        "import numpy as np\r\n",
        "import scipy\r\n",
        "import pandas as pd\r\n",
        "import math\r\n",
        "import random\r\n",
        "import sklearn\r\n",
        "from nltk.corpus import stopwords\r\n",
        "from sklearn.model_selection import train_test_split\r\n",
        "from sklearn.feature_extraction.text import TfidfVectorizer\r\n",
        "from sklearn.metrics.pairwise import cosine_similarity\r\n",
        "from scipy.sparse.linalg import svds\r\n",
        "import matplotlib.pyplot as plt"
      ],
      "execution_count": 2,
      "outputs": []
    },
    {
      "cell_type": "code",
      "metadata": {
        "id": "8wyTheqLQUTE"
      },
      "source": [
        "df1=pd.read_csv('/content/drive/MyDrive/AlmaBetter/Cohort Aravali/Module 4/Week 4/ratings_Beauty.csv')"
      ],
      "execution_count": 3,
      "outputs": []
    },
    {
      "cell_type": "code",
      "metadata": {
        "id": "ZDLcwrVmk_-U"
      },
      "source": [
        "df2=pd.read_json('/content/drive/MyDrive/AlmaBetter/Cohort Aravali/Module 4/Week 4/reviews_Beauty_5.json.gz', lines = True)"
      ],
      "execution_count": 4,
      "outputs": []
    },
    {
      "cell_type": "code",
      "metadata": {
        "colab": {
          "base_uri": "https://localhost:8080/",
          "height": 204
        },
        "id": "YiD6MFFelIab",
        "outputId": "8a3ce087-a252-4cff-f6a0-7537211a0608"
      },
      "source": [
        "df1.head()"
      ],
      "execution_count": 5,
      "outputs": [
        {
          "output_type": "execute_result",
          "data": {
            "text/html": [
              "<div>\n",
              "<style scoped>\n",
              "    .dataframe tbody tr th:only-of-type {\n",
              "        vertical-align: middle;\n",
              "    }\n",
              "\n",
              "    .dataframe tbody tr th {\n",
              "        vertical-align: top;\n",
              "    }\n",
              "\n",
              "    .dataframe thead th {\n",
              "        text-align: right;\n",
              "    }\n",
              "</style>\n",
              "<table border=\"1\" class=\"dataframe\">\n",
              "  <thead>\n",
              "    <tr style=\"text-align: right;\">\n",
              "      <th></th>\n",
              "      <th>UserId</th>\n",
              "      <th>ProductId</th>\n",
              "      <th>Rating</th>\n",
              "      <th>Timestamp</th>\n",
              "    </tr>\n",
              "  </thead>\n",
              "  <tbody>\n",
              "    <tr>\n",
              "      <th>0</th>\n",
              "      <td>A39HTATAQ9V7YF</td>\n",
              "      <td>0205616461</td>\n",
              "      <td>5.0</td>\n",
              "      <td>1369699200</td>\n",
              "    </tr>\n",
              "    <tr>\n",
              "      <th>1</th>\n",
              "      <td>A3JM6GV9MNOF9X</td>\n",
              "      <td>0558925278</td>\n",
              "      <td>3.0</td>\n",
              "      <td>1355443200</td>\n",
              "    </tr>\n",
              "    <tr>\n",
              "      <th>2</th>\n",
              "      <td>A1Z513UWSAAO0F</td>\n",
              "      <td>0558925278</td>\n",
              "      <td>5.0</td>\n",
              "      <td>1404691200</td>\n",
              "    </tr>\n",
              "    <tr>\n",
              "      <th>3</th>\n",
              "      <td>A1WMRR494NWEWV</td>\n",
              "      <td>0733001998</td>\n",
              "      <td>4.0</td>\n",
              "      <td>1382572800</td>\n",
              "    </tr>\n",
              "    <tr>\n",
              "      <th>4</th>\n",
              "      <td>A3IAAVS479H7M7</td>\n",
              "      <td>0737104473</td>\n",
              "      <td>1.0</td>\n",
              "      <td>1274227200</td>\n",
              "    </tr>\n",
              "  </tbody>\n",
              "</table>\n",
              "</div>"
            ],
            "text/plain": [
              "           UserId   ProductId  Rating   Timestamp\n",
              "0  A39HTATAQ9V7YF  0205616461     5.0  1369699200\n",
              "1  A3JM6GV9MNOF9X  0558925278     3.0  1355443200\n",
              "2  A1Z513UWSAAO0F  0558925278     5.0  1404691200\n",
              "3  A1WMRR494NWEWV  0733001998     4.0  1382572800\n",
              "4  A3IAAVS479H7M7  0737104473     1.0  1274227200"
            ]
          },
          "metadata": {
            "tags": []
          },
          "execution_count": 5
        }
      ]
    },
    {
      "cell_type": "code",
      "metadata": {
        "colab": {
          "base_uri": "https://localhost:8080/"
        },
        "id": "aKpLcYCZlms3",
        "outputId": "0c6241ab-a01d-43b4-973a-b9fa1e137d4f"
      },
      "source": [
        "df1.info()"
      ],
      "execution_count": 6,
      "outputs": [
        {
          "output_type": "stream",
          "text": [
            "<class 'pandas.core.frame.DataFrame'>\n",
            "RangeIndex: 2023070 entries, 0 to 2023069\n",
            "Data columns (total 4 columns):\n",
            " #   Column     Dtype  \n",
            "---  ------     -----  \n",
            " 0   UserId     object \n",
            " 1   ProductId  object \n",
            " 2   Rating     float64\n",
            " 3   Timestamp  int64  \n",
            "dtypes: float64(1), int64(1), object(2)\n",
            "memory usage: 61.7+ MB\n"
          ],
          "name": "stdout"
        }
      ]
    },
    {
      "cell_type": "code",
      "metadata": {
        "colab": {
          "base_uri": "https://localhost:8080/",
          "height": 297
        },
        "id": "rZsrPmWKlpAZ",
        "outputId": "6d5ba115-c24e-4631-9e44-1601ace3a0e9"
      },
      "source": [
        "df1.describe()"
      ],
      "execution_count": 7,
      "outputs": [
        {
          "output_type": "execute_result",
          "data": {
            "text/html": [
              "<div>\n",
              "<style scoped>\n",
              "    .dataframe tbody tr th:only-of-type {\n",
              "        vertical-align: middle;\n",
              "    }\n",
              "\n",
              "    .dataframe tbody tr th {\n",
              "        vertical-align: top;\n",
              "    }\n",
              "\n",
              "    .dataframe thead th {\n",
              "        text-align: right;\n",
              "    }\n",
              "</style>\n",
              "<table border=\"1\" class=\"dataframe\">\n",
              "  <thead>\n",
              "    <tr style=\"text-align: right;\">\n",
              "      <th></th>\n",
              "      <th>Rating</th>\n",
              "      <th>Timestamp</th>\n",
              "    </tr>\n",
              "  </thead>\n",
              "  <tbody>\n",
              "    <tr>\n",
              "      <th>count</th>\n",
              "      <td>2.023070e+06</td>\n",
              "      <td>2.023070e+06</td>\n",
              "    </tr>\n",
              "    <tr>\n",
              "      <th>mean</th>\n",
              "      <td>4.149036e+00</td>\n",
              "      <td>1.360389e+09</td>\n",
              "    </tr>\n",
              "    <tr>\n",
              "      <th>std</th>\n",
              "      <td>1.311505e+00</td>\n",
              "      <td>4.611860e+07</td>\n",
              "    </tr>\n",
              "    <tr>\n",
              "      <th>min</th>\n",
              "      <td>1.000000e+00</td>\n",
              "      <td>9.087552e+08</td>\n",
              "    </tr>\n",
              "    <tr>\n",
              "      <th>25%</th>\n",
              "      <td>4.000000e+00</td>\n",
              "      <td>1.350259e+09</td>\n",
              "    </tr>\n",
              "    <tr>\n",
              "      <th>50%</th>\n",
              "      <td>5.000000e+00</td>\n",
              "      <td>1.372810e+09</td>\n",
              "    </tr>\n",
              "    <tr>\n",
              "      <th>75%</th>\n",
              "      <td>5.000000e+00</td>\n",
              "      <td>1.391472e+09</td>\n",
              "    </tr>\n",
              "    <tr>\n",
              "      <th>max</th>\n",
              "      <td>5.000000e+00</td>\n",
              "      <td>1.406074e+09</td>\n",
              "    </tr>\n",
              "  </tbody>\n",
              "</table>\n",
              "</div>"
            ],
            "text/plain": [
              "             Rating     Timestamp\n",
              "count  2.023070e+06  2.023070e+06\n",
              "mean   4.149036e+00  1.360389e+09\n",
              "std    1.311505e+00  4.611860e+07\n",
              "min    1.000000e+00  9.087552e+08\n",
              "25%    4.000000e+00  1.350259e+09\n",
              "50%    5.000000e+00  1.372810e+09\n",
              "75%    5.000000e+00  1.391472e+09\n",
              "max    5.000000e+00  1.406074e+09"
            ]
          },
          "metadata": {
            "tags": []
          },
          "execution_count": 7
        }
      ]
    },
    {
      "cell_type": "code",
      "metadata": {
        "colab": {
          "base_uri": "https://localhost:8080/"
        },
        "id": "pniz1DEYluh6",
        "outputId": "329f9649-27a7-4af4-c92e-00856f5095f8"
      },
      "source": [
        "df1.isnull().sum()"
      ],
      "execution_count": 8,
      "outputs": [
        {
          "output_type": "execute_result",
          "data": {
            "text/plain": [
              "UserId       0\n",
              "ProductId    0\n",
              "Rating       0\n",
              "Timestamp    0\n",
              "dtype: int64"
            ]
          },
          "metadata": {
            "tags": []
          },
          "execution_count": 8
        }
      ]
    },
    {
      "cell_type": "code",
      "metadata": {
        "colab": {
          "base_uri": "https://localhost:8080/",
          "height": 204
        },
        "id": "Y6op2FMHmVZ0",
        "outputId": "aa500c9f-c635-4ff5-8b2d-14ac0d906bd4"
      },
      "source": [
        "df2.head()"
      ],
      "execution_count": 9,
      "outputs": [
        {
          "output_type": "execute_result",
          "data": {
            "text/html": [
              "<div>\n",
              "<style scoped>\n",
              "    .dataframe tbody tr th:only-of-type {\n",
              "        vertical-align: middle;\n",
              "    }\n",
              "\n",
              "    .dataframe tbody tr th {\n",
              "        vertical-align: top;\n",
              "    }\n",
              "\n",
              "    .dataframe thead th {\n",
              "        text-align: right;\n",
              "    }\n",
              "</style>\n",
              "<table border=\"1\" class=\"dataframe\">\n",
              "  <thead>\n",
              "    <tr style=\"text-align: right;\">\n",
              "      <th></th>\n",
              "      <th>reviewerID</th>\n",
              "      <th>asin</th>\n",
              "      <th>reviewerName</th>\n",
              "      <th>helpful</th>\n",
              "      <th>reviewText</th>\n",
              "      <th>overall</th>\n",
              "      <th>summary</th>\n",
              "      <th>unixReviewTime</th>\n",
              "      <th>reviewTime</th>\n",
              "    </tr>\n",
              "  </thead>\n",
              "  <tbody>\n",
              "    <tr>\n",
              "      <th>0</th>\n",
              "      <td>A1YJEY40YUW4SE</td>\n",
              "      <td>7806397051</td>\n",
              "      <td>Andrea</td>\n",
              "      <td>[3, 4]</td>\n",
              "      <td>Very oily and creamy. Not at all what I expect...</td>\n",
              "      <td>1</td>\n",
              "      <td>Don't waste your money</td>\n",
              "      <td>1391040000</td>\n",
              "      <td>01 30, 2014</td>\n",
              "    </tr>\n",
              "    <tr>\n",
              "      <th>1</th>\n",
              "      <td>A60XNB876KYML</td>\n",
              "      <td>7806397051</td>\n",
              "      <td>Jessica H.</td>\n",
              "      <td>[1, 1]</td>\n",
              "      <td>This palette was a decent price and I was look...</td>\n",
              "      <td>3</td>\n",
              "      <td>OK Palette!</td>\n",
              "      <td>1397779200</td>\n",
              "      <td>04 18, 2014</td>\n",
              "    </tr>\n",
              "    <tr>\n",
              "      <th>2</th>\n",
              "      <td>A3G6XNM240RMWA</td>\n",
              "      <td>7806397051</td>\n",
              "      <td>Karen</td>\n",
              "      <td>[0, 1]</td>\n",
              "      <td>The texture of this concealer pallet is fantas...</td>\n",
              "      <td>4</td>\n",
              "      <td>great quality</td>\n",
              "      <td>1378425600</td>\n",
              "      <td>09 6, 2013</td>\n",
              "    </tr>\n",
              "    <tr>\n",
              "      <th>3</th>\n",
              "      <td>A1PQFP6SAJ6D80</td>\n",
              "      <td>7806397051</td>\n",
              "      <td>Norah</td>\n",
              "      <td>[2, 2]</td>\n",
              "      <td>I really can't tell what exactly this thing is...</td>\n",
              "      <td>2</td>\n",
              "      <td>Do not work on my face</td>\n",
              "      <td>1386460800</td>\n",
              "      <td>12 8, 2013</td>\n",
              "    </tr>\n",
              "    <tr>\n",
              "      <th>4</th>\n",
              "      <td>A38FVHZTNQ271F</td>\n",
              "      <td>7806397051</td>\n",
              "      <td>Nova Amor</td>\n",
              "      <td>[0, 0]</td>\n",
              "      <td>It was a little smaller than I expected, but t...</td>\n",
              "      <td>3</td>\n",
              "      <td>It's okay.</td>\n",
              "      <td>1382140800</td>\n",
              "      <td>10 19, 2013</td>\n",
              "    </tr>\n",
              "  </tbody>\n",
              "</table>\n",
              "</div>"
            ],
            "text/plain": [
              "       reviewerID        asin  ... unixReviewTime   reviewTime\n",
              "0  A1YJEY40YUW4SE  7806397051  ...     1391040000  01 30, 2014\n",
              "1   A60XNB876KYML  7806397051  ...     1397779200  04 18, 2014\n",
              "2  A3G6XNM240RMWA  7806397051  ...     1378425600   09 6, 2013\n",
              "3  A1PQFP6SAJ6D80  7806397051  ...     1386460800   12 8, 2013\n",
              "4  A38FVHZTNQ271F  7806397051  ...     1382140800  10 19, 2013\n",
              "\n",
              "[5 rows x 9 columns]"
            ]
          },
          "metadata": {
            "tags": []
          },
          "execution_count": 9
        }
      ]
    },
    {
      "cell_type": "code",
      "metadata": {
        "colab": {
          "base_uri": "https://localhost:8080/"
        },
        "id": "Y2PWQnAomBgV",
        "outputId": "cc22c0ff-08f0-40fc-e0dd-b3791974370e"
      },
      "source": [
        "df2.info()"
      ],
      "execution_count": 10,
      "outputs": [
        {
          "output_type": "stream",
          "text": [
            "<class 'pandas.core.frame.DataFrame'>\n",
            "RangeIndex: 198502 entries, 0 to 198501\n",
            "Data columns (total 9 columns):\n",
            " #   Column          Non-Null Count   Dtype \n",
            "---  ------          --------------   ----- \n",
            " 0   reviewerID      198502 non-null  object\n",
            " 1   asin            198502 non-null  object\n",
            " 2   reviewerName    197116 non-null  object\n",
            " 3   helpful         198502 non-null  object\n",
            " 4   reviewText      198502 non-null  object\n",
            " 5   overall         198502 non-null  int64 \n",
            " 6   summary         198502 non-null  object\n",
            " 7   unixReviewTime  198502 non-null  int64 \n",
            " 8   reviewTime      198502 non-null  object\n",
            "dtypes: int64(2), object(7)\n",
            "memory usage: 13.6+ MB\n"
          ],
          "name": "stdout"
        }
      ]
    },
    {
      "cell_type": "code",
      "metadata": {
        "colab": {
          "base_uri": "https://localhost:8080/",
          "height": 297
        },
        "id": "qlNu3O2YmG5x",
        "outputId": "d39ceeb9-7d68-4b14-d42d-ee8378959434"
      },
      "source": [
        "df2.describe()"
      ],
      "execution_count": 11,
      "outputs": [
        {
          "output_type": "execute_result",
          "data": {
            "text/html": [
              "<div>\n",
              "<style scoped>\n",
              "    .dataframe tbody tr th:only-of-type {\n",
              "        vertical-align: middle;\n",
              "    }\n",
              "\n",
              "    .dataframe tbody tr th {\n",
              "        vertical-align: top;\n",
              "    }\n",
              "\n",
              "    .dataframe thead th {\n",
              "        text-align: right;\n",
              "    }\n",
              "</style>\n",
              "<table border=\"1\" class=\"dataframe\">\n",
              "  <thead>\n",
              "    <tr style=\"text-align: right;\">\n",
              "      <th></th>\n",
              "      <th>overall</th>\n",
              "      <th>unixReviewTime</th>\n",
              "    </tr>\n",
              "  </thead>\n",
              "  <tbody>\n",
              "    <tr>\n",
              "      <th>count</th>\n",
              "      <td>198502.000000</td>\n",
              "      <td>1.985020e+05</td>\n",
              "    </tr>\n",
              "    <tr>\n",
              "      <th>mean</th>\n",
              "      <td>4.190391</td>\n",
              "      <td>1.364450e+09</td>\n",
              "    </tr>\n",
              "    <tr>\n",
              "      <th>std</th>\n",
              "      <td>1.166580</td>\n",
              "      <td>3.841937e+07</td>\n",
              "    </tr>\n",
              "    <tr>\n",
              "      <th>min</th>\n",
              "      <td>1.000000</td>\n",
              "      <td>1.023840e+09</td>\n",
              "    </tr>\n",
              "    <tr>\n",
              "      <th>25%</th>\n",
              "      <td>4.000000</td>\n",
              "      <td>1.354493e+09</td>\n",
              "    </tr>\n",
              "    <tr>\n",
              "      <th>50%</th>\n",
              "      <td>5.000000</td>\n",
              "      <td>1.372205e+09</td>\n",
              "    </tr>\n",
              "    <tr>\n",
              "      <th>75%</th>\n",
              "      <td>5.000000</td>\n",
              "      <td>1.391213e+09</td>\n",
              "    </tr>\n",
              "    <tr>\n",
              "      <th>max</th>\n",
              "      <td>5.000000</td>\n",
              "      <td>1.406074e+09</td>\n",
              "    </tr>\n",
              "  </tbody>\n",
              "</table>\n",
              "</div>"
            ],
            "text/plain": [
              "             overall  unixReviewTime\n",
              "count  198502.000000    1.985020e+05\n",
              "mean        4.190391    1.364450e+09\n",
              "std         1.166580    3.841937e+07\n",
              "min         1.000000    1.023840e+09\n",
              "25%         4.000000    1.354493e+09\n",
              "50%         5.000000    1.372205e+09\n",
              "75%         5.000000    1.391213e+09\n",
              "max         5.000000    1.406074e+09"
            ]
          },
          "metadata": {
            "tags": []
          },
          "execution_count": 11
        }
      ]
    },
    {
      "cell_type": "code",
      "metadata": {
        "colab": {
          "base_uri": "https://localhost:8080/"
        },
        "id": "tMF2_qcYmN_P",
        "outputId": "f664bd8f-8e6f-4519-c42e-cf97418034ba"
      },
      "source": [
        "df2.isnull().sum()"
      ],
      "execution_count": 12,
      "outputs": [
        {
          "output_type": "execute_result",
          "data": {
            "text/plain": [
              "reviewerID           0\n",
              "asin                 0\n",
              "reviewerName      1386\n",
              "helpful              0\n",
              "reviewText           0\n",
              "overall              0\n",
              "summary              0\n",
              "unixReviewTime       0\n",
              "reviewTime           0\n",
              "dtype: int64"
            ]
          },
          "metadata": {
            "tags": []
          },
          "execution_count": 12
        }
      ]
    },
    {
      "cell_type": "code",
      "metadata": {
        "colab": {
          "base_uri": "https://localhost:8080/",
          "height": 204
        },
        "id": "WVuIcDISiRm6",
        "outputId": "19af68f8-bf03-4cec-b859-81d3da7f6015"
      },
      "source": [
        "df1.head()"
      ],
      "execution_count": 13,
      "outputs": [
        {
          "output_type": "execute_result",
          "data": {
            "text/html": [
              "<div>\n",
              "<style scoped>\n",
              "    .dataframe tbody tr th:only-of-type {\n",
              "        vertical-align: middle;\n",
              "    }\n",
              "\n",
              "    .dataframe tbody tr th {\n",
              "        vertical-align: top;\n",
              "    }\n",
              "\n",
              "    .dataframe thead th {\n",
              "        text-align: right;\n",
              "    }\n",
              "</style>\n",
              "<table border=\"1\" class=\"dataframe\">\n",
              "  <thead>\n",
              "    <tr style=\"text-align: right;\">\n",
              "      <th></th>\n",
              "      <th>UserId</th>\n",
              "      <th>ProductId</th>\n",
              "      <th>Rating</th>\n",
              "      <th>Timestamp</th>\n",
              "    </tr>\n",
              "  </thead>\n",
              "  <tbody>\n",
              "    <tr>\n",
              "      <th>0</th>\n",
              "      <td>A39HTATAQ9V7YF</td>\n",
              "      <td>0205616461</td>\n",
              "      <td>5.0</td>\n",
              "      <td>1369699200</td>\n",
              "    </tr>\n",
              "    <tr>\n",
              "      <th>1</th>\n",
              "      <td>A3JM6GV9MNOF9X</td>\n",
              "      <td>0558925278</td>\n",
              "      <td>3.0</td>\n",
              "      <td>1355443200</td>\n",
              "    </tr>\n",
              "    <tr>\n",
              "      <th>2</th>\n",
              "      <td>A1Z513UWSAAO0F</td>\n",
              "      <td>0558925278</td>\n",
              "      <td>5.0</td>\n",
              "      <td>1404691200</td>\n",
              "    </tr>\n",
              "    <tr>\n",
              "      <th>3</th>\n",
              "      <td>A1WMRR494NWEWV</td>\n",
              "      <td>0733001998</td>\n",
              "      <td>4.0</td>\n",
              "      <td>1382572800</td>\n",
              "    </tr>\n",
              "    <tr>\n",
              "      <th>4</th>\n",
              "      <td>A3IAAVS479H7M7</td>\n",
              "      <td>0737104473</td>\n",
              "      <td>1.0</td>\n",
              "      <td>1274227200</td>\n",
              "    </tr>\n",
              "  </tbody>\n",
              "</table>\n",
              "</div>"
            ],
            "text/plain": [
              "           UserId   ProductId  Rating   Timestamp\n",
              "0  A39HTATAQ9V7YF  0205616461     5.0  1369699200\n",
              "1  A3JM6GV9MNOF9X  0558925278     3.0  1355443200\n",
              "2  A1Z513UWSAAO0F  0558925278     5.0  1404691200\n",
              "3  A1WMRR494NWEWV  0733001998     4.0  1382572800\n",
              "4  A3IAAVS479H7M7  0737104473     1.0  1274227200"
            ]
          },
          "metadata": {
            "tags": []
          },
          "execution_count": 13
        }
      ]
    },
    {
      "cell_type": "code",
      "metadata": {
        "colab": {
          "base_uri": "https://localhost:8080/",
          "height": 204
        },
        "id": "AWRDXmlIim40",
        "outputId": "75395daa-36eb-46f3-ec4e-d65f7ccd1df9"
      },
      "source": [
        "df2.head()"
      ],
      "execution_count": 14,
      "outputs": [
        {
          "output_type": "execute_result",
          "data": {
            "text/html": [
              "<div>\n",
              "<style scoped>\n",
              "    .dataframe tbody tr th:only-of-type {\n",
              "        vertical-align: middle;\n",
              "    }\n",
              "\n",
              "    .dataframe tbody tr th {\n",
              "        vertical-align: top;\n",
              "    }\n",
              "\n",
              "    .dataframe thead th {\n",
              "        text-align: right;\n",
              "    }\n",
              "</style>\n",
              "<table border=\"1\" class=\"dataframe\">\n",
              "  <thead>\n",
              "    <tr style=\"text-align: right;\">\n",
              "      <th></th>\n",
              "      <th>reviewerID</th>\n",
              "      <th>asin</th>\n",
              "      <th>reviewerName</th>\n",
              "      <th>helpful</th>\n",
              "      <th>reviewText</th>\n",
              "      <th>overall</th>\n",
              "      <th>summary</th>\n",
              "      <th>unixReviewTime</th>\n",
              "      <th>reviewTime</th>\n",
              "    </tr>\n",
              "  </thead>\n",
              "  <tbody>\n",
              "    <tr>\n",
              "      <th>0</th>\n",
              "      <td>A1YJEY40YUW4SE</td>\n",
              "      <td>7806397051</td>\n",
              "      <td>Andrea</td>\n",
              "      <td>[3, 4]</td>\n",
              "      <td>Very oily and creamy. Not at all what I expect...</td>\n",
              "      <td>1</td>\n",
              "      <td>Don't waste your money</td>\n",
              "      <td>1391040000</td>\n",
              "      <td>01 30, 2014</td>\n",
              "    </tr>\n",
              "    <tr>\n",
              "      <th>1</th>\n",
              "      <td>A60XNB876KYML</td>\n",
              "      <td>7806397051</td>\n",
              "      <td>Jessica H.</td>\n",
              "      <td>[1, 1]</td>\n",
              "      <td>This palette was a decent price and I was look...</td>\n",
              "      <td>3</td>\n",
              "      <td>OK Palette!</td>\n",
              "      <td>1397779200</td>\n",
              "      <td>04 18, 2014</td>\n",
              "    </tr>\n",
              "    <tr>\n",
              "      <th>2</th>\n",
              "      <td>A3G6XNM240RMWA</td>\n",
              "      <td>7806397051</td>\n",
              "      <td>Karen</td>\n",
              "      <td>[0, 1]</td>\n",
              "      <td>The texture of this concealer pallet is fantas...</td>\n",
              "      <td>4</td>\n",
              "      <td>great quality</td>\n",
              "      <td>1378425600</td>\n",
              "      <td>09 6, 2013</td>\n",
              "    </tr>\n",
              "    <tr>\n",
              "      <th>3</th>\n",
              "      <td>A1PQFP6SAJ6D80</td>\n",
              "      <td>7806397051</td>\n",
              "      <td>Norah</td>\n",
              "      <td>[2, 2]</td>\n",
              "      <td>I really can't tell what exactly this thing is...</td>\n",
              "      <td>2</td>\n",
              "      <td>Do not work on my face</td>\n",
              "      <td>1386460800</td>\n",
              "      <td>12 8, 2013</td>\n",
              "    </tr>\n",
              "    <tr>\n",
              "      <th>4</th>\n",
              "      <td>A38FVHZTNQ271F</td>\n",
              "      <td>7806397051</td>\n",
              "      <td>Nova Amor</td>\n",
              "      <td>[0, 0]</td>\n",
              "      <td>It was a little smaller than I expected, but t...</td>\n",
              "      <td>3</td>\n",
              "      <td>It's okay.</td>\n",
              "      <td>1382140800</td>\n",
              "      <td>10 19, 2013</td>\n",
              "    </tr>\n",
              "  </tbody>\n",
              "</table>\n",
              "</div>"
            ],
            "text/plain": [
              "       reviewerID        asin  ... unixReviewTime   reviewTime\n",
              "0  A1YJEY40YUW4SE  7806397051  ...     1391040000  01 30, 2014\n",
              "1   A60XNB876KYML  7806397051  ...     1397779200  04 18, 2014\n",
              "2  A3G6XNM240RMWA  7806397051  ...     1378425600   09 6, 2013\n",
              "3  A1PQFP6SAJ6D80  7806397051  ...     1386460800   12 8, 2013\n",
              "4  A38FVHZTNQ271F  7806397051  ...     1382140800  10 19, 2013\n",
              "\n",
              "[5 rows x 9 columns]"
            ]
          },
          "metadata": {
            "tags": []
          },
          "execution_count": 14
        }
      ]
    },
    {
      "cell_type": "code",
      "metadata": {
        "colab": {
          "base_uri": "https://localhost:8080/"
        },
        "id": "unEizjchcP1G",
        "outputId": "8e9cafda-f49d-4061-97f6-522bf30c6915"
      },
      "source": [
        "df2[['reviewerID','asin']].duplicated().value_counts()"
      ],
      "execution_count": 15,
      "outputs": [
        {
          "output_type": "execute_result",
          "data": {
            "text/plain": [
              "False    198502\n",
              "dtype: int64"
            ]
          },
          "metadata": {
            "tags": []
          },
          "execution_count": 15
        }
      ]
    },
    {
      "cell_type": "code",
      "metadata": {
        "id": "Ek8TSObgJMqN"
      },
      "source": [
        "df=df1.sample(frac = 0.4)"
      ],
      "execution_count": 16,
      "outputs": []
    },
    {
      "cell_type": "code",
      "metadata": {
        "id": "YIKf-V0VjbC3",
        "colab": {
          "base_uri": "https://localhost:8080/"
        },
        "outputId": "19e6e0bc-ea13-4bb2-c67b-5eb06e7b6690"
      },
      "source": [
        "users_interactions_count_df = df.groupby(['UserId', 'ProductId']).size().groupby('UserId').size()\r\n",
        "print('# of users: %d' % len(users_interactions_count_df))\r\n",
        "\r\n",
        "interaction_df = users_interactions_count_df[users_interactions_count_df >= 5].reset_index()[['UserId']]\r\n",
        "print('# of users with at least 5 interactions: %d' % len(interaction_df))"
      ],
      "execution_count": 17,
      "outputs": [
        {
          "output_type": "stream",
          "text": [
            "# of users: 594436\n",
            "# of users with at least 5 interactions: 11335\n"
          ],
          "name": "stdout"
        }
      ]
    },
    {
      "cell_type": "code",
      "metadata": {
        "colab": {
          "base_uri": "https://localhost:8080/"
        },
        "id": "7HyggXoOAj_0",
        "outputId": "bcd251c7-5353-4e59-8471-78c83db84a5d"
      },
      "source": [
        "users_interactions_count_df.head()"
      ],
      "execution_count": 18,
      "outputs": [
        {
          "output_type": "execute_result",
          "data": {
            "text/plain": [
              "UserId\n",
              "A00008821J0F472NDY6A2    1\n",
              "A000186437REL8X2RW8UW    1\n",
              "A00029263J863WSR0TDRS    1\n",
              "A00031961JI1CBNV98TW     1\n",
              "A00088021N0VU5Z2UM73L    1\n",
              "dtype: int64"
            ]
          },
          "metadata": {
            "tags": []
          },
          "execution_count": 18
        }
      ]
    },
    {
      "cell_type": "code",
      "metadata": {
        "colab": {
          "base_uri": "https://localhost:8080/",
          "height": 204
        },
        "id": "KbJPbrO3AJAO",
        "outputId": "462d49fa-a835-4f57-c012-0c1efb14ea73"
      },
      "source": [
        "interaction_df.head()"
      ],
      "execution_count": 19,
      "outputs": [
        {
          "output_type": "execute_result",
          "data": {
            "text/html": [
              "<div>\n",
              "<style scoped>\n",
              "    .dataframe tbody tr th:only-of-type {\n",
              "        vertical-align: middle;\n",
              "    }\n",
              "\n",
              "    .dataframe tbody tr th {\n",
              "        vertical-align: top;\n",
              "    }\n",
              "\n",
              "    .dataframe thead th {\n",
              "        text-align: right;\n",
              "    }\n",
              "</style>\n",
              "<table border=\"1\" class=\"dataframe\">\n",
              "  <thead>\n",
              "    <tr style=\"text-align: right;\">\n",
              "      <th></th>\n",
              "      <th>UserId</th>\n",
              "    </tr>\n",
              "  </thead>\n",
              "  <tbody>\n",
              "    <tr>\n",
              "      <th>0</th>\n",
              "      <td>A0078719IR14X3NNUG0F</td>\n",
              "    </tr>\n",
              "    <tr>\n",
              "      <th>1</th>\n",
              "      <td>A02155413BVL8D0G7X6DN</td>\n",
              "    </tr>\n",
              "    <tr>\n",
              "      <th>2</th>\n",
              "      <td>A029527620Q3SK5XW16RR</td>\n",
              "    </tr>\n",
              "    <tr>\n",
              "      <th>3</th>\n",
              "      <td>A03364251DGXSGA9PSR99</td>\n",
              "    </tr>\n",
              "    <tr>\n",
              "      <th>4</th>\n",
              "      <td>A042274212BJJVOBS4Q85</td>\n",
              "    </tr>\n",
              "  </tbody>\n",
              "</table>\n",
              "</div>"
            ],
            "text/plain": [
              "                  UserId\n",
              "0   A0078719IR14X3NNUG0F\n",
              "1  A02155413BVL8D0G7X6DN\n",
              "2  A029527620Q3SK5XW16RR\n",
              "3  A03364251DGXSGA9PSR99\n",
              "4  A042274212BJJVOBS4Q85"
            ]
          },
          "metadata": {
            "tags": []
          },
          "execution_count": 19
        }
      ]
    },
    {
      "cell_type": "code",
      "metadata": {
        "colab": {
          "base_uri": "https://localhost:8080/",
          "height": 35
        },
        "id": "nFvva-xFKBQS",
        "outputId": "e53fe52a-0d75-4fbe-8a9e-220d36c55b79"
      },
      "source": [
        "''"
      ],
      "execution_count": 20,
      "outputs": [
        {
          "output_type": "execute_result",
          "data": {
            "application/vnd.google.colaboratory.intrinsic+json": {
              "type": "string"
            },
            "text/plain": [
              "''"
            ]
          },
          "metadata": {
            "tags": []
          },
          "execution_count": 20
        }
      ]
    },
    {
      "cell_type": "code",
      "metadata": {
        "colab": {
          "base_uri": "https://localhost:8080/"
        },
        "id": "uud76LL3AR0n",
        "outputId": "eda657c0-9214-4c48-c9eb-ca7678d6f288"
      },
      "source": [
        "interactions_from_selected_users_df = df1.merge(interaction_df, \r\n",
        "               how = 'right',\r\n",
        "               left_on = 'UserId',\r\n",
        "               right_on = 'UserId')\r\n",
        "print('# of interactions from users with at least 5 interactions: %d' % len(interactions_from_selected_users_df))"
      ],
      "execution_count": 21,
      "outputs": [
        {
          "output_type": "stream",
          "text": [
            "# of interactions from users with at least 5 interactions: 196962\n"
          ],
          "name": "stdout"
        }
      ]
    },
    {
      "cell_type": "code",
      "metadata": {
        "colab": {
          "base_uri": "https://localhost:8080/",
          "height": 669
        },
        "id": "XGGKRg7hCPwD",
        "outputId": "7e16e5f2-111e-41ac-83ba-3e4c19eba61a"
      },
      "source": [
        "interactions_from_selected_users_df.head(20)"
      ],
      "execution_count": 22,
      "outputs": [
        {
          "output_type": "execute_result",
          "data": {
            "text/html": [
              "<div>\n",
              "<style scoped>\n",
              "    .dataframe tbody tr th:only-of-type {\n",
              "        vertical-align: middle;\n",
              "    }\n",
              "\n",
              "    .dataframe tbody tr th {\n",
              "        vertical-align: top;\n",
              "    }\n",
              "\n",
              "    .dataframe thead th {\n",
              "        text-align: right;\n",
              "    }\n",
              "</style>\n",
              "<table border=\"1\" class=\"dataframe\">\n",
              "  <thead>\n",
              "    <tr style=\"text-align: right;\">\n",
              "      <th></th>\n",
              "      <th>UserId</th>\n",
              "      <th>ProductId</th>\n",
              "      <th>Rating</th>\n",
              "      <th>Timestamp</th>\n",
              "    </tr>\n",
              "  </thead>\n",
              "  <tbody>\n",
              "    <tr>\n",
              "      <th>0</th>\n",
              "      <td>A0078719IR14X3NNUG0F</td>\n",
              "      <td>B001CE6T76</td>\n",
              "      <td>4.0</td>\n",
              "      <td>1367798400</td>\n",
              "    </tr>\n",
              "    <tr>\n",
              "      <th>1</th>\n",
              "      <td>A0078719IR14X3NNUG0F</td>\n",
              "      <td>B005Y6F4WO</td>\n",
              "      <td>5.0</td>\n",
              "      <td>1367280000</td>\n",
              "    </tr>\n",
              "    <tr>\n",
              "      <th>2</th>\n",
              "      <td>A0078719IR14X3NNUG0F</td>\n",
              "      <td>B0069FDR96</td>\n",
              "      <td>5.0</td>\n",
              "      <td>1367193600</td>\n",
              "    </tr>\n",
              "    <tr>\n",
              "      <th>3</th>\n",
              "      <td>A0078719IR14X3NNUG0F</td>\n",
              "      <td>B006L1DNWY</td>\n",
              "      <td>5.0</td>\n",
              "      <td>1366416000</td>\n",
              "    </tr>\n",
              "    <tr>\n",
              "      <th>4</th>\n",
              "      <td>A0078719IR14X3NNUG0F</td>\n",
              "      <td>B007HORL1I</td>\n",
              "      <td>5.0</td>\n",
              "      <td>1370044800</td>\n",
              "    </tr>\n",
              "    <tr>\n",
              "      <th>5</th>\n",
              "      <td>A0078719IR14X3NNUG0F</td>\n",
              "      <td>B0083QNBCM</td>\n",
              "      <td>5.0</td>\n",
              "      <td>1367798400</td>\n",
              "    </tr>\n",
              "    <tr>\n",
              "      <th>6</th>\n",
              "      <td>A0078719IR14X3NNUG0F</td>\n",
              "      <td>B008RRX9CE</td>\n",
              "      <td>5.0</td>\n",
              "      <td>1366416000</td>\n",
              "    </tr>\n",
              "    <tr>\n",
              "      <th>7</th>\n",
              "      <td>A0078719IR14X3NNUG0F</td>\n",
              "      <td>B008SPOKIW</td>\n",
              "      <td>5.0</td>\n",
              "      <td>1367452800</td>\n",
              "    </tr>\n",
              "    <tr>\n",
              "      <th>8</th>\n",
              "      <td>A0078719IR14X3NNUG0F</td>\n",
              "      <td>B0098T2JWG</td>\n",
              "      <td>5.0</td>\n",
              "      <td>1368835200</td>\n",
              "    </tr>\n",
              "    <tr>\n",
              "      <th>9</th>\n",
              "      <td>A0078719IR14X3NNUG0F</td>\n",
              "      <td>B0098T3D5I</td>\n",
              "      <td>5.0</td>\n",
              "      <td>1368835200</td>\n",
              "    </tr>\n",
              "    <tr>\n",
              "      <th>10</th>\n",
              "      <td>A0078719IR14X3NNUG0F</td>\n",
              "      <td>B00A86ST0E</td>\n",
              "      <td>5.0</td>\n",
              "      <td>1370044800</td>\n",
              "    </tr>\n",
              "    <tr>\n",
              "      <th>11</th>\n",
              "      <td>A0078719IR14X3NNUG0F</td>\n",
              "      <td>B00BNB38AO</td>\n",
              "      <td>5.0</td>\n",
              "      <td>1367193600</td>\n",
              "    </tr>\n",
              "    <tr>\n",
              "      <th>12</th>\n",
              "      <td>A02155413BVL8D0G7X6DN</td>\n",
              "      <td>B0010BQ8EA</td>\n",
              "      <td>5.0</td>\n",
              "      <td>1361491200</td>\n",
              "    </tr>\n",
              "    <tr>\n",
              "      <th>13</th>\n",
              "      <td>A02155413BVL8D0G7X6DN</td>\n",
              "      <td>B00117CH5M</td>\n",
              "      <td>3.0</td>\n",
              "      <td>1367366400</td>\n",
              "    </tr>\n",
              "    <tr>\n",
              "      <th>14</th>\n",
              "      <td>A02155413BVL8D0G7X6DN</td>\n",
              "      <td>B001DYLHJA</td>\n",
              "      <td>5.0</td>\n",
              "      <td>1351123200</td>\n",
              "    </tr>\n",
              "    <tr>\n",
              "      <th>15</th>\n",
              "      <td>A02155413BVL8D0G7X6DN</td>\n",
              "      <td>B001G2LWDK</td>\n",
              "      <td>5.0</td>\n",
              "      <td>1354752000</td>\n",
              "    </tr>\n",
              "    <tr>\n",
              "      <th>16</th>\n",
              "      <td>A02155413BVL8D0G7X6DN</td>\n",
              "      <td>B002787ACO</td>\n",
              "      <td>5.0</td>\n",
              "      <td>1395964800</td>\n",
              "    </tr>\n",
              "    <tr>\n",
              "      <th>17</th>\n",
              "      <td>A02155413BVL8D0G7X6DN</td>\n",
              "      <td>B002J6YIC4</td>\n",
              "      <td>5.0</td>\n",
              "      <td>1367712000</td>\n",
              "    </tr>\n",
              "    <tr>\n",
              "      <th>18</th>\n",
              "      <td>A02155413BVL8D0G7X6DN</td>\n",
              "      <td>B002WJHL22</td>\n",
              "      <td>5.0</td>\n",
              "      <td>1361491200</td>\n",
              "    </tr>\n",
              "    <tr>\n",
              "      <th>19</th>\n",
              "      <td>A02155413BVL8D0G7X6DN</td>\n",
              "      <td>B003FO70Z6</td>\n",
              "      <td>5.0</td>\n",
              "      <td>1367366400</td>\n",
              "    </tr>\n",
              "  </tbody>\n",
              "</table>\n",
              "</div>"
            ],
            "text/plain": [
              "                   UserId   ProductId  Rating   Timestamp\n",
              "0    A0078719IR14X3NNUG0F  B001CE6T76     4.0  1367798400\n",
              "1    A0078719IR14X3NNUG0F  B005Y6F4WO     5.0  1367280000\n",
              "2    A0078719IR14X3NNUG0F  B0069FDR96     5.0  1367193600\n",
              "3    A0078719IR14X3NNUG0F  B006L1DNWY     5.0  1366416000\n",
              "4    A0078719IR14X3NNUG0F  B007HORL1I     5.0  1370044800\n",
              "5    A0078719IR14X3NNUG0F  B0083QNBCM     5.0  1367798400\n",
              "6    A0078719IR14X3NNUG0F  B008RRX9CE     5.0  1366416000\n",
              "7    A0078719IR14X3NNUG0F  B008SPOKIW     5.0  1367452800\n",
              "8    A0078719IR14X3NNUG0F  B0098T2JWG     5.0  1368835200\n",
              "9    A0078719IR14X3NNUG0F  B0098T3D5I     5.0  1368835200\n",
              "10   A0078719IR14X3NNUG0F  B00A86ST0E     5.0  1370044800\n",
              "11   A0078719IR14X3NNUG0F  B00BNB38AO     5.0  1367193600\n",
              "12  A02155413BVL8D0G7X6DN  B0010BQ8EA     5.0  1361491200\n",
              "13  A02155413BVL8D0G7X6DN  B00117CH5M     3.0  1367366400\n",
              "14  A02155413BVL8D0G7X6DN  B001DYLHJA     5.0  1351123200\n",
              "15  A02155413BVL8D0G7X6DN  B001G2LWDK     5.0  1354752000\n",
              "16  A02155413BVL8D0G7X6DN  B002787ACO     5.0  1395964800\n",
              "17  A02155413BVL8D0G7X6DN  B002J6YIC4     5.0  1367712000\n",
              "18  A02155413BVL8D0G7X6DN  B002WJHL22     5.0  1361491200\n",
              "19  A02155413BVL8D0G7X6DN  B003FO70Z6     5.0  1367366400"
            ]
          },
          "metadata": {
            "tags": []
          },
          "execution_count": 22
        }
      ]
    },
    {
      "cell_type": "code",
      "metadata": {
        "colab": {
          "base_uri": "https://localhost:8080/"
        },
        "id": "HbRUdhCgCSBX",
        "outputId": "95604fa5-6f45-4055-d9cb-c616e32af03c"
      },
      "source": [
        "df1.shape"
      ],
      "execution_count": 23,
      "outputs": [
        {
          "output_type": "execute_result",
          "data": {
            "text/plain": [
              "(2023070, 4)"
            ]
          },
          "metadata": {
            "tags": []
          },
          "execution_count": 23
        }
      ]
    },
    {
      "cell_type": "code",
      "metadata": {
        "colab": {
          "base_uri": "https://localhost:8080/"
        },
        "id": "U53bPTtjCVm6",
        "outputId": "07c5de23-12f9-4f73-bd76-bed10bbdeef6"
      },
      "source": [
        "interactions_from_selected_users_df.shape"
      ],
      "execution_count": 24,
      "outputs": [
        {
          "output_type": "execute_result",
          "data": {
            "text/plain": [
              "(196962, 4)"
            ]
          },
          "metadata": {
            "tags": []
          },
          "execution_count": 24
        }
      ]
    },
    {
      "cell_type": "code",
      "metadata": {
        "colab": {
          "base_uri": "https://localhost:8080/",
          "height": 221
        },
        "id": "4pght7O4CbJi",
        "outputId": "8acb0cd6-4f2d-4988-8994-c2af4a3d401b"
      },
      "source": [
        "import math\r\n",
        "def smooth_user_preference(x):\r\n",
        "    return math.log(1+x, 2)\r\n",
        "    \r\n",
        "interactions_full_df = interactions_from_selected_users_df.groupby(['UserId', 'ProductId'])['Rating'].sum().apply(smooth_user_preference).reset_index()\r\n",
        "print('# of unique user/item interactions: %d' % len(interactions_full_df))\r\n",
        "interactions_full_df.head()"
      ],
      "execution_count": 25,
      "outputs": [
        {
          "output_type": "stream",
          "text": [
            "# of unique user/item interactions: 196962\n"
          ],
          "name": "stdout"
        },
        {
          "output_type": "execute_result",
          "data": {
            "text/html": [
              "<div>\n",
              "<style scoped>\n",
              "    .dataframe tbody tr th:only-of-type {\n",
              "        vertical-align: middle;\n",
              "    }\n",
              "\n",
              "    .dataframe tbody tr th {\n",
              "        vertical-align: top;\n",
              "    }\n",
              "\n",
              "    .dataframe thead th {\n",
              "        text-align: right;\n",
              "    }\n",
              "</style>\n",
              "<table border=\"1\" class=\"dataframe\">\n",
              "  <thead>\n",
              "    <tr style=\"text-align: right;\">\n",
              "      <th></th>\n",
              "      <th>UserId</th>\n",
              "      <th>ProductId</th>\n",
              "      <th>Rating</th>\n",
              "    </tr>\n",
              "  </thead>\n",
              "  <tbody>\n",
              "    <tr>\n",
              "      <th>0</th>\n",
              "      <td>A0078719IR14X3NNUG0F</td>\n",
              "      <td>B001CE6T76</td>\n",
              "      <td>2.321928</td>\n",
              "    </tr>\n",
              "    <tr>\n",
              "      <th>1</th>\n",
              "      <td>A0078719IR14X3NNUG0F</td>\n",
              "      <td>B005Y6F4WO</td>\n",
              "      <td>2.584963</td>\n",
              "    </tr>\n",
              "    <tr>\n",
              "      <th>2</th>\n",
              "      <td>A0078719IR14X3NNUG0F</td>\n",
              "      <td>B0069FDR96</td>\n",
              "      <td>2.584963</td>\n",
              "    </tr>\n",
              "    <tr>\n",
              "      <th>3</th>\n",
              "      <td>A0078719IR14X3NNUG0F</td>\n",
              "      <td>B006L1DNWY</td>\n",
              "      <td>2.584963</td>\n",
              "    </tr>\n",
              "    <tr>\n",
              "      <th>4</th>\n",
              "      <td>A0078719IR14X3NNUG0F</td>\n",
              "      <td>B007HORL1I</td>\n",
              "      <td>2.584963</td>\n",
              "    </tr>\n",
              "  </tbody>\n",
              "</table>\n",
              "</div>"
            ],
            "text/plain": [
              "                 UserId   ProductId    Rating\n",
              "0  A0078719IR14X3NNUG0F  B001CE6T76  2.321928\n",
              "1  A0078719IR14X3NNUG0F  B005Y6F4WO  2.584963\n",
              "2  A0078719IR14X3NNUG0F  B0069FDR96  2.584963\n",
              "3  A0078719IR14X3NNUG0F  B006L1DNWY  2.584963\n",
              "4  A0078719IR14X3NNUG0F  B007HORL1I  2.584963"
            ]
          },
          "metadata": {
            "tags": []
          },
          "execution_count": 25
        }
      ]
    },
    {
      "cell_type": "code",
      "metadata": {
        "id": "nX1amS9aJEY1"
      },
      "source": [
        ""
      ],
      "execution_count": 25,
      "outputs": []
    },
    {
      "cell_type": "code",
      "metadata": {
        "id": "ZavgRoY7EaIk"
      },
      "source": [
        "interactions_train_df, interactions_test_df = train_test_split(interactions_full_df,\r\n",
        "                                   stratify=interactions_full_df['UserId'], \r\n",
        "                                   test_size=0.30,\r\n",
        "                                   random_state=42)"
      ],
      "execution_count": 26,
      "outputs": []
    },
    {
      "cell_type": "code",
      "metadata": {
        "colab": {
          "base_uri": "https://localhost:8080/"
        },
        "id": "Lg8A5tkRFUYr",
        "outputId": "8b010cbd-c436-4f28-fd26-bd398c18ceb4"
      },
      "source": [
        "\r\n",
        "print('# interactions on Train set: %d' % len(interactions_train_df))\r\n",
        "print('# interactions on Test set: %d' % len(interactions_test_df))"
      ],
      "execution_count": 27,
      "outputs": [
        {
          "output_type": "stream",
          "text": [
            "# interactions on Train set: 137873\n",
            "# interactions on Test set: 59089\n"
          ],
          "name": "stdout"
        }
      ]
    },
    {
      "cell_type": "markdown",
      "metadata": {
        "id": "FJQSVO6wFak8"
      },
      "source": [
        "##Creating pivot table"
      ]
    },
    {
      "cell_type": "code",
      "metadata": {
        "id": "yQf3pdpCFUQf"
      },
      "source": [
        "#Creating a sparse pivot table with users in rows and items in columns\r\n",
        "pivot_matrix_df = interactions_train_df.pivot(index='UserId', \r\n",
        "                                                          columns='ProductId', \r\n",
        "                                                          values='Rating').fillna(0)"
      ],
      "execution_count": 28,
      "outputs": []
    },
    {
      "cell_type": "code",
      "metadata": {
        "colab": {
          "base_uri": "https://localhost:8080/"
        },
        "id": "KASermxxFUE2",
        "outputId": "db1db6dc-42bc-4f27-85cc-1c7c1750e573"
      },
      "source": [
        "pivot_matrix_df.shape"
      ],
      "execution_count": 29,
      "outputs": [
        {
          "output_type": "execute_result",
          "data": {
            "text/plain": [
              "(11335, 55249)"
            ]
          },
          "metadata": {
            "tags": []
          },
          "execution_count": 29
        }
      ]
    },
    {
      "cell_type": "code",
      "metadata": {
        "colab": {
          "base_uri": "https://localhost:8080/"
        },
        "id": "_uBUQjjZRypF",
        "outputId": "6e04e241-0481-4e79-9341-4232ad18f1d0"
      },
      "source": [
        "df2.shape"
      ],
      "execution_count": 30,
      "outputs": [
        {
          "output_type": "execute_result",
          "data": {
            "text/plain": [
              "(198502, 9)"
            ]
          },
          "metadata": {
            "tags": []
          },
          "execution_count": 30
        }
      ]
    },
    {
      "cell_type": "code",
      "metadata": {
        "colab": {
          "base_uri": "https://localhost:8080/",
          "height": 284
        },
        "id": "18Jh_NBHJ10O",
        "outputId": "865cad6b-c72c-4427-c809-0bdc6a819b8b"
      },
      "source": [
        "pivot_matrix_df.head()"
      ],
      "execution_count": 31,
      "outputs": [
        {
          "output_type": "execute_result",
          "data": {
            "text/html": [
              "<div>\n",
              "<style scoped>\n",
              "    .dataframe tbody tr th:only-of-type {\n",
              "        vertical-align: middle;\n",
              "    }\n",
              "\n",
              "    .dataframe tbody tr th {\n",
              "        vertical-align: top;\n",
              "    }\n",
              "\n",
              "    .dataframe thead th {\n",
              "        text-align: right;\n",
              "    }\n",
              "</style>\n",
              "<table border=\"1\" class=\"dataframe\">\n",
              "  <thead>\n",
              "    <tr style=\"text-align: right;\">\n",
              "      <th>ProductId</th>\n",
              "      <th>0762451459</th>\n",
              "      <th>1304139212</th>\n",
              "      <th>130414643X</th>\n",
              "      <th>1304174867</th>\n",
              "      <th>1304351475</th>\n",
              "      <th>1304482596</th>\n",
              "      <th>1304482685</th>\n",
              "      <th>1304495396</th>\n",
              "      <th>1304511073</th>\n",
              "      <th>1304511081</th>\n",
              "      <th>1304511111</th>\n",
              "      <th>1304511138</th>\n",
              "      <th>1304511146</th>\n",
              "      <th>1304511154</th>\n",
              "      <th>1304622223</th>\n",
              "      <th>1304622452</th>\n",
              "      <th>1304622460</th>\n",
              "      <th>1304622657</th>\n",
              "      <th>1304622665</th>\n",
              "      <th>1304651029</th>\n",
              "      <th>1304651118</th>\n",
              "      <th>1304665704</th>\n",
              "      <th>1304665720</th>\n",
              "      <th>130466578X</th>\n",
              "      <th>4057368825</th>\n",
              "      <th>5297000963</th>\n",
              "      <th>5357954771</th>\n",
              "      <th>6022600790</th>\n",
              "      <th>6162751473</th>\n",
              "      <th>7806397051</th>\n",
              "      <th>8901110814</th>\n",
              "      <th>9510213861</th>\n",
              "      <th>9511181564</th>\n",
              "      <th>957696718X</th>\n",
              "      <th>9746427962</th>\n",
              "      <th>9747842297</th>\n",
              "      <th>9749377397</th>\n",
              "      <th>9759091062</th>\n",
              "      <th>9788071139</th>\n",
              "      <th>978807118X</th>\n",
              "      <th>...</th>\n",
              "      <th>B00KVE7R0Q</th>\n",
              "      <th>B00KVO2JWC</th>\n",
              "      <th>B00KWE08Q0</th>\n",
              "      <th>B00KWL83Q0</th>\n",
              "      <th>B00KWR2IV0</th>\n",
              "      <th>B00KXENYY2</th>\n",
              "      <th>B00KXF9WPG</th>\n",
              "      <th>B00KXG8JF4</th>\n",
              "      <th>B00KY9ODMS</th>\n",
              "      <th>B00KYCKPBI</th>\n",
              "      <th>B00KYWDP1A</th>\n",
              "      <th>B00L0C529Q</th>\n",
              "      <th>B00L0GJOMS</th>\n",
              "      <th>B00L0RT0XA</th>\n",
              "      <th>B00L0YCBIY</th>\n",
              "      <th>B00L1CALVO</th>\n",
              "      <th>B00L252RBM</th>\n",
              "      <th>B00L2JKUY4</th>\n",
              "      <th>B00L2K53BS</th>\n",
              "      <th>B00L2KVF9W</th>\n",
              "      <th>B00L3GD6H4</th>\n",
              "      <th>B00L3K91OW</th>\n",
              "      <th>B00L3KPPRE</th>\n",
              "      <th>B00L3LB0IG</th>\n",
              "      <th>B00L3LBUGI</th>\n",
              "      <th>B00L3V2904</th>\n",
              "      <th>B00L4I5PJS</th>\n",
              "      <th>B00L5BXG36</th>\n",
              "      <th>B00L5JHZJO</th>\n",
              "      <th>B00L5KTZ0K</th>\n",
              "      <th>B00L6Q3BH6</th>\n",
              "      <th>B00L7BX4FE</th>\n",
              "      <th>B00L8OYGUC</th>\n",
              "      <th>B00LAI1FYG</th>\n",
              "      <th>B00LFWG7EU</th>\n",
              "      <th>B00LG63DOM</th>\n",
              "      <th>B00LJEACWC</th>\n",
              "      <th>B00LLPT4HI</th>\n",
              "      <th>B00LMOT7X4</th>\n",
              "      <th>B00LNOKBYW</th>\n",
              "    </tr>\n",
              "    <tr>\n",
              "      <th>UserId</th>\n",
              "      <th></th>\n",
              "      <th></th>\n",
              "      <th></th>\n",
              "      <th></th>\n",
              "      <th></th>\n",
              "      <th></th>\n",
              "      <th></th>\n",
              "      <th></th>\n",
              "      <th></th>\n",
              "      <th></th>\n",
              "      <th></th>\n",
              "      <th></th>\n",
              "      <th></th>\n",
              "      <th></th>\n",
              "      <th></th>\n",
              "      <th></th>\n",
              "      <th></th>\n",
              "      <th></th>\n",
              "      <th></th>\n",
              "      <th></th>\n",
              "      <th></th>\n",
              "      <th></th>\n",
              "      <th></th>\n",
              "      <th></th>\n",
              "      <th></th>\n",
              "      <th></th>\n",
              "      <th></th>\n",
              "      <th></th>\n",
              "      <th></th>\n",
              "      <th></th>\n",
              "      <th></th>\n",
              "      <th></th>\n",
              "      <th></th>\n",
              "      <th></th>\n",
              "      <th></th>\n",
              "      <th></th>\n",
              "      <th></th>\n",
              "      <th></th>\n",
              "      <th></th>\n",
              "      <th></th>\n",
              "      <th></th>\n",
              "      <th></th>\n",
              "      <th></th>\n",
              "      <th></th>\n",
              "      <th></th>\n",
              "      <th></th>\n",
              "      <th></th>\n",
              "      <th></th>\n",
              "      <th></th>\n",
              "      <th></th>\n",
              "      <th></th>\n",
              "      <th></th>\n",
              "      <th></th>\n",
              "      <th></th>\n",
              "      <th></th>\n",
              "      <th></th>\n",
              "      <th></th>\n",
              "      <th></th>\n",
              "      <th></th>\n",
              "      <th></th>\n",
              "      <th></th>\n",
              "      <th></th>\n",
              "      <th></th>\n",
              "      <th></th>\n",
              "      <th></th>\n",
              "      <th></th>\n",
              "      <th></th>\n",
              "      <th></th>\n",
              "      <th></th>\n",
              "      <th></th>\n",
              "      <th></th>\n",
              "      <th></th>\n",
              "      <th></th>\n",
              "      <th></th>\n",
              "      <th></th>\n",
              "      <th></th>\n",
              "      <th></th>\n",
              "      <th></th>\n",
              "      <th></th>\n",
              "      <th></th>\n",
              "      <th></th>\n",
              "    </tr>\n",
              "  </thead>\n",
              "  <tbody>\n",
              "    <tr>\n",
              "      <th>A0078719IR14X3NNUG0F</th>\n",
              "      <td>0.0</td>\n",
              "      <td>0.0</td>\n",
              "      <td>0.0</td>\n",
              "      <td>0.0</td>\n",
              "      <td>0.0</td>\n",
              "      <td>0.0</td>\n",
              "      <td>0.0</td>\n",
              "      <td>0.0</td>\n",
              "      <td>0.0</td>\n",
              "      <td>0.0</td>\n",
              "      <td>0.0</td>\n",
              "      <td>0.0</td>\n",
              "      <td>0.0</td>\n",
              "      <td>0.0</td>\n",
              "      <td>0.0</td>\n",
              "      <td>0.0</td>\n",
              "      <td>0.0</td>\n",
              "      <td>0.0</td>\n",
              "      <td>0.0</td>\n",
              "      <td>0.0</td>\n",
              "      <td>0.0</td>\n",
              "      <td>0.0</td>\n",
              "      <td>0.0</td>\n",
              "      <td>0.0</td>\n",
              "      <td>0.0</td>\n",
              "      <td>0.0</td>\n",
              "      <td>0.0</td>\n",
              "      <td>0.0</td>\n",
              "      <td>0.0</td>\n",
              "      <td>0.0</td>\n",
              "      <td>0.0</td>\n",
              "      <td>0.0</td>\n",
              "      <td>0.0</td>\n",
              "      <td>0.0</td>\n",
              "      <td>0.0</td>\n",
              "      <td>0.0</td>\n",
              "      <td>0.0</td>\n",
              "      <td>0.0</td>\n",
              "      <td>0.0</td>\n",
              "      <td>0.0</td>\n",
              "      <td>...</td>\n",
              "      <td>0.0</td>\n",
              "      <td>0.0</td>\n",
              "      <td>0.0</td>\n",
              "      <td>0.0</td>\n",
              "      <td>0.0</td>\n",
              "      <td>0.0</td>\n",
              "      <td>0.0</td>\n",
              "      <td>0.0</td>\n",
              "      <td>0.0</td>\n",
              "      <td>0.0</td>\n",
              "      <td>0.0</td>\n",
              "      <td>0.0</td>\n",
              "      <td>0.0</td>\n",
              "      <td>0.0</td>\n",
              "      <td>0.0</td>\n",
              "      <td>0.0</td>\n",
              "      <td>0.0</td>\n",
              "      <td>0.0</td>\n",
              "      <td>0.0</td>\n",
              "      <td>0.0</td>\n",
              "      <td>0.0</td>\n",
              "      <td>0.0</td>\n",
              "      <td>0.0</td>\n",
              "      <td>0.0</td>\n",
              "      <td>0.0</td>\n",
              "      <td>0.0</td>\n",
              "      <td>0.0</td>\n",
              "      <td>0.0</td>\n",
              "      <td>0.0</td>\n",
              "      <td>0.0</td>\n",
              "      <td>0.0</td>\n",
              "      <td>0.0</td>\n",
              "      <td>0.0</td>\n",
              "      <td>0.0</td>\n",
              "      <td>0.0</td>\n",
              "      <td>0.0</td>\n",
              "      <td>0.0</td>\n",
              "      <td>0.0</td>\n",
              "      <td>0.0</td>\n",
              "      <td>0.0</td>\n",
              "    </tr>\n",
              "    <tr>\n",
              "      <th>A02155413BVL8D0G7X6DN</th>\n",
              "      <td>0.0</td>\n",
              "      <td>0.0</td>\n",
              "      <td>0.0</td>\n",
              "      <td>0.0</td>\n",
              "      <td>0.0</td>\n",
              "      <td>0.0</td>\n",
              "      <td>0.0</td>\n",
              "      <td>0.0</td>\n",
              "      <td>0.0</td>\n",
              "      <td>0.0</td>\n",
              "      <td>0.0</td>\n",
              "      <td>0.0</td>\n",
              "      <td>0.0</td>\n",
              "      <td>0.0</td>\n",
              "      <td>0.0</td>\n",
              "      <td>0.0</td>\n",
              "      <td>0.0</td>\n",
              "      <td>0.0</td>\n",
              "      <td>0.0</td>\n",
              "      <td>0.0</td>\n",
              "      <td>0.0</td>\n",
              "      <td>0.0</td>\n",
              "      <td>0.0</td>\n",
              "      <td>0.0</td>\n",
              "      <td>0.0</td>\n",
              "      <td>0.0</td>\n",
              "      <td>0.0</td>\n",
              "      <td>0.0</td>\n",
              "      <td>0.0</td>\n",
              "      <td>0.0</td>\n",
              "      <td>0.0</td>\n",
              "      <td>0.0</td>\n",
              "      <td>0.0</td>\n",
              "      <td>0.0</td>\n",
              "      <td>0.0</td>\n",
              "      <td>0.0</td>\n",
              "      <td>0.0</td>\n",
              "      <td>0.0</td>\n",
              "      <td>0.0</td>\n",
              "      <td>0.0</td>\n",
              "      <td>...</td>\n",
              "      <td>0.0</td>\n",
              "      <td>0.0</td>\n",
              "      <td>0.0</td>\n",
              "      <td>0.0</td>\n",
              "      <td>0.0</td>\n",
              "      <td>0.0</td>\n",
              "      <td>0.0</td>\n",
              "      <td>0.0</td>\n",
              "      <td>0.0</td>\n",
              "      <td>0.0</td>\n",
              "      <td>0.0</td>\n",
              "      <td>0.0</td>\n",
              "      <td>0.0</td>\n",
              "      <td>0.0</td>\n",
              "      <td>0.0</td>\n",
              "      <td>0.0</td>\n",
              "      <td>0.0</td>\n",
              "      <td>0.0</td>\n",
              "      <td>0.0</td>\n",
              "      <td>0.0</td>\n",
              "      <td>0.0</td>\n",
              "      <td>0.0</td>\n",
              "      <td>0.0</td>\n",
              "      <td>0.0</td>\n",
              "      <td>0.0</td>\n",
              "      <td>0.0</td>\n",
              "      <td>0.0</td>\n",
              "      <td>0.0</td>\n",
              "      <td>0.0</td>\n",
              "      <td>0.0</td>\n",
              "      <td>0.0</td>\n",
              "      <td>0.0</td>\n",
              "      <td>0.0</td>\n",
              "      <td>0.0</td>\n",
              "      <td>0.0</td>\n",
              "      <td>0.0</td>\n",
              "      <td>0.0</td>\n",
              "      <td>0.0</td>\n",
              "      <td>0.0</td>\n",
              "      <td>0.0</td>\n",
              "    </tr>\n",
              "    <tr>\n",
              "      <th>A029527620Q3SK5XW16RR</th>\n",
              "      <td>0.0</td>\n",
              "      <td>0.0</td>\n",
              "      <td>0.0</td>\n",
              "      <td>0.0</td>\n",
              "      <td>0.0</td>\n",
              "      <td>0.0</td>\n",
              "      <td>0.0</td>\n",
              "      <td>0.0</td>\n",
              "      <td>0.0</td>\n",
              "      <td>0.0</td>\n",
              "      <td>0.0</td>\n",
              "      <td>0.0</td>\n",
              "      <td>0.0</td>\n",
              "      <td>0.0</td>\n",
              "      <td>0.0</td>\n",
              "      <td>0.0</td>\n",
              "      <td>0.0</td>\n",
              "      <td>0.0</td>\n",
              "      <td>0.0</td>\n",
              "      <td>0.0</td>\n",
              "      <td>0.0</td>\n",
              "      <td>0.0</td>\n",
              "      <td>0.0</td>\n",
              "      <td>0.0</td>\n",
              "      <td>0.0</td>\n",
              "      <td>0.0</td>\n",
              "      <td>0.0</td>\n",
              "      <td>0.0</td>\n",
              "      <td>0.0</td>\n",
              "      <td>0.0</td>\n",
              "      <td>0.0</td>\n",
              "      <td>0.0</td>\n",
              "      <td>0.0</td>\n",
              "      <td>0.0</td>\n",
              "      <td>0.0</td>\n",
              "      <td>0.0</td>\n",
              "      <td>0.0</td>\n",
              "      <td>0.0</td>\n",
              "      <td>0.0</td>\n",
              "      <td>0.0</td>\n",
              "      <td>...</td>\n",
              "      <td>0.0</td>\n",
              "      <td>0.0</td>\n",
              "      <td>0.0</td>\n",
              "      <td>0.0</td>\n",
              "      <td>0.0</td>\n",
              "      <td>0.0</td>\n",
              "      <td>0.0</td>\n",
              "      <td>0.0</td>\n",
              "      <td>0.0</td>\n",
              "      <td>0.0</td>\n",
              "      <td>0.0</td>\n",
              "      <td>0.0</td>\n",
              "      <td>0.0</td>\n",
              "      <td>0.0</td>\n",
              "      <td>0.0</td>\n",
              "      <td>0.0</td>\n",
              "      <td>0.0</td>\n",
              "      <td>0.0</td>\n",
              "      <td>0.0</td>\n",
              "      <td>0.0</td>\n",
              "      <td>0.0</td>\n",
              "      <td>0.0</td>\n",
              "      <td>0.0</td>\n",
              "      <td>0.0</td>\n",
              "      <td>0.0</td>\n",
              "      <td>0.0</td>\n",
              "      <td>0.0</td>\n",
              "      <td>0.0</td>\n",
              "      <td>0.0</td>\n",
              "      <td>0.0</td>\n",
              "      <td>0.0</td>\n",
              "      <td>0.0</td>\n",
              "      <td>0.0</td>\n",
              "      <td>0.0</td>\n",
              "      <td>0.0</td>\n",
              "      <td>0.0</td>\n",
              "      <td>0.0</td>\n",
              "      <td>0.0</td>\n",
              "      <td>0.0</td>\n",
              "      <td>0.0</td>\n",
              "    </tr>\n",
              "    <tr>\n",
              "      <th>A03364251DGXSGA9PSR99</th>\n",
              "      <td>0.0</td>\n",
              "      <td>0.0</td>\n",
              "      <td>0.0</td>\n",
              "      <td>0.0</td>\n",
              "      <td>0.0</td>\n",
              "      <td>0.0</td>\n",
              "      <td>0.0</td>\n",
              "      <td>0.0</td>\n",
              "      <td>0.0</td>\n",
              "      <td>0.0</td>\n",
              "      <td>0.0</td>\n",
              "      <td>0.0</td>\n",
              "      <td>0.0</td>\n",
              "      <td>0.0</td>\n",
              "      <td>0.0</td>\n",
              "      <td>0.0</td>\n",
              "      <td>0.0</td>\n",
              "      <td>0.0</td>\n",
              "      <td>0.0</td>\n",
              "      <td>0.0</td>\n",
              "      <td>0.0</td>\n",
              "      <td>0.0</td>\n",
              "      <td>0.0</td>\n",
              "      <td>0.0</td>\n",
              "      <td>0.0</td>\n",
              "      <td>0.0</td>\n",
              "      <td>0.0</td>\n",
              "      <td>0.0</td>\n",
              "      <td>0.0</td>\n",
              "      <td>0.0</td>\n",
              "      <td>0.0</td>\n",
              "      <td>0.0</td>\n",
              "      <td>0.0</td>\n",
              "      <td>0.0</td>\n",
              "      <td>0.0</td>\n",
              "      <td>0.0</td>\n",
              "      <td>0.0</td>\n",
              "      <td>0.0</td>\n",
              "      <td>0.0</td>\n",
              "      <td>0.0</td>\n",
              "      <td>...</td>\n",
              "      <td>0.0</td>\n",
              "      <td>0.0</td>\n",
              "      <td>0.0</td>\n",
              "      <td>0.0</td>\n",
              "      <td>0.0</td>\n",
              "      <td>0.0</td>\n",
              "      <td>0.0</td>\n",
              "      <td>0.0</td>\n",
              "      <td>0.0</td>\n",
              "      <td>0.0</td>\n",
              "      <td>0.0</td>\n",
              "      <td>0.0</td>\n",
              "      <td>0.0</td>\n",
              "      <td>0.0</td>\n",
              "      <td>0.0</td>\n",
              "      <td>0.0</td>\n",
              "      <td>0.0</td>\n",
              "      <td>0.0</td>\n",
              "      <td>0.0</td>\n",
              "      <td>0.0</td>\n",
              "      <td>0.0</td>\n",
              "      <td>0.0</td>\n",
              "      <td>0.0</td>\n",
              "      <td>0.0</td>\n",
              "      <td>0.0</td>\n",
              "      <td>0.0</td>\n",
              "      <td>0.0</td>\n",
              "      <td>0.0</td>\n",
              "      <td>0.0</td>\n",
              "      <td>0.0</td>\n",
              "      <td>0.0</td>\n",
              "      <td>0.0</td>\n",
              "      <td>0.0</td>\n",
              "      <td>0.0</td>\n",
              "      <td>0.0</td>\n",
              "      <td>0.0</td>\n",
              "      <td>0.0</td>\n",
              "      <td>0.0</td>\n",
              "      <td>0.0</td>\n",
              "      <td>0.0</td>\n",
              "    </tr>\n",
              "    <tr>\n",
              "      <th>A042274212BJJVOBS4Q85</th>\n",
              "      <td>0.0</td>\n",
              "      <td>0.0</td>\n",
              "      <td>0.0</td>\n",
              "      <td>0.0</td>\n",
              "      <td>0.0</td>\n",
              "      <td>0.0</td>\n",
              "      <td>0.0</td>\n",
              "      <td>0.0</td>\n",
              "      <td>0.0</td>\n",
              "      <td>0.0</td>\n",
              "      <td>0.0</td>\n",
              "      <td>0.0</td>\n",
              "      <td>0.0</td>\n",
              "      <td>0.0</td>\n",
              "      <td>0.0</td>\n",
              "      <td>0.0</td>\n",
              "      <td>0.0</td>\n",
              "      <td>0.0</td>\n",
              "      <td>0.0</td>\n",
              "      <td>0.0</td>\n",
              "      <td>0.0</td>\n",
              "      <td>0.0</td>\n",
              "      <td>0.0</td>\n",
              "      <td>0.0</td>\n",
              "      <td>0.0</td>\n",
              "      <td>0.0</td>\n",
              "      <td>0.0</td>\n",
              "      <td>0.0</td>\n",
              "      <td>0.0</td>\n",
              "      <td>0.0</td>\n",
              "      <td>0.0</td>\n",
              "      <td>0.0</td>\n",
              "      <td>0.0</td>\n",
              "      <td>0.0</td>\n",
              "      <td>0.0</td>\n",
              "      <td>0.0</td>\n",
              "      <td>0.0</td>\n",
              "      <td>0.0</td>\n",
              "      <td>0.0</td>\n",
              "      <td>0.0</td>\n",
              "      <td>...</td>\n",
              "      <td>0.0</td>\n",
              "      <td>0.0</td>\n",
              "      <td>0.0</td>\n",
              "      <td>0.0</td>\n",
              "      <td>0.0</td>\n",
              "      <td>0.0</td>\n",
              "      <td>0.0</td>\n",
              "      <td>0.0</td>\n",
              "      <td>0.0</td>\n",
              "      <td>0.0</td>\n",
              "      <td>0.0</td>\n",
              "      <td>0.0</td>\n",
              "      <td>0.0</td>\n",
              "      <td>0.0</td>\n",
              "      <td>0.0</td>\n",
              "      <td>0.0</td>\n",
              "      <td>0.0</td>\n",
              "      <td>0.0</td>\n",
              "      <td>0.0</td>\n",
              "      <td>0.0</td>\n",
              "      <td>0.0</td>\n",
              "      <td>0.0</td>\n",
              "      <td>0.0</td>\n",
              "      <td>0.0</td>\n",
              "      <td>0.0</td>\n",
              "      <td>0.0</td>\n",
              "      <td>0.0</td>\n",
              "      <td>0.0</td>\n",
              "      <td>0.0</td>\n",
              "      <td>0.0</td>\n",
              "      <td>0.0</td>\n",
              "      <td>0.0</td>\n",
              "      <td>0.0</td>\n",
              "      <td>0.0</td>\n",
              "      <td>0.0</td>\n",
              "      <td>0.0</td>\n",
              "      <td>0.0</td>\n",
              "      <td>0.0</td>\n",
              "      <td>0.0</td>\n",
              "      <td>0.0</td>\n",
              "    </tr>\n",
              "  </tbody>\n",
              "</table>\n",
              "<p>5 rows × 55249 columns</p>\n",
              "</div>"
            ],
            "text/plain": [
              "ProductId              0762451459  1304139212  ...  B00LMOT7X4  B00LNOKBYW\n",
              "UserId                                         ...                        \n",
              "A0078719IR14X3NNUG0F          0.0         0.0  ...         0.0         0.0\n",
              "A02155413BVL8D0G7X6DN         0.0         0.0  ...         0.0         0.0\n",
              "A029527620Q3SK5XW16RR         0.0         0.0  ...         0.0         0.0\n",
              "A03364251DGXSGA9PSR99         0.0         0.0  ...         0.0         0.0\n",
              "A042274212BJJVOBS4Q85         0.0         0.0  ...         0.0         0.0\n",
              "\n",
              "[5 rows x 55249 columns]"
            ]
          },
          "metadata": {
            "tags": []
          },
          "execution_count": 31
        }
      ]
    },
    {
      "cell_type": "code",
      "metadata": {
        "id": "15ohREv7WPuz"
      },
      "source": [
        ""
      ],
      "execution_count": 31,
      "outputs": []
    },
    {
      "cell_type": "code",
      "metadata": {
        "colab": {
          "base_uri": "https://localhost:8080/"
        },
        "id": "CVNFhxJSJ5Qf",
        "outputId": "8d49a4e7-9255-495c-fbe4-a6d9e3b13d0b"
      },
      "source": [
        "pivot_matrix = pivot_matrix_df.values\r\n",
        "pivot_matrix[:10]"
      ],
      "execution_count": 32,
      "outputs": [
        {
          "output_type": "execute_result",
          "data": {
            "text/plain": [
              "array([[0., 0., 0., ..., 0., 0., 0.],\n",
              "       [0., 0., 0., ..., 0., 0., 0.],\n",
              "       [0., 0., 0., ..., 0., 0., 0.],\n",
              "       ...,\n",
              "       [0., 0., 0., ..., 0., 0., 0.],\n",
              "       [0., 0., 0., ..., 0., 0., 0.],\n",
              "       [0., 0., 0., ..., 0., 0., 0.]])"
            ]
          },
          "metadata": {
            "tags": []
          },
          "execution_count": 32
        }
      ]
    },
    {
      "cell_type": "code",
      "metadata": {
        "colab": {
          "base_uri": "https://localhost:8080/"
        },
        "id": "Fosue7MmLOOg",
        "outputId": "a96718e1-1642-472d-edc8-7418a7a1286f"
      },
      "source": [
        "users_ids = list(pivot_matrix_df.index)\r\n",
        "users_ids[:10]"
      ],
      "execution_count": 33,
      "outputs": [
        {
          "output_type": "execute_result",
          "data": {
            "text/plain": [
              "['A0078719IR14X3NNUG0F',\n",
              " 'A02155413BVL8D0G7X6DN',\n",
              " 'A029527620Q3SK5XW16RR',\n",
              " 'A03364251DGXSGA9PSR99',\n",
              " 'A042274212BJJVOBS4Q85',\n",
              " 'A07739331MLU43RRRK661',\n",
              " 'A08409921GVN7C8RD97CV',\n",
              " 'A0908131Z7BWYSMRQ16T',\n",
              " 'A100UD67AHFODS',\n",
              " 'A100WO06OQR8BQ']"
            ]
          },
          "metadata": {
            "tags": []
          },
          "execution_count": 33
        }
      ]
    },
    {
      "cell_type": "markdown",
      "metadata": {
        "id": "fs33uYGfLhRg"
      },
      "source": [
        "##SVD"
      ]
    },
    {
      "cell_type": "code",
      "metadata": {
        "id": "XRpHyfF4LUH5"
      },
      "source": [
        "# The number of factors to factor the user-item matrix.\r\n",
        "NUMBER_OF_FACTORS_MF = 30\r\n",
        "\r\n",
        "#Performs matrix factorization of the original user item matrix\r\n",
        "U, sigma, Vt = svds(pivot_matrix, k = NUMBER_OF_FACTORS_MF)"
      ],
      "execution_count": 34,
      "outputs": []
    },
    {
      "cell_type": "code",
      "metadata": {
        "colab": {
          "base_uri": "https://localhost:8080/"
        },
        "id": "oEHHXTDSLliC",
        "outputId": "f53c5c62-8ca7-48ff-c581-a523fddc17ae"
      },
      "source": [
        "pivot_matrix.shape"
      ],
      "execution_count": 35,
      "outputs": [
        {
          "output_type": "execute_result",
          "data": {
            "text/plain": [
              "(11335, 55249)"
            ]
          },
          "metadata": {
            "tags": []
          },
          "execution_count": 35
        }
      ]
    },
    {
      "cell_type": "code",
      "metadata": {
        "colab": {
          "base_uri": "https://localhost:8080/"
        },
        "id": "iuFcVel0L7ql",
        "outputId": "920d6f41-f368-449c-e3c4-0280681034c1"
      },
      "source": [
        "U.shape"
      ],
      "execution_count": 36,
      "outputs": [
        {
          "output_type": "execute_result",
          "data": {
            "text/plain": [
              "(11335, 10)"
            ]
          },
          "metadata": {
            "tags": []
          },
          "execution_count": 36
        }
      ]
    },
    {
      "cell_type": "code",
      "metadata": {
        "colab": {
          "base_uri": "https://localhost:8080/"
        },
        "id": "Bd2Ev-LyMI2W",
        "outputId": "efd7e7e9-bc0a-4512-ba05-59466482856a"
      },
      "source": [
        "sigma = np.diag(sigma)\r\n",
        "sigma.shape"
      ],
      "execution_count": 37,
      "outputs": [
        {
          "output_type": "execute_result",
          "data": {
            "text/plain": [
              "(10, 10)"
            ]
          },
          "metadata": {
            "tags": []
          },
          "execution_count": 37
        }
      ]
    },
    {
      "cell_type": "code",
      "metadata": {
        "colab": {
          "base_uri": "https://localhost:8080/"
        },
        "id": "ofAaeQjGMLN8",
        "outputId": "0dc36279-10f0-43ed-edcd-ec6fb4ac9bc1"
      },
      "source": [
        "Vt.shape"
      ],
      "execution_count": 38,
      "outputs": [
        {
          "output_type": "execute_result",
          "data": {
            "text/plain": [
              "(10, 55249)"
            ]
          },
          "metadata": {
            "tags": []
          },
          "execution_count": 38
        }
      ]
    },
    {
      "cell_type": "code",
      "metadata": {
        "colab": {
          "base_uri": "https://localhost:8080/"
        },
        "id": "Hi-UognaMNZN",
        "outputId": "57f30d83-a5da-4614-a3a3-0607ad10ae91"
      },
      "source": [
        "all_user_predicted_ratings = np.dot(np.dot(U, sigma), Vt) \r\n",
        "all_user_predicted_ratings"
      ],
      "execution_count": 39,
      "outputs": [
        {
          "output_type": "execute_result",
          "data": {
            "text/plain": [
              "array([[ 2.90201109e-05,  4.23574062e-07,  4.23574062e-07, ...,\n",
              "         9.40795223e-04,  1.13814536e-03,  3.64050379e-04],\n",
              "       [ 1.03858807e-03,  1.12397169e-07,  1.12397169e-07, ...,\n",
              "        -3.44822415e-03,  1.01506893e-03,  2.34498847e-05],\n",
              "       [ 2.02706881e-04,  4.52434113e-08,  4.52434113e-08, ...,\n",
              "         6.42053798e-04,  2.82472767e-04,  2.69098639e-05],\n",
              "       ...,\n",
              "       [ 8.69747395e-07,  2.55792088e-08,  2.55792088e-08, ...,\n",
              "         1.58888384e-04,  6.24218893e-05,  2.15291218e-05],\n",
              "       [ 2.49559819e-05,  6.69410771e-09,  6.69410771e-09, ...,\n",
              "        -5.93541019e-05,  5.13797389e-05,  5.47334487e-06],\n",
              "       [ 5.57345212e-04,  1.62161693e-07,  1.62161693e-07, ...,\n",
              "         1.34083240e-03,  8.59535723e-04,  1.18399393e-04]])"
            ]
          },
          "metadata": {
            "tags": []
          },
          "execution_count": 39
        }
      ]
    },
    {
      "cell_type": "code",
      "metadata": {
        "colab": {
          "base_uri": "https://localhost:8080/"
        },
        "id": "1NfQty-UMb_u",
        "outputId": "5aa7d5a2-b37b-46f6-b366-2beb4e4a0018"
      },
      "source": [
        "all_user_predicted_ratings.shape"
      ],
      "execution_count": 40,
      "outputs": [
        {
          "output_type": "execute_result",
          "data": {
            "text/plain": [
              "(11335, 55249)"
            ]
          },
          "metadata": {
            "tags": []
          },
          "execution_count": 40
        }
      ]
    },
    {
      "cell_type": "code",
      "metadata": {
        "colab": {
          "base_uri": "https://localhost:8080/",
          "height": 284
        },
        "id": "VQPGqyvwMb2W",
        "outputId": "85de1ee6-06a1-4819-c9bc-f5bef991e3fa"
      },
      "source": [
        "#Converting the reconstructed matrix back to a Pandas dataframe\r\n",
        "preds_df = pd.DataFrame(all_user_predicted_ratings, columns = pivot_matrix_df.columns, index=users_ids).transpose()\r\n",
        "preds_df.head()"
      ],
      "execution_count": 41,
      "outputs": [
        {
          "output_type": "execute_result",
          "data": {
            "text/html": [
              "<div>\n",
              "<style scoped>\n",
              "    .dataframe tbody tr th:only-of-type {\n",
              "        vertical-align: middle;\n",
              "    }\n",
              "\n",
              "    .dataframe tbody tr th {\n",
              "        vertical-align: top;\n",
              "    }\n",
              "\n",
              "    .dataframe thead th {\n",
              "        text-align: right;\n",
              "    }\n",
              "</style>\n",
              "<table border=\"1\" class=\"dataframe\">\n",
              "  <thead>\n",
              "    <tr style=\"text-align: right;\">\n",
              "      <th></th>\n",
              "      <th>A0078719IR14X3NNUG0F</th>\n",
              "      <th>A02155413BVL8D0G7X6DN</th>\n",
              "      <th>A029527620Q3SK5XW16RR</th>\n",
              "      <th>A03364251DGXSGA9PSR99</th>\n",
              "      <th>A042274212BJJVOBS4Q85</th>\n",
              "      <th>A07739331MLU43RRRK661</th>\n",
              "      <th>A08409921GVN7C8RD97CV</th>\n",
              "      <th>A0908131Z7BWYSMRQ16T</th>\n",
              "      <th>A100UD67AHFODS</th>\n",
              "      <th>A100WO06OQR8BQ</th>\n",
              "      <th>A100ZQDV7L8PVV</th>\n",
              "      <th>A1016Z89IM29SK</th>\n",
              "      <th>A101NJYKW882Y0</th>\n",
              "      <th>A10220YORA6MUU</th>\n",
              "      <th>A1022QCIW8Z720</th>\n",
              "      <th>A102JNFLL0KW7I</th>\n",
              "      <th>A103979529MRJY0U56QI4</th>\n",
              "      <th>A103BJIOJSDJL1</th>\n",
              "      <th>A103WXT3CHVY0H</th>\n",
              "      <th>A103ZVTCQUF348</th>\n",
              "      <th>A1043CGOMHVZQ7</th>\n",
              "      <th>A1047EDJ84IMAS</th>\n",
              "      <th>A104FF3C0UPVA5</th>\n",
              "      <th>A1051DBTLWP5A2</th>\n",
              "      <th>A1057ZABSPSAXE</th>\n",
              "      <th>A105GPLAKST4B4</th>\n",
              "      <th>A105R38CAPDBGU</th>\n",
              "      <th>A105S56ODHGJEK</th>\n",
              "      <th>A106E1N0ZQ4D9W</th>\n",
              "      <th>A106Q1A6LGU4DP</th>\n",
              "      <th>A106YK8JBW1JBP</th>\n",
              "      <th>A107PAB5U6L76G</th>\n",
              "      <th>A1084V41BP7RDH</th>\n",
              "      <th>A108B8OUQ0GHNF</th>\n",
              "      <th>A108LWN98Q5V41</th>\n",
              "      <th>A108S8GV9IJJ96</th>\n",
              "      <th>A108VB7LEU7M6W</th>\n",
              "      <th>A108W62SUWQCL4</th>\n",
              "      <th>A108XP24UESKSV</th>\n",
              "      <th>A1093UZ147FN0Q</th>\n",
              "      <th>...</th>\n",
              "      <th>AZFJDE00JTMPT</th>\n",
              "      <th>AZGK12P6XWY27</th>\n",
              "      <th>AZIDXJ9F7A83Z</th>\n",
              "      <th>AZIFU5UI0G71E</th>\n",
              "      <th>AZIS8K2M1HYPJ</th>\n",
              "      <th>AZJ8PVOKAJS5</th>\n",
              "      <th>AZJFLPEG7D09G</th>\n",
              "      <th>AZK41OIXZ425Y</th>\n",
              "      <th>AZL43EZU06FKF</th>\n",
              "      <th>AZL4Z6X1436BM</th>\n",
              "      <th>AZLE2XFH3JUNG</th>\n",
              "      <th>AZLG1RXKT7EZ8</th>\n",
              "      <th>AZM1SDKXBVJYR</th>\n",
              "      <th>AZM5T3BRXN8ZA</th>\n",
              "      <th>AZMMFZKJB8PV6</th>\n",
              "      <th>AZMY6E8B52L2T</th>\n",
              "      <th>AZN28ZLXYIJDE</th>\n",
              "      <th>AZNNIVT2R0W0L</th>\n",
              "      <th>AZNS7TH82KH9K</th>\n",
              "      <th>AZOK7E2RKF9XD</th>\n",
              "      <th>AZOO27I3Z0IQO</th>\n",
              "      <th>AZP87257LO2A7</th>\n",
              "      <th>AZPHLOJLKZDBD</th>\n",
              "      <th>AZPHYNPEZDMIO</th>\n",
              "      <th>AZR10WSWFD4B5</th>\n",
              "      <th>AZR9KW2ZA9MMA</th>\n",
              "      <th>AZRL9I4SG5ADA</th>\n",
              "      <th>AZTZ7SIIRXLXE</th>\n",
              "      <th>AZUEKJ6P9TFSJ</th>\n",
              "      <th>AZUH2MX87LX7J</th>\n",
              "      <th>AZUI6YY673GW5</th>\n",
              "      <th>AZV2AG96CRJ26</th>\n",
              "      <th>AZW9UD7Z7J0WL</th>\n",
              "      <th>AZWJAXOQMB8EK</th>\n",
              "      <th>AZX1JTTIUYZX4</th>\n",
              "      <th>AZYA6NBTF2843</th>\n",
              "      <th>AZZ91VNEU3XYX</th>\n",
              "      <th>AZZIOU48NE8PC</th>\n",
              "      <th>AZZNK89PXD006</th>\n",
              "      <th>AZZT1ERHBSNQ8</th>\n",
              "    </tr>\n",
              "    <tr>\n",
              "      <th>ProductId</th>\n",
              "      <th></th>\n",
              "      <th></th>\n",
              "      <th></th>\n",
              "      <th></th>\n",
              "      <th></th>\n",
              "      <th></th>\n",
              "      <th></th>\n",
              "      <th></th>\n",
              "      <th></th>\n",
              "      <th></th>\n",
              "      <th></th>\n",
              "      <th></th>\n",
              "      <th></th>\n",
              "      <th></th>\n",
              "      <th></th>\n",
              "      <th></th>\n",
              "      <th></th>\n",
              "      <th></th>\n",
              "      <th></th>\n",
              "      <th></th>\n",
              "      <th></th>\n",
              "      <th></th>\n",
              "      <th></th>\n",
              "      <th></th>\n",
              "      <th></th>\n",
              "      <th></th>\n",
              "      <th></th>\n",
              "      <th></th>\n",
              "      <th></th>\n",
              "      <th></th>\n",
              "      <th></th>\n",
              "      <th></th>\n",
              "      <th></th>\n",
              "      <th></th>\n",
              "      <th></th>\n",
              "      <th></th>\n",
              "      <th></th>\n",
              "      <th></th>\n",
              "      <th></th>\n",
              "      <th></th>\n",
              "      <th></th>\n",
              "      <th></th>\n",
              "      <th></th>\n",
              "      <th></th>\n",
              "      <th></th>\n",
              "      <th></th>\n",
              "      <th></th>\n",
              "      <th></th>\n",
              "      <th></th>\n",
              "      <th></th>\n",
              "      <th></th>\n",
              "      <th></th>\n",
              "      <th></th>\n",
              "      <th></th>\n",
              "      <th></th>\n",
              "      <th></th>\n",
              "      <th></th>\n",
              "      <th></th>\n",
              "      <th></th>\n",
              "      <th></th>\n",
              "      <th></th>\n",
              "      <th></th>\n",
              "      <th></th>\n",
              "      <th></th>\n",
              "      <th></th>\n",
              "      <th></th>\n",
              "      <th></th>\n",
              "      <th></th>\n",
              "      <th></th>\n",
              "      <th></th>\n",
              "      <th></th>\n",
              "      <th></th>\n",
              "      <th></th>\n",
              "      <th></th>\n",
              "      <th></th>\n",
              "      <th></th>\n",
              "      <th></th>\n",
              "      <th></th>\n",
              "      <th></th>\n",
              "      <th></th>\n",
              "      <th></th>\n",
              "    </tr>\n",
              "  </thead>\n",
              "  <tbody>\n",
              "    <tr>\n",
              "      <th>0762451459</th>\n",
              "      <td>2.902011e-05</td>\n",
              "      <td>1.038588e-03</td>\n",
              "      <td>2.027069e-04</td>\n",
              "      <td>1.571658e-04</td>\n",
              "      <td>2.353661e-05</td>\n",
              "      <td>1.627182e-05</td>\n",
              "      <td>7.149241e-07</td>\n",
              "      <td>8.195819e-05</td>\n",
              "      <td>1.123008e-05</td>\n",
              "      <td>2.008569e-03</td>\n",
              "      <td>8.336852e-04</td>\n",
              "      <td>3.516254e-06</td>\n",
              "      <td>1.391626e-05</td>\n",
              "      <td>8.652543e-05</td>\n",
              "      <td>7.731153e-06</td>\n",
              "      <td>-7.427847e-05</td>\n",
              "      <td>0.000248</td>\n",
              "      <td>2.024835e-04</td>\n",
              "      <td>-8.505171e-05</td>\n",
              "      <td>2.696113e-05</td>\n",
              "      <td>9.315704e-06</td>\n",
              "      <td>3.532753e-04</td>\n",
              "      <td>1.151588e-04</td>\n",
              "      <td>6.853843e-05</td>\n",
              "      <td>8.169694e-05</td>\n",
              "      <td>9.242942e-07</td>\n",
              "      <td>3.160329e-05</td>\n",
              "      <td>2.519985e-03</td>\n",
              "      <td>4.389002e-05</td>\n",
              "      <td>5.569638e-04</td>\n",
              "      <td>3.450195e-05</td>\n",
              "      <td>9.303703e-05</td>\n",
              "      <td>1.527605e-04</td>\n",
              "      <td>5.759361e-05</td>\n",
              "      <td>5.927926e-06</td>\n",
              "      <td>1.236365e-04</td>\n",
              "      <td>1.915773e-04</td>\n",
              "      <td>5.479279e-05</td>\n",
              "      <td>1.369513e-03</td>\n",
              "      <td>2.336341e-05</td>\n",
              "      <td>...</td>\n",
              "      <td>2.189428e-05</td>\n",
              "      <td>3.756676e-05</td>\n",
              "      <td>3.332695e-04</td>\n",
              "      <td>2.334987e-04</td>\n",
              "      <td>2.055286e-04</td>\n",
              "      <td>3.634494e-04</td>\n",
              "      <td>-5.779552e-05</td>\n",
              "      <td>7.741777e-05</td>\n",
              "      <td>1.643768e-04</td>\n",
              "      <td>4.935896e-04</td>\n",
              "      <td>3.356175e-05</td>\n",
              "      <td>2.127680e-04</td>\n",
              "      <td>2.470352e-05</td>\n",
              "      <td>1.631502e-05</td>\n",
              "      <td>-9.162391e-05</td>\n",
              "      <td>3.875897e-04</td>\n",
              "      <td>4.516367e-04</td>\n",
              "      <td>7.961121e-05</td>\n",
              "      <td>2.113120e-06</td>\n",
              "      <td>1.211467e-06</td>\n",
              "      <td>6.441203e-04</td>\n",
              "      <td>3.842466e-05</td>\n",
              "      <td>-9.185850e-05</td>\n",
              "      <td>1.308397e-06</td>\n",
              "      <td>4.246473e-05</td>\n",
              "      <td>9.170006e-06</td>\n",
              "      <td>8.427969e-05</td>\n",
              "      <td>1.009960e-04</td>\n",
              "      <td>-8.142615e-05</td>\n",
              "      <td>5.584754e-06</td>\n",
              "      <td>3.767044e-05</td>\n",
              "      <td>6.348480e-05</td>\n",
              "      <td>-4.375692e-05</td>\n",
              "      <td>7.149590e-05</td>\n",
              "      <td>3.243000e-05</td>\n",
              "      <td>8.214481e-05</td>\n",
              "      <td>4.180946e-05</td>\n",
              "      <td>8.697474e-07</td>\n",
              "      <td>2.495598e-05</td>\n",
              "      <td>5.573452e-04</td>\n",
              "    </tr>\n",
              "    <tr>\n",
              "      <th>1304139212</th>\n",
              "      <td>4.235741e-07</td>\n",
              "      <td>1.123972e-07</td>\n",
              "      <td>4.524341e-08</td>\n",
              "      <td>8.508639e-08</td>\n",
              "      <td>9.816004e-09</td>\n",
              "      <td>7.606653e-09</td>\n",
              "      <td>2.840281e-09</td>\n",
              "      <td>2.823086e-07</td>\n",
              "      <td>2.072863e-09</td>\n",
              "      <td>-1.931126e-07</td>\n",
              "      <td>5.644831e-08</td>\n",
              "      <td>1.173041e-09</td>\n",
              "      <td>6.850299e-09</td>\n",
              "      <td>3.185990e-08</td>\n",
              "      <td>2.275991e-07</td>\n",
              "      <td>-2.281746e-08</td>\n",
              "      <td>0.000002</td>\n",
              "      <td>4.438380e-08</td>\n",
              "      <td>-2.383452e-09</td>\n",
              "      <td>6.801307e-09</td>\n",
              "      <td>2.147838e-07</td>\n",
              "      <td>2.834069e-07</td>\n",
              "      <td>3.975857e-08</td>\n",
              "      <td>2.165074e-08</td>\n",
              "      <td>3.408243e-08</td>\n",
              "      <td>1.821490e-08</td>\n",
              "      <td>6.474681e-08</td>\n",
              "      <td>5.075158e-07</td>\n",
              "      <td>2.752923e-08</td>\n",
              "      <td>-1.719338e-08</td>\n",
              "      <td>1.402605e-08</td>\n",
              "      <td>2.786225e-08</td>\n",
              "      <td>5.139518e-08</td>\n",
              "      <td>8.278465e-09</td>\n",
              "      <td>5.643697e-10</td>\n",
              "      <td>7.483804e-07</td>\n",
              "      <td>4.386051e-08</td>\n",
              "      <td>1.687309e-08</td>\n",
              "      <td>2.513085e-07</td>\n",
              "      <td>1.392635e-08</td>\n",
              "      <td>...</td>\n",
              "      <td>8.491385e-09</td>\n",
              "      <td>1.603727e-08</td>\n",
              "      <td>1.843013e-07</td>\n",
              "      <td>7.135090e-08</td>\n",
              "      <td>2.695294e-08</td>\n",
              "      <td>1.272084e-07</td>\n",
              "      <td>3.734897e-07</td>\n",
              "      <td>2.293823e-07</td>\n",
              "      <td>1.382812e-08</td>\n",
              "      <td>1.244819e-07</td>\n",
              "      <td>8.621796e-07</td>\n",
              "      <td>4.548579e-08</td>\n",
              "      <td>7.018082e-09</td>\n",
              "      <td>1.134040e-08</td>\n",
              "      <td>-4.583474e-08</td>\n",
              "      <td>1.615379e-07</td>\n",
              "      <td>1.342961e-07</td>\n",
              "      <td>3.118413e-08</td>\n",
              "      <td>2.073167e-09</td>\n",
              "      <td>1.281306e-09</td>\n",
              "      <td>1.723794e-07</td>\n",
              "      <td>9.525710e-09</td>\n",
              "      <td>3.791151e-07</td>\n",
              "      <td>6.614402e-07</td>\n",
              "      <td>1.749255e-08</td>\n",
              "      <td>2.358799e-09</td>\n",
              "      <td>2.040459e-07</td>\n",
              "      <td>2.107524e-08</td>\n",
              "      <td>-2.601936e-08</td>\n",
              "      <td>2.450262e-08</td>\n",
              "      <td>8.074439e-09</td>\n",
              "      <td>2.638995e-08</td>\n",
              "      <td>-1.341854e-08</td>\n",
              "      <td>3.483579e-08</td>\n",
              "      <td>1.169896e-08</td>\n",
              "      <td>3.515870e-08</td>\n",
              "      <td>1.939903e-08</td>\n",
              "      <td>2.557921e-08</td>\n",
              "      <td>6.694108e-09</td>\n",
              "      <td>1.621617e-07</td>\n",
              "    </tr>\n",
              "    <tr>\n",
              "      <th>130414643X</th>\n",
              "      <td>4.235741e-07</td>\n",
              "      <td>1.123972e-07</td>\n",
              "      <td>4.524341e-08</td>\n",
              "      <td>8.508639e-08</td>\n",
              "      <td>9.816004e-09</td>\n",
              "      <td>7.606653e-09</td>\n",
              "      <td>2.840281e-09</td>\n",
              "      <td>2.823086e-07</td>\n",
              "      <td>2.072863e-09</td>\n",
              "      <td>-1.931126e-07</td>\n",
              "      <td>5.644831e-08</td>\n",
              "      <td>1.173041e-09</td>\n",
              "      <td>6.850299e-09</td>\n",
              "      <td>3.185990e-08</td>\n",
              "      <td>2.275991e-07</td>\n",
              "      <td>-2.281746e-08</td>\n",
              "      <td>0.000002</td>\n",
              "      <td>4.438380e-08</td>\n",
              "      <td>-2.383452e-09</td>\n",
              "      <td>6.801307e-09</td>\n",
              "      <td>2.147838e-07</td>\n",
              "      <td>2.834069e-07</td>\n",
              "      <td>3.975857e-08</td>\n",
              "      <td>2.165074e-08</td>\n",
              "      <td>3.408243e-08</td>\n",
              "      <td>1.821490e-08</td>\n",
              "      <td>6.474681e-08</td>\n",
              "      <td>5.075158e-07</td>\n",
              "      <td>2.752923e-08</td>\n",
              "      <td>-1.719338e-08</td>\n",
              "      <td>1.402605e-08</td>\n",
              "      <td>2.786225e-08</td>\n",
              "      <td>5.139518e-08</td>\n",
              "      <td>8.278465e-09</td>\n",
              "      <td>5.643697e-10</td>\n",
              "      <td>7.483804e-07</td>\n",
              "      <td>4.386051e-08</td>\n",
              "      <td>1.687309e-08</td>\n",
              "      <td>2.513085e-07</td>\n",
              "      <td>1.392635e-08</td>\n",
              "      <td>...</td>\n",
              "      <td>8.491385e-09</td>\n",
              "      <td>1.603727e-08</td>\n",
              "      <td>1.843013e-07</td>\n",
              "      <td>7.135090e-08</td>\n",
              "      <td>2.695294e-08</td>\n",
              "      <td>1.272084e-07</td>\n",
              "      <td>3.734897e-07</td>\n",
              "      <td>2.293823e-07</td>\n",
              "      <td>1.382812e-08</td>\n",
              "      <td>1.244819e-07</td>\n",
              "      <td>8.621796e-07</td>\n",
              "      <td>4.548579e-08</td>\n",
              "      <td>7.018082e-09</td>\n",
              "      <td>1.134040e-08</td>\n",
              "      <td>-4.583474e-08</td>\n",
              "      <td>1.615379e-07</td>\n",
              "      <td>1.342961e-07</td>\n",
              "      <td>3.118413e-08</td>\n",
              "      <td>2.073167e-09</td>\n",
              "      <td>1.281306e-09</td>\n",
              "      <td>1.723794e-07</td>\n",
              "      <td>9.525710e-09</td>\n",
              "      <td>3.791151e-07</td>\n",
              "      <td>6.614402e-07</td>\n",
              "      <td>1.749255e-08</td>\n",
              "      <td>2.358799e-09</td>\n",
              "      <td>2.040459e-07</td>\n",
              "      <td>2.107524e-08</td>\n",
              "      <td>-2.601936e-08</td>\n",
              "      <td>2.450262e-08</td>\n",
              "      <td>8.074439e-09</td>\n",
              "      <td>2.638995e-08</td>\n",
              "      <td>-1.341854e-08</td>\n",
              "      <td>3.483579e-08</td>\n",
              "      <td>1.169896e-08</td>\n",
              "      <td>3.515870e-08</td>\n",
              "      <td>1.939903e-08</td>\n",
              "      <td>2.557921e-08</td>\n",
              "      <td>6.694108e-09</td>\n",
              "      <td>1.621617e-07</td>\n",
              "    </tr>\n",
              "    <tr>\n",
              "      <th>1304174867</th>\n",
              "      <td>4.235741e-07</td>\n",
              "      <td>1.123972e-07</td>\n",
              "      <td>4.524341e-08</td>\n",
              "      <td>8.508639e-08</td>\n",
              "      <td>9.816004e-09</td>\n",
              "      <td>7.606653e-09</td>\n",
              "      <td>2.840281e-09</td>\n",
              "      <td>2.823086e-07</td>\n",
              "      <td>2.072863e-09</td>\n",
              "      <td>-1.931126e-07</td>\n",
              "      <td>5.644831e-08</td>\n",
              "      <td>1.173041e-09</td>\n",
              "      <td>6.850299e-09</td>\n",
              "      <td>3.185990e-08</td>\n",
              "      <td>2.275991e-07</td>\n",
              "      <td>-2.281746e-08</td>\n",
              "      <td>0.000002</td>\n",
              "      <td>4.438380e-08</td>\n",
              "      <td>-2.383452e-09</td>\n",
              "      <td>6.801307e-09</td>\n",
              "      <td>2.147838e-07</td>\n",
              "      <td>2.834069e-07</td>\n",
              "      <td>3.975857e-08</td>\n",
              "      <td>2.165074e-08</td>\n",
              "      <td>3.408243e-08</td>\n",
              "      <td>1.821490e-08</td>\n",
              "      <td>6.474681e-08</td>\n",
              "      <td>5.075158e-07</td>\n",
              "      <td>2.752923e-08</td>\n",
              "      <td>-1.719338e-08</td>\n",
              "      <td>1.402605e-08</td>\n",
              "      <td>2.786225e-08</td>\n",
              "      <td>5.139518e-08</td>\n",
              "      <td>8.278465e-09</td>\n",
              "      <td>5.643697e-10</td>\n",
              "      <td>7.483804e-07</td>\n",
              "      <td>4.386051e-08</td>\n",
              "      <td>1.687309e-08</td>\n",
              "      <td>2.513085e-07</td>\n",
              "      <td>1.392635e-08</td>\n",
              "      <td>...</td>\n",
              "      <td>8.491385e-09</td>\n",
              "      <td>1.603727e-08</td>\n",
              "      <td>1.843013e-07</td>\n",
              "      <td>7.135090e-08</td>\n",
              "      <td>2.695294e-08</td>\n",
              "      <td>1.272084e-07</td>\n",
              "      <td>3.734897e-07</td>\n",
              "      <td>2.293823e-07</td>\n",
              "      <td>1.382812e-08</td>\n",
              "      <td>1.244819e-07</td>\n",
              "      <td>8.621796e-07</td>\n",
              "      <td>4.548579e-08</td>\n",
              "      <td>7.018082e-09</td>\n",
              "      <td>1.134040e-08</td>\n",
              "      <td>-4.583474e-08</td>\n",
              "      <td>1.615379e-07</td>\n",
              "      <td>1.342961e-07</td>\n",
              "      <td>3.118413e-08</td>\n",
              "      <td>2.073167e-09</td>\n",
              "      <td>1.281306e-09</td>\n",
              "      <td>1.723794e-07</td>\n",
              "      <td>9.525710e-09</td>\n",
              "      <td>3.791151e-07</td>\n",
              "      <td>6.614402e-07</td>\n",
              "      <td>1.749255e-08</td>\n",
              "      <td>2.358799e-09</td>\n",
              "      <td>2.040459e-07</td>\n",
              "      <td>2.107524e-08</td>\n",
              "      <td>-2.601936e-08</td>\n",
              "      <td>2.450262e-08</td>\n",
              "      <td>8.074439e-09</td>\n",
              "      <td>2.638995e-08</td>\n",
              "      <td>-1.341854e-08</td>\n",
              "      <td>3.483579e-08</td>\n",
              "      <td>1.169896e-08</td>\n",
              "      <td>3.515870e-08</td>\n",
              "      <td>1.939903e-08</td>\n",
              "      <td>2.557921e-08</td>\n",
              "      <td>6.694108e-09</td>\n",
              "      <td>1.621617e-07</td>\n",
              "    </tr>\n",
              "    <tr>\n",
              "      <th>1304351475</th>\n",
              "      <td>1.446723e-03</td>\n",
              "      <td>2.580736e-06</td>\n",
              "      <td>2.300146e-05</td>\n",
              "      <td>1.934878e-04</td>\n",
              "      <td>1.885295e-05</td>\n",
              "      <td>1.495303e-05</td>\n",
              "      <td>9.766500e-06</td>\n",
              "      <td>9.249360e-04</td>\n",
              "      <td>6.042484e-06</td>\n",
              "      <td>-1.892921e-04</td>\n",
              "      <td>1.183653e-04</td>\n",
              "      <td>1.848546e-06</td>\n",
              "      <td>1.477598e-05</td>\n",
              "      <td>3.976832e-05</td>\n",
              "      <td>7.911392e-04</td>\n",
              "      <td>6.453684e-05</td>\n",
              "      <td>0.007023</td>\n",
              "      <td>1.787336e-04</td>\n",
              "      <td>4.970699e-05</td>\n",
              "      <td>3.557112e-05</td>\n",
              "      <td>7.346291e-04</td>\n",
              "      <td>8.691496e-04</td>\n",
              "      <td>6.102750e-05</td>\n",
              "      <td>3.542347e-05</td>\n",
              "      <td>7.164892e-05</td>\n",
              "      <td>6.267134e-05</td>\n",
              "      <td>2.077860e-04</td>\n",
              "      <td>-2.515971e-05</td>\n",
              "      <td>5.073500e-05</td>\n",
              "      <td>4.822330e-05</td>\n",
              "      <td>2.367187e-05</td>\n",
              "      <td>5.182718e-05</td>\n",
              "      <td>6.954779e-05</td>\n",
              "      <td>1.225595e-05</td>\n",
              "      <td>7.216861e-07</td>\n",
              "      <td>2.534003e-03</td>\n",
              "      <td>5.065118e-05</td>\n",
              "      <td>2.416330e-05</td>\n",
              "      <td>1.348985e-05</td>\n",
              "      <td>3.364724e-05</td>\n",
              "      <td>...</td>\n",
              "      <td>2.066263e-05</td>\n",
              "      <td>3.133013e-05</td>\n",
              "      <td>4.052439e-04</td>\n",
              "      <td>1.123538e-04</td>\n",
              "      <td>1.644577e-05</td>\n",
              "      <td>1.687645e-04</td>\n",
              "      <td>1.428457e-03</td>\n",
              "      <td>7.774274e-04</td>\n",
              "      <td>2.387567e-06</td>\n",
              "      <td>1.468877e-04</td>\n",
              "      <td>2.976900e-03</td>\n",
              "      <td>6.113319e-05</td>\n",
              "      <td>1.183523e-05</td>\n",
              "      <td>2.618045e-05</td>\n",
              "      <td>1.368955e-05</td>\n",
              "      <td>3.567710e-04</td>\n",
              "      <td>2.339301e-04</td>\n",
              "      <td>6.646983e-05</td>\n",
              "      <td>6.463254e-06</td>\n",
              "      <td>3.501447e-06</td>\n",
              "      <td>2.931191e-04</td>\n",
              "      <td>1.168130e-05</td>\n",
              "      <td>1.348194e-03</td>\n",
              "      <td>2.292201e-03</td>\n",
              "      <td>3.467208e-05</td>\n",
              "      <td>3.670006e-06</td>\n",
              "      <td>6.569578e-04</td>\n",
              "      <td>4.077065e-05</td>\n",
              "      <td>5.354986e-05</td>\n",
              "      <td>8.030165e-05</td>\n",
              "      <td>2.812952e-06</td>\n",
              "      <td>5.131115e-05</td>\n",
              "      <td>7.182334e-05</td>\n",
              "      <td>7.007733e-05</td>\n",
              "      <td>2.383690e-05</td>\n",
              "      <td>6.945768e-05</td>\n",
              "      <td>3.959288e-05</td>\n",
              "      <td>8.386583e-05</td>\n",
              "      <td>1.101589e-05</td>\n",
              "      <td>2.346674e-04</td>\n",
              "    </tr>\n",
              "  </tbody>\n",
              "</table>\n",
              "<p>5 rows × 11335 columns</p>\n",
              "</div>"
            ],
            "text/plain": [
              "            A0078719IR14X3NNUG0F  ...  AZZT1ERHBSNQ8\n",
              "ProductId                         ...               \n",
              "0762451459          2.902011e-05  ...   5.573452e-04\n",
              "1304139212          4.235741e-07  ...   1.621617e-07\n",
              "130414643X          4.235741e-07  ...   1.621617e-07\n",
              "1304174867          4.235741e-07  ...   1.621617e-07\n",
              "1304351475          1.446723e-03  ...   2.346674e-04\n",
              "\n",
              "[5 rows x 11335 columns]"
            ]
          },
          "metadata": {
            "tags": []
          },
          "execution_count": 41
        }
      ]
    },
    {
      "cell_type": "code",
      "metadata": {
        "colab": {
          "base_uri": "https://localhost:8080/"
        },
        "id": "ofQQPJ2PWKIe",
        "outputId": "4198583c-3f95-422e-fbcf-3b6a70f4aaa1"
      },
      "source": [
        "df2['reviewerID'].value_counts()"
      ],
      "execution_count": 42,
      "outputs": [
        {
          "output_type": "execute_result",
          "data": {
            "text/plain": [
              "A2V5R832QCSOMX    204\n",
              "ALNFHVS3SC4FV     192\n",
              "AKMEY1BSHSDG7     182\n",
              "A3KEZLJ59C1JVH    154\n",
              "ALQGOMOY1F5X9     150\n",
              "                 ... \n",
              "A2ZT5T3FBCOXQV      5\n",
              "A1NCBAR3ANANGR      5\n",
              "A2RE87ZZU4D5JK      5\n",
              "A1WA5SRH3ZYIQJ      5\n",
              "AZM2QKIIGG9I2       5\n",
              "Name: reviewerID, Length: 22363, dtype: int64"
            ]
          },
          "metadata": {
            "tags": []
          },
          "execution_count": 42
        }
      ]
    },
    {
      "cell_type": "code",
      "metadata": {
        "id": "_IdXZ-eGbq4N"
      },
      "source": [
        ""
      ],
      "execution_count": 42,
      "outputs": []
    }
  ]
}